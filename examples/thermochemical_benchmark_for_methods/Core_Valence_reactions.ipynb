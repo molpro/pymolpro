{
 "cells": [
  {
   "cell_type": "markdown",
   "metadata": {},
   "source": [
    "# Closed shell reactions with core correlation"
   ]
  },
  {
   "cell_type": "markdown",
   "metadata": {},
   "source": [
    "Bak et al., [doi:10.1063/1.1357225](https://doi.org/10.1063/1.1357225) and [doi:10.1063/1.481544](https://doi.org/10.1063/1.481544)"
   ]
  },
  {
   "cell_type": "code",
   "execution_count": 1,
   "metadata": {},
   "outputs": [],
   "source": [
    "import numpy as np\n",
    "import pandas as pd\n",
    "import scipy.stats as stats\n",
    "import matplotlib.pyplot as plt\n",
    "from pysjef import all_completed, DirectoryNode\n",
    "from pysjef_molpro import no_errors, Project\n",
    "from shutil import rmtree\n",
    "from os.path import exists\n",
    "pd.set_option(\"display.precision\",2)"
   ]
  },
  {
   "cell_type": "code",
   "execution_count": 2,
   "metadata": {},
   "outputs": [],
   "source": [
    "backend = 'local' # If preferred, change this to one of the backends in your ~/.sjef/molpro/backends.xml that is ssh-accessible\n",
    "project_name = 'Core_Valence_reactions'\n",
    "parallel = 7 # how many jobs to run at once"
   ]
  },
  {
   "cell_type": "code",
   "execution_count": 3,
   "metadata": {},
   "outputs": [],
   "source": [
    "methods = ['HF','MP2','MP3','PAPT2','PAPT3', 'CCSD','MP4','PAPT4', 'CCSD(T)']\n",
    "bases = ['cc-pCVDZ','cc-pCVTZ','cc-pCVQZ', 'cc-pCV5Z']"
   ]
  },
  {
   "cell_type": "code",
   "execution_count": 4,
   "metadata": {},
   "outputs": [],
   "source": [
    "closed_shell_methods={'B3LYP' : \"ks, b3lyp\", \"HF\" : \"hf\", \"MP2\":\"mp2\",\"MP3\":\"mp3\",\"MP4\":\"mp4\",\"CCSD\":\"ccsd\",\"CCSD(T)\":\"ccsd(t)\", \"PAPT2\":\"papt;mp2\", \"PAPT3\":\"papt;mp3\", \"PAPT4\":\"papt;mp4\"}"
   ]
  },
  {
   "cell_type": "code",
   "execution_count": 5,
   "metadata": {
    "scrolled": true
   },
   "outputs": [],
   "source": [
    "molecules={}\n",
    "molecules[\"F2\"] = {\"De_exp\" : 163.35, \"De_calc\" : 161.04, \"geometry\" : \"F;F,F,1.41134168\", \"stoichiometry\": \"FF\"}\n",
    "molecules[\"H2\"] = {\"De_exp\" : 458.04, \"De_calc\" : 458.13, \"geometry\" : \"H;H,H,0.74184515\", \"stoichiometry\": \"HH\"}\n",
    "molecules[\"HF\"] = {\"De_exp\" : 593.16, \"De_calc\" : 593.20, \"geometry\" : \"H;F,H,0.91576748\", \"stoichiometry\": \"HF\"}\n",
    "molecules[\"CH2\"] = {\"De_exp\" : 757.06, \"De_calc\" : 575.87, \"geometry\" : \"C;H,C,1.10678917;H,C,1.10678917,H,102.02249921\", \"stoichiometry\": \"CHH\"}\n",
    "molecules[\"HNO\"] = {\"De_exp\" : 861.50, \"De_calc\" : 860.12, \"geometry\" : \"H;N,H,1.05238269;O,N,1.20847128,H,108.08480747\", \"stoichiometry\": \"HNO\"}\n",
    "molecules[\"N2\"] = {\"De_exp\" : 956.28, \"De_calc\" : 954.68, \"geometry\" : \"N;N,N,1.09811947\", \"stoichiometry\": \"NN\"}\n",
    "molecules[\"H2O\"] = {\"De_exp\" : 975.28, \"De_calc\" : 975.32, \"geometry\" : \"H;O,H,0.95711647;H,O,0.95711647,H,104.22359713\", \"stoichiometry\": \"HHO\"}\n",
    "molecules[\"CO\"] = {\"De_exp\" : 1086.70, \"De_calc\" : 1086.70, \"geometry\" : \"C;O,C,1.12887680\", \"stoichiometry\": \"CO\"}\n",
    "molecules[\"H2O2\"] = {\"De_exp\" : 1126.91, \"De_calc\" : 1125.82, \"geometry\" : \"H1;O1,H1,0.9619;O2,O1,1.4497,H1,99.99;H2,O2,0.9619,O1,99.99,H1,112.7\", \"stoichiometry\": \"HHOO\"}\n",
    "molecules[\"NH3\"] = {\"De_exp\" : 1247.88, \"De_calc\" : 1247.15, \"geometry\" : \"N1;X,N1,10;H1,N1,1.01116937,X,112.42635522;H2,N1,1.01116937,X,112.42635522,H1,120;H3,N1,1.01116937,X,112.42635522,H2,120\", \"stoichiometry\": \"NHHH\"}\n",
    "molecules[\"HCN\"] = {\"De_exp\" : 1312.75, \"De_calc\" : 1310.72, \"geometry\" : \"H;C,H,1.06553056;N,C,1.15383982,H,180\", \"stoichiometry\": \"HCN\"}\n",
    "molecules[\"CH2O\"] = {\"De_exp\" : 1566.58, \"De_calc\" : 1567.78, \"geometry\" : \"C;O,C,1.20430342;H1,C,1.10077162,O,121.78046616;H2,C,1.10077162,O,121.78046616,H1,180\", \"stoichiometry\": \"CHHO\"}\n",
    "molecules[\"CO2\"] = {\"De_exp\" : 1632.46, \"De_calc\" : 1632.77, \"geometry\" : \"O1;C,O1,1.16039505;O2,C,1.16039505,O1,180\", \"stoichiometry\": \"COO\"}\n",
    "molecules[\"C2H2\"] = {\"De_exp\" : 1697.84, \"De_calc\" : 1696.81, \"geometry\" : \"H1;C1,H1,1.06209557;C2,C1,1.20366063,H1,180;H2,C2,1.06209557,C1,180,H1,0\", \"stoichiometry\": \"CCHH\"}\n",
    "molecules[\"CH4\"] = {\"De_exp\" : 1759.33, \"De_calc\" : 1759.30, \"geometry\" : \"C1;H4,C1,1.08637390;H1,C1,1.08637390,H4,109.47122063;H2,C1,1.08637390,H4,109.47122063,H1,120;H3,C1,1.08637390,H4,109.47122063,H2,120\", \"stoichiometry\": \"CHHHH\"}\n",
    "molecules[\"C2H4\"] = {\"De_exp\" : 2359.82, \"De_calc\" : 2360.55, \"geometry\" : \"C1;C2,C1,1.33117445;H11,C1,1.08089487,C2,121.44926360;H12,C1,1.08089487,C2,121.44926360,H11,180;H21,C2,1.08089487,C1,121.44926360,H11,0;H22,C2,1.08089487,C1,121.44926360,H12,0\", \"stoichiometry\": \"CCHHHH\"}"
   ]
  },
  {
   "cell_type": "code",
   "execution_count": 6,
   "metadata": {},
   "outputs": [],
   "source": [
    "def proj(molecule,method,basis):\n",
    "    return Project((molecule+\"--\"+method+\"--\"+basis).replace('(T)','-T'),location=project_name,suffix='molpro')"
   ]
  },
  {
   "cell_type": "code",
   "execution_count": 7,
   "metadata": {
    "scrolled": true
   },
   "outputs": [],
   "source": [
    "projects=[]\n",
    "import os\n",
    "if not os.path.isdir(project_name): os.mkdir(project_name)\n",
    "for method in methods:\n",
    "    for basis in bases:\n",
    "        for molecule, content in (molecules).items():\n",
    "            p = proj(molecule,method,basis)\n",
    "            projects.append(p)\n",
    "            p.write_input(\n",
    "            f\"\"\"memory,1,g;\n",
    "angstrom;geometry={{\n",
    "{content[\"geometry\"]}\n",
    "}}\n",
    "basis = {basis}\n",
    "rhf;{\"{mp2;core}\" if method != \"HF\" else \"\"}\n",
    "{open_shell_methods[method] if content.get(\"open_shell\") else closed_shell_methods[method]}\n",
    "            \"\"\")"
   ]
  },
  {
   "cell_type": "code",
   "execution_count": 8,
   "metadata": {},
   "outputs": [
    {
     "name": "stdout",
     "output_type": "stream",
     "text": [
      "all completed True\n",
      "without errors True\n"
     ]
    }
   ],
   "source": [
    "from multiprocessing.dummy import Pool\n",
    "from operator import methodcaller\n",
    "with Pool(processes=parallel) as pool:\n",
    "    pool.map(methodcaller('run', backend=backend, wait=True),\n",
    "             projects, 1)\n",
    "print('all completed', all_completed(projects))\n",
    "print('without errors', no_errors(projects))\n",
    "\n",
    "for method in methods:\n",
    "    for basis in bases:\n",
    "        for name, molecule in (molecules).items():\n",
    "            if proj(name,method,basis).status == 'failed':\n",
    "                print(\"Failed run: \",method, basis, name,proj(name,method,basis).error_messages())\n",
    "\n",
    "if not (all_completed(projects) and no_errors(projects)):\n",
    "    assert False"
   ]
  },
  {
   "cell_type": "code",
   "execution_count": 9,
   "metadata": {
    "scrolled": true
   },
   "outputs": [],
   "source": [
    "def get_energy(proj):\n",
    "    return ([None]+proj.select('//jobstep/property[name=Energy].value') + proj.select('//jobstep/property[name=total energy].value'))[-1]\n",
    "\n",
    "energies={}\n",
    "for method in methods:\n",
    "    energies[method]={}\n",
    "    for basis in bases:\n",
    "        energies[method][basis]={}\n",
    "        for name, molecule in (molecules).items():\n",
    "            energies[method][basis][name]=get_energy(proj(name,method,basis))"
   ]
  },
  {
   "cell_type": "markdown",
   "metadata": {},
   "source": [
    "## Extrapolation"
   ]
  },
  {
   "cell_type": "code",
   "execution_count": 10,
   "metadata": {},
   "outputs": [],
   "source": [
    "extrapolations={}\n",
    "if 'cc-pCVDZ' in bases and 'cc-pCVTZ' in bases:\n",
    "    extrapolations[\"DT\"]={'x':2, 'first':'cc-pCVDZ', 'second':'cc-pCVTZ'}\n",
    "if 'cc-pCVTZ' in bases and 'cc-pCVQZ' in bases:\n",
    "    extrapolations[\"TQ\"]={'x':3, 'first':'cc-pCVTZ', 'second':'cc-pCVQZ'}\n",
    "if 'cc-pCVQZ' in bases and 'cc-pCV5Z' in bases:\n",
    "    extrapolations[\"Q5\"]={'x':4, 'first':'cc-pCVQZ', 'second':'cc-pCV5Z'}\n",
    "\n",
    "for extr in extrapolations:\n",
    "    x=extrapolations[extr]['x']\n",
    "    xbas=extrapolations[extr]['first']\n",
    "    xpbas=extrapolations[extr]['second']\n",
    "    for method in methods:\n",
    "        energies[method][extr]={}\n",
    "        for molecule in molecules:\n",
    "            energies[method][extr][molecule] = energies['HF'][xpbas][molecule] + (\n",
    "                x*x*x*(energies[method][xbas][molecule]-energies['HF'][xbas][molecule])\n",
    "                -(x+1)*(x+1)*(x+1)*(energies[method][xpbas][molecule]-energies['HF'][xpbas][molecule])\n",
    "            ) / (x*x*x-(x+1)*(x+1)*(x+1))\n",
    "    bases.append(extr) if extr not in bases else \"\""
   ]
  },
  {
   "cell_type": "markdown",
   "metadata": {},
   "source": [
    "## Calculated enthalpy changes"
   ]
  },
  {
   "cell_type": "code",
   "execution_count": 11,
   "metadata": {},
   "outputs": [],
   "source": [
    "reactions={}\n",
    "reactions[\"1\"] = {\"CO\" : -1, \"H2\" : -1, \"CH2O\" : +1}\n",
    "reactions[\"2\"] = {\"N2\" : -1, \"H2\" : -3, \"NH3\" : +2}\n",
    "reactions[\"3\"] = {\"C2H2\" : -1, \"H2\" : -1, \"C2H4\" : +1}\n",
    "reactions[\"4\"] = {\"CO2\" : -1, \"H2\" : -4, \"CH4\" : +1, \"H2O\" : +2}\n",
    "reactions[\"5\"] = {\"CH2O\" : -1, \"H2\" : -2, \"CH4\" : +1, \"H2O\" : +1}\n",
    "reactions[\"6\"] = {\"CO\" : -1, \"H2\" : -3, \"CH4\" : +1, \"H2O\" : +1}\n",
    "reactions[\"7\"] = {\"HCN\" : -1, \"H2\" : -3, \"CH4\" : +1, \"NH3\" : +1}\n",
    "reactions[\"8\"] = {\"H2O2\" : -1, \"H2\" : -1, \"H2O\" : +2}\n",
    "reactions[\"9\"] = {\"HNO\" : -1, \"H2\" : -2, \"H2O\" : +1, \"NH3\" : +1}\n",
    "reactions[\"10\"] = {\"C2H2\" : -1, \"H2\" : -3, \"CH4\" : +2}\n",
    "reactions[\"11\"] = {\"CH2\" : -1, \"H2\" : -1, \"CH4\" : +1}\n",
    "reactions[\"12\"] = {\"F2\" : -1, \"H2\" : -1, \"HF\" : +2}\n",
    "reactions[\"13\"] = {\"CH2\" : -2, \"C2H4\" : +1}"
   ]
  },
  {
   "cell_type": "code",
   "execution_count": 12,
   "metadata": {},
   "outputs": [],
   "source": [
    "Molpro_enthalpy={}\n",
    "for method in methods:\n",
    "    Molpro_enthalpy[method]={}\n",
    "    for basis in bases:\n",
    "        Molpro_enthalpy[method][basis]={}\n",
    "        for name in reactions:\n",
    "            reaction_enthalpy_au = 0\n",
    "            for molecule in reactions[name]:\n",
    "                reaction_enthalpy_au += energies[method][basis][molecule] * reactions[name][molecule]\n",
    "            reaction_enthalpy_kjmol = reaction_enthalpy_au * 2625.49963948\n",
    "            Molpro_enthalpy[method][basis][name] =+ reaction_enthalpy_kjmol\n",
    "            "
   ]
  },
  {
   "cell_type": "markdown",
   "metadata": {},
   "source": [
    "## Reference experimental and calculated reaction enthalpy changes "
   ]
  },
  {
   "cell_type": "code",
   "execution_count": 13,
   "metadata": {},
   "outputs": [],
   "source": [
    "Exp_enthalpy={}\n",
    "for name in reactions:\n",
    "    reaction_enthalpy_kjmol = 0\n",
    "    for molecule in reactions[name]:\n",
    "        reaction_enthalpy_kjmol -= molecules[molecule][\"De_exp\"] * reactions[name][molecule]\n",
    "    Exp_enthalpy[name] =+ reaction_enthalpy_kjmol"
   ]
  },
  {
   "cell_type": "code",
   "execution_count": 14,
   "metadata": {},
   "outputs": [],
   "source": [
    "Calc_enthalpy={}\n",
    "for name in reactions:\n",
    "    reaction_enthalpy_kjmol = 0\n",
    "    for molecule in reactions[name]:\n",
    "        reaction_enthalpy_kjmol -= molecules[molecule][\"De_calc\"] * reactions[name][molecule]\n",
    "    Calc_enthalpy[name] =+ reaction_enthalpy_kjmol"
   ]
  },
  {
   "cell_type": "markdown",
   "metadata": {},
   "source": [
    "## Statistical analysis of calculated enthalpy changes"
   ]
  },
  {
   "cell_type": "code",
   "execution_count": 15,
   "metadata": {},
   "outputs": [],
   "source": [
    "def collect_errors(reference_data):\n",
    "    e={}\n",
    "    for basis in bases:\n",
    "        e[basis]={}\n",
    "        for method in methods:\n",
    "            e[basis][method]={}\n",
    "            for reaction in reactions:\n",
    "                e[basis][method][reaction] = Molpro_enthalpy[method][basis][reaction] - reference_data[reaction]\n",
    "    return e\n",
    "error_with_respect_to_experimental_enthalpy=collect_errors(Exp_enthalpy)\n",
    "error_with_respect_to_calculated_enthalpy=collect_errors(Calc_enthalpy)"
   ]
  },
  {
   "cell_type": "code",
   "execution_count": 16,
   "metadata": {},
   "outputs": [
    {
     "data": {
      "image/png": "[encoded data removed]",
      "text/plain": [
       "<Figure size 1296x432 with 3 Axes>"
      ]
     },
     "metadata": {
      "needs_background": "light"
     },
     "output_type": "display_data"
    }
   ],
   "source": [
    "methods_pruned = methods[1:]\n",
    "bases_pruned = ['cc-pCV5Z','TQ','Q5']\n",
    "fig, panes = plt.subplots(nrows=1, ncols=len(bases_pruned), sharey=True, figsize=(18,6))\n",
    "\n",
    "for pane in range(len(bases_pruned)):\n",
    "    data=[]\n",
    "    for method in methods_pruned:\n",
    "        data.append(list(error_with_respect_to_experimental_enthalpy[bases_pruned[pane]][method].values()))\n",
    "    panes[pane].violinplot(data,showmeans=True,showextrema=True,vert=True, bw_method='silverman')\n",
    "    panes[pane].set_xticks(range(1,len(methods_pruned)+1),labels=methods_pruned, rotation=-90)\n",
    "    panes[pane].set_title(bases_pruned[pane])\n",
    "panes[0].set_ylabel('Error / kJ/mol')\n",
    "plt.savefig(project_name+\".violin.pdf\")"
   ]
  },
  {
   "cell_type": "markdown",
   "metadata": {},
   "source": [
    "### Mean error"
   ]
  },
  {
   "cell_type": "code",
   "execution_count": 17,
   "metadata": {},
   "outputs": [],
   "source": [
    "def error(method, basis, name):\n",
    "    return Molpro_enthalpy[method][basis][name]-Exp_enthalpy[name]\n",
    "\n",
    "lit_exp_molpro_error={}\n",
    "for name in reactions:\n",
    "    lit_exp_molpro_error[name]={}\n",
    "    for method in methods:\n",
    "        lit_exp_molpro_error[name][method]={}\n",
    "        for basis in bases:\n",
    "            lit_exp_molpro_error[name][method][basis]={}\n",
    "            test_enthalpy = Molpro_enthalpy[method][basis][name]\n",
    "            comparison_enthalpy = Exp_enthalpy[name]\n",
    "            error = test_enthalpy - comparison_enthalpy\n",
    "            lit_exp_molpro_error[name][method][basis] =+ error\n",
    "\n",
    "lit_exp_molpro_meanerror={}\n",
    "for method in methods:\n",
    "    lit_exp_molpro_meanerror[method]={}\n",
    "    for basis in bases:\n",
    "        lit_exp_molpro_meanerror[method][basis]={}\n",
    "        error_sum = 0\n",
    "        for name in reactions:\n",
    "            error_sum += lit_exp_molpro_error[name][method][basis]\n",
    "        mean_error = error_sum / len(reactions)\n",
    "        lit_exp_molpro_meanerror[method][basis] =+ mean_error"
   ]
  },
  {
   "cell_type": "code",
   "execution_count": 18,
   "metadata": {},
   "outputs": [
    {
     "data": {
      "text/html": [
       "<style type=\"text/css\">\n",
       "</style>\n",
       "<table id=\"T_87dbe\">\n",
       "  <caption>Mean error</caption>\n",
       "  <thead>\n",
       "    <tr>\n",
       "      <th class=\"blank level0\" >&nbsp;</th>\n",
       "      <th id=\"T_87dbe_level0_col0\" class=\"col_heading level0 col0\" >HF</th>\n",
       "      <th id=\"T_87dbe_level0_col1\" class=\"col_heading level0 col1\" >MP2</th>\n",
       "      <th id=\"T_87dbe_level0_col2\" class=\"col_heading level0 col2\" >MP3</th>\n",
       "      <th id=\"T_87dbe_level0_col3\" class=\"col_heading level0 col3\" >PAPT2</th>\n",
       "      <th id=\"T_87dbe_level0_col4\" class=\"col_heading level0 col4\" >PAPT3</th>\n",
       "      <th id=\"T_87dbe_level0_col5\" class=\"col_heading level0 col5\" >CCSD</th>\n",
       "      <th id=\"T_87dbe_level0_col6\" class=\"col_heading level0 col6\" >MP4</th>\n",
       "      <th id=\"T_87dbe_level0_col7\" class=\"col_heading level0 col7\" >PAPT4</th>\n",
       "      <th id=\"T_87dbe_level0_col8\" class=\"col_heading level0 col8\" >CCSD(T)</th>\n",
       "    </tr>\n",
       "  </thead>\n",
       "  <tbody>\n",
       "    <tr>\n",
       "      <th id=\"T_87dbe_level0_row0\" class=\"row_heading level0 row0\" >cc-pCVDZ</th>\n",
       "      <td id=\"T_87dbe_row0_col0\" class=\"data row0 col0\" >14.954478</td>\n",
       "      <td id=\"T_87dbe_row0_col1\" class=\"data row0 col1\" >22.200433</td>\n",
       "      <td id=\"T_87dbe_row0_col2\" class=\"data row0 col2\" >8.575777</td>\n",
       "      <td id=\"T_87dbe_row0_col3\" class=\"data row0 col3\" >22.267072</td>\n",
       "      <td id=\"T_87dbe_row0_col4\" class=\"data row0 col4\" >22.849594</td>\n",
       "      <td id=\"T_87dbe_row0_col5\" class=\"data row0 col5\" >25.402670</td>\n",
       "      <td id=\"T_87dbe_row0_col6\" class=\"data row0 col6\" >35.419057</td>\n",
       "      <td id=\"T_87dbe_row0_col7\" class=\"data row0 col7\" >32.630359</td>\n",
       "      <td id=\"T_87dbe_row0_col8\" class=\"data row0 col8\" >33.394146</td>\n",
       "    </tr>\n",
       "    <tr>\n",
       "      <th id=\"T_87dbe_level0_row1\" class=\"row_heading level0 row1\" >cc-pCVTZ</th>\n",
       "      <td id=\"T_87dbe_row1_col0\" class=\"data row1 col0\" >13.322459</td>\n",
       "      <td id=\"T_87dbe_row1_col1\" class=\"data row1 col1\" >0.327119</td>\n",
       "      <td id=\"T_87dbe_row1_col2\" class=\"data row1 col2\" >-11.892328</td>\n",
       "      <td id=\"T_87dbe_row1_col3\" class=\"data row1 col3\" >1.374548</td>\n",
       "      <td id=\"T_87dbe_row1_col4\" class=\"data row1 col4\" >3.034337</td>\n",
       "      <td id=\"T_87dbe_row1_col5\" class=\"data row1 col5\" >4.473136</td>\n",
       "      <td id=\"T_87dbe_row1_col6\" class=\"data row1 col6\" >14.121807</td>\n",
       "      <td id=\"T_87dbe_row1_col7\" class=\"data row1 col7\" >9.731302</td>\n",
       "      <td id=\"T_87dbe_row1_col8\" class=\"data row1 col8\" >11.312945</td>\n",
       "    </tr>\n",
       "    <tr>\n",
       "      <th id=\"T_87dbe_level0_row2\" class=\"row_heading level0 row2\" >cc-pCVQZ</th>\n",
       "      <td id=\"T_87dbe_row2_col0\" class=\"data row2 col0\" >10.726128</td>\n",
       "      <td id=\"T_87dbe_row2_col1\" class=\"data row2 col1\" >-7.638902</td>\n",
       "      <td id=\"T_87dbe_row2_col2\" class=\"data row2 col2\" >-18.943071</td>\n",
       "      <td id=\"T_87dbe_row2_col3\" class=\"data row2 col3\" >-6.035254</td>\n",
       "      <td id=\"T_87dbe_row2_col4\" class=\"data row2 col4\" >-4.216551</td>\n",
       "      <td id=\"T_87dbe_row2_col5\" class=\"data row2 col5\" >-3.319223</td>\n",
       "      <td id=\"T_87dbe_row2_col6\" class=\"data row2 col6\" >5.858537</td>\n",
       "      <td id=\"T_87dbe_row2_col7\" class=\"data row2 col7\" >1.457899</td>\n",
       "      <td id=\"T_87dbe_row2_col8\" class=\"data row2 col8\" >3.021306</td>\n",
       "    </tr>\n",
       "    <tr>\n",
       "      <th id=\"T_87dbe_level0_row3\" class=\"row_heading level0 row3\" >cc-pCV5Z</th>\n",
       "      <td id=\"T_87dbe_row3_col0\" class=\"data row3 col0\" >9.248854</td>\n",
       "      <td id=\"T_87dbe_row3_col1\" class=\"data row3 col1\" >-10.493184</td>\n",
       "      <td id=\"T_87dbe_row3_col2\" class=\"data row3 col2\" >-21.000155</td>\n",
       "      <td id=\"T_87dbe_row3_col3\" class=\"data row3 col3\" >-8.265233</td>\n",
       "      <td id=\"T_87dbe_row3_col4\" class=\"data row3 col4\" >-6.373969</td>\n",
       "      <td id=\"T_87dbe_row3_col5\" class=\"data row3 col5\" >-5.780421</td>\n",
       "      <td id=\"T_87dbe_row3_col6\" class=\"data row3 col6\" >3.064909</td>\n",
       "      <td id=\"T_87dbe_row3_col7\" class=\"data row3 col7\" >-1.120281</td>\n",
       "      <td id=\"T_87dbe_row3_col8\" class=\"data row3 col8\" >0.386272</td>\n",
       "    </tr>\n",
       "    <tr>\n",
       "      <th id=\"T_87dbe_level0_row4\" class=\"row_heading level0 row4\" >DT</th>\n",
       "      <td id=\"T_87dbe_row4_col0\" class=\"data row4 col0\" >13.322459</td>\n",
       "      <td id=\"T_87dbe_row4_col1\" class=\"data row4 col1\" >-8.195532</td>\n",
       "      <td id=\"T_87dbe_row4_col2\" class=\"data row4 col2\" >-19.823311</td>\n",
       "      <td id=\"T_87dbe_row4_col3\" class=\"data row4 col3\" >-6.735138</td>\n",
       "      <td id=\"T_87dbe_row4_col4\" class=\"data row4 col4\" >-4.621762</td>\n",
       "      <td id=\"T_87dbe_row4_col5\" class=\"data row4 col5\" >-3.652133</td>\n",
       "      <td id=\"T_87dbe_row4_col6\" class=\"data row4 col6\" >5.841709</td>\n",
       "      <td id=\"T_87dbe_row4_col7\" class=\"data row4 col7\" >0.776760</td>\n",
       "      <td id=\"T_87dbe_row4_col8\" class=\"data row4 col8\" >2.702763</td>\n",
       "    </tr>\n",
       "    <tr>\n",
       "      <th id=\"T_87dbe_level0_row5\" class=\"row_heading level0 row5\" >TQ</th>\n",
       "      <td id=\"T_87dbe_row5_col0\" class=\"data row5 col0\" >10.726128</td>\n",
       "      <td id=\"T_87dbe_row5_col1\" class=\"data row5 col1\" >-11.557325</td>\n",
       "      <td id=\"T_87dbe_row5_col2\" class=\"data row5 col2\" >-22.193589</td>\n",
       "      <td id=\"T_87dbe_row5_col3\" class=\"data row5 col3\" >-9.547787</td>\n",
       "      <td id=\"T_87dbe_row5_col4\" class=\"data row5 col4\" >-7.613121</td>\n",
       "      <td id=\"T_87dbe_row5_col5\" class=\"data row5 col5\" >-7.110920</td>\n",
       "      <td id=\"T_87dbe_row5_col6\" class=\"data row5 col6\" >1.723203</td>\n",
       "      <td id=\"T_87dbe_row5_col7\" class=\"data row5 col7\" >-2.684830</td>\n",
       "      <td id=\"T_87dbe_row5_col8\" class=\"data row5 col8\" >-1.134730</td>\n",
       "    </tr>\n",
       "    <tr>\n",
       "      <th id=\"T_87dbe_level0_row6\" class=\"row_heading level0 row6\" >Q5</th>\n",
       "      <td id=\"T_87dbe_row6_col0\" class=\"data row6 col0\" >9.248854</td>\n",
       "      <td id=\"T_87dbe_row6_col1\" class=\"data row6 col1\" >-11.937913</td>\n",
       "      <td id=\"T_87dbe_row6_col2\" class=\"data row6 col2\" >-21.608479</td>\n",
       "      <td id=\"T_87dbe_row6_col3\" class=\"data row6 col3\" >-9.054957</td>\n",
       "      <td id=\"T_87dbe_row6_col4\" class=\"data row6 col4\" >-7.087563</td>\n",
       "      <td id=\"T_87dbe_row6_col5\" class=\"data row6 col5\" >-6.812735</td>\n",
       "      <td id=\"T_87dbe_row6_col6\" class=\"data row6 col6\" >1.683817</td>\n",
       "      <td id=\"T_87dbe_row6_col7\" class=\"data row6 col7\" >-2.275329</td>\n",
       "      <td id=\"T_87dbe_row6_col8\" class=\"data row6 col8\" >-0.828425</td>\n",
       "    </tr>\n",
       "  </tbody>\n",
       "</table>\n"
      ],
      "text/plain": [
       "<pandas.io.formats.style.Styler at 0x156b73dc0>"
      ]
     },
     "execution_count": 18,
     "metadata": {},
     "output_type": "execute_result"
    }
   ],
   "source": [
    "df_exp_reaction_meanerror=pd.DataFrame(data=lit_exp_molpro_meanerror)\n",
    "df_exp_reaction_meanerror.style.set_caption(\"Mean error\")"
   ]
  },
  {
   "cell_type": "markdown",
   "metadata": {},
   "source": [
    "### Mean absolute error"
   ]
  },
  {
   "cell_type": "code",
   "execution_count": 19,
   "metadata": {},
   "outputs": [],
   "source": [
    "lit_exp_molpro_abserror={}\n",
    "for name in reactions:\n",
    "    lit_exp_molpro_abserror[name]={}\n",
    "    for method in methods:\n",
    "        lit_exp_molpro_abserror[name][method]={}\n",
    "        for basis in bases:\n",
    "            lit_exp_molpro_abserror[name][method][basis]={}\n",
    "            test_enthalpy = Molpro_enthalpy[method][basis][name]\n",
    "            comparison_enthalpy = Exp_enthalpy[name]\n",
    "            error = abs(test_enthalpy - comparison_enthalpy)\n",
    "            lit_exp_molpro_abserror[name][method][basis] =+ error\n",
    "\n",
    "\n",
    "lit_exp_molpro_meanabserror={}\n",
    "for method in methods:\n",
    "    lit_exp_molpro_meanabserror[method]={}\n",
    "    for basis in bases:\n",
    "        lit_exp_molpro_meanabserror[method][basis]={}\n",
    "        error_sum = 0\n",
    "        for name in reactions:\n",
    "            error_sum += lit_exp_molpro_abserror[name][method][basis]\n",
    "        mean_error = error_sum / len(reactions)\n",
    "        lit_exp_molpro_meanabserror[method][basis] =+ mean_error"
   ]
  },
  {
   "cell_type": "code",
   "execution_count": 20,
   "metadata": {},
   "outputs": [
    {
     "data": {
      "text/html": [
       "<style type=\"text/css\">\n",
       "</style>\n",
       "<table id=\"T_297f0\">\n",
       "  <caption>Mean absolute error</caption>\n",
       "  <thead>\n",
       "    <tr>\n",
       "      <th class=\"blank level0\" >&nbsp;</th>\n",
       "      <th id=\"T_297f0_level0_col0\" class=\"col_heading level0 col0\" >HF</th>\n",
       "      <th id=\"T_297f0_level0_col1\" class=\"col_heading level0 col1\" >MP2</th>\n",
       "      <th id=\"T_297f0_level0_col2\" class=\"col_heading level0 col2\" >MP3</th>\n",
       "      <th id=\"T_297f0_level0_col3\" class=\"col_heading level0 col3\" >PAPT2</th>\n",
       "      <th id=\"T_297f0_level0_col4\" class=\"col_heading level0 col4\" >PAPT3</th>\n",
       "      <th id=\"T_297f0_level0_col5\" class=\"col_heading level0 col5\" >CCSD</th>\n",
       "      <th id=\"T_297f0_level0_col6\" class=\"col_heading level0 col6\" >MP4</th>\n",
       "      <th id=\"T_297f0_level0_col7\" class=\"col_heading level0 col7\" >PAPT4</th>\n",
       "      <th id=\"T_297f0_level0_col8\" class=\"col_heading level0 col8\" >CCSD(T)</th>\n",
       "    </tr>\n",
       "  </thead>\n",
       "  <tbody>\n",
       "    <tr>\n",
       "      <th id=\"T_297f0_level0_row0\" class=\"row_heading level0 row0\" >cc-pCVDZ</th>\n",
       "      <td id=\"T_297f0_row0_col0\" class=\"data row0 col0\" >29.772647</td>\n",
       "      <td id=\"T_297f0_row0_col1\" class=\"data row0 col1\" >30.990673</td>\n",
       "      <td id=\"T_297f0_row0_col2\" class=\"data row0 col2\" >17.228731</td>\n",
       "      <td id=\"T_297f0_row0_col3\" class=\"data row0 col3\" >29.134130</td>\n",
       "      <td id=\"T_297f0_row0_col4\" class=\"data row0 col4\" >29.668345</td>\n",
       "      <td id=\"T_297f0_row0_col5\" class=\"data row0 col5\" >30.847099</td>\n",
       "      <td id=\"T_297f0_row0_col6\" class=\"data row0 col6\" >38.415537</td>\n",
       "      <td id=\"T_297f0_row0_col7\" class=\"data row0 col7\" >36.650477</td>\n",
       "      <td id=\"T_297f0_row0_col8\" class=\"data row0 col8\" >36.734393</td>\n",
       "    </tr>\n",
       "    <tr>\n",
       "      <th id=\"T_297f0_level0_row1\" class=\"row_heading level0 row1\" >cc-pCVTZ</th>\n",
       "      <td id=\"T_297f0_row1_col0\" class=\"data row1 col0\" >28.674379</td>\n",
       "      <td id=\"T_297f0_row1_col1\" class=\"data row1 col1\" >13.738105</td>\n",
       "      <td id=\"T_297f0_row1_col2\" class=\"data row1 col2\" >12.199806</td>\n",
       "      <td id=\"T_297f0_row1_col3\" class=\"data row1 col3\" >8.108017</td>\n",
       "      <td id=\"T_297f0_row1_col4\" class=\"data row1 col4\" >8.763968</td>\n",
       "      <td id=\"T_297f0_row1_col5\" class=\"data row1 col5\" >7.859615</td>\n",
       "      <td id=\"T_297f0_row1_col6\" class=\"data row1 col6\" >16.361433</td>\n",
       "      <td id=\"T_297f0_row1_col7\" class=\"data row1 col7\" >11.236887</td>\n",
       "      <td id=\"T_297f0_row1_col8\" class=\"data row1 col8\" >12.047097</td>\n",
       "    </tr>\n",
       "    <tr>\n",
       "      <th id=\"T_297f0_level0_row2\" class=\"row_heading level0 row2\" >cc-pCVQZ</th>\n",
       "      <td id=\"T_297f0_row2_col0\" class=\"data row2 col0\" >29.135419</td>\n",
       "      <td id=\"T_297f0_row2_col1\" class=\"data row2 col1\" >13.486257</td>\n",
       "      <td id=\"T_297f0_row2_col2\" class=\"data row2 col2\" >18.943071</td>\n",
       "      <td id=\"T_297f0_row2_col3\" class=\"data row2 col3\" >9.835248</td>\n",
       "      <td id=\"T_297f0_row2_col4\" class=\"data row2 col4\" >9.373149</td>\n",
       "      <td id=\"T_297f0_row2_col5\" class=\"data row2 col5\" >7.361378</td>\n",
       "      <td id=\"T_297f0_row2_col6\" class=\"data row2 col6\" >9.359350</td>\n",
       "      <td id=\"T_297f0_row2_col7\" class=\"data row2 col7\" >3.146428</td>\n",
       "      <td id=\"T_297f0_row2_col8\" class=\"data row2 col8\" >3.704045</td>\n",
       "    </tr>\n",
       "    <tr>\n",
       "      <th id=\"T_297f0_level0_row3\" class=\"row_heading level0 row3\" >cc-pCV5Z</th>\n",
       "      <td id=\"T_297f0_row3_col0\" class=\"data row3 col0\" >29.056404</td>\n",
       "      <td id=\"T_297f0_row3_col1\" class=\"data row3 col1\" >14.456410</td>\n",
       "      <td id=\"T_297f0_row3_col2\" class=\"data row3 col2\" >21.000155</td>\n",
       "      <td id=\"T_297f0_row3_col3\" class=\"data row3 col3\" >11.505386</td>\n",
       "      <td id=\"T_297f0_row3_col4\" class=\"data row3 col4\" >10.922044</td>\n",
       "      <td id=\"T_297f0_row3_col5\" class=\"data row3 col5\" >9.371626</td>\n",
       "      <td id=\"T_297f0_row3_col6\" class=\"data row3 col6\" >7.308601</td>\n",
       "      <td id=\"T_297f0_row3_col7\" class=\"data row3 col7\" >1.378161</td>\n",
       "      <td id=\"T_297f0_row3_col8\" class=\"data row3 col8\" >1.304581</td>\n",
       "    </tr>\n",
       "    <tr>\n",
       "      <th id=\"T_297f0_level0_row4\" class=\"row_heading level0 row4\" >DT</th>\n",
       "      <td id=\"T_297f0_row4_col0\" class=\"data row4 col0\" >28.674379</td>\n",
       "      <td id=\"T_297f0_row4_col1\" class=\"data row4 col1\" >12.390998</td>\n",
       "      <td id=\"T_297f0_row4_col2\" class=\"data row4 col2\" >19.823311</td>\n",
       "      <td id=\"T_297f0_row4_col3\" class=\"data row4 col3\" >10.435913</td>\n",
       "      <td id=\"T_297f0_row4_col4\" class=\"data row4 col4\" >9.908778</td>\n",
       "      <td id=\"T_297f0_row4_col5\" class=\"data row4 col5\" >7.616045</td>\n",
       "      <td id=\"T_297f0_row4_col6\" class=\"data row4 col6\" >10.281158</td>\n",
       "      <td id=\"T_297f0_row4_col7\" class=\"data row4 col7\" >4.105216</td>\n",
       "      <td id=\"T_297f0_row4_col8\" class=\"data row4 col8\" >4.374121</td>\n",
       "    </tr>\n",
       "    <tr>\n",
       "      <th id=\"T_297f0_level0_row5\" class=\"row_heading level0 row5\" >TQ</th>\n",
       "      <td id=\"T_297f0_row5_col0\" class=\"data row5 col0\" >29.135419</td>\n",
       "      <td id=\"T_297f0_row5_col1\" class=\"data row5 col1\" >14.762806</td>\n",
       "      <td id=\"T_297f0_row5_col2\" class=\"data row5 col2\" >22.193589</td>\n",
       "      <td id=\"T_297f0_row5_col3\" class=\"data row5 col3\" >11.999932</td>\n",
       "      <td id=\"T_297f0_row5_col4\" class=\"data row5 col4\" >11.396504</td>\n",
       "      <td id=\"T_297f0_row5_col5\" class=\"data row5 col5\" >9.940689</td>\n",
       "      <td id=\"T_297f0_row5_col6\" class=\"data row5 col6\" >6.929504</td>\n",
       "      <td id=\"T_297f0_row5_col7\" class=\"data row5 col7\" >2.774753</td>\n",
       "      <td id=\"T_297f0_row5_col8\" class=\"data row5 col8\" >1.327139</td>\n",
       "    </tr>\n",
       "    <tr>\n",
       "      <th id=\"T_297f0_level0_row6\" class=\"row_heading level0 row6\" >Q5</th>\n",
       "      <td id=\"T_297f0_row6_col0\" class=\"data row6 col0\" >29.056404</td>\n",
       "      <td id=\"T_297f0_row6_col1\" class=\"data row6 col1\" >15.418960</td>\n",
       "      <td id=\"T_297f0_row6_col2\" class=\"data row6 col2\" >21.608479</td>\n",
       "      <td id=\"T_297f0_row6_col3\" class=\"data row6 col3\" >11.714145</td>\n",
       "      <td id=\"T_297f0_row6_col4\" class=\"data row6 col4\" >11.103542</td>\n",
       "      <td id=\"T_297f0_row6_col5\" class=\"data row6 col5\" >9.934693</td>\n",
       "      <td id=\"T_297f0_row6_col6\" class=\"data row6 col6\" >7.034897</td>\n",
       "      <td id=\"T_297f0_row6_col7\" class=\"data row6 col7\" >2.275329</td>\n",
       "      <td id=\"T_297f0_row6_col8\" class=\"data row6 col8\" >1.185635</td>\n",
       "    </tr>\n",
       "  </tbody>\n",
       "</table>\n"
      ],
      "text/plain": [
       "<pandas.io.formats.style.Styler at 0x17860c9d0>"
      ]
     },
     "execution_count": 20,
     "metadata": {},
     "output_type": "execute_result"
    }
   ],
   "source": [
    "df_exp_reaction_meanabserror=pd.DataFrame(data=lit_exp_molpro_meanabserror)\n",
    "df_exp_reaction_meanabserror.style.set_caption(\"Mean absolute error\")"
   ]
  },
  {
   "cell_type": "markdown",
   "metadata": {},
   "source": [
    "### Maximum error"
   ]
  },
  {
   "cell_type": "code",
   "execution_count": 21,
   "metadata": {},
   "outputs": [],
   "source": [
    "lit_exp_molpro_maxerror={}\n",
    "for method in methods:\n",
    "    lit_exp_molpro_maxerror[method]={}\n",
    "    for basis in bases:\n",
    "        lit_exp_molpro_maxerror[method][basis]={}\n",
    "        max_error = 0\n",
    "        for name in reactions:\n",
    "            if abs(lit_exp_molpro_error[name][method][basis]) > abs(max_error):\n",
    "                max_error = lit_exp_molpro_error[name][method][basis]\n",
    "        lit_exp_molpro_maxerror[method][basis] =+ max_error"
   ]
  },
  {
   "cell_type": "code",
   "execution_count": 22,
   "metadata": {},
   "outputs": [
    {
     "data": {
      "text/html": [
       "<style type=\"text/css\">\n",
       "</style>\n",
       "<table id=\"T_58294\">\n",
       "  <caption>Maximum error</caption>\n",
       "  <thead>\n",
       "    <tr>\n",
       "      <th class=\"blank level0\" >&nbsp;</th>\n",
       "      <th id=\"T_58294_level0_col0\" class=\"col_heading level0 col0\" >HF</th>\n",
       "      <th id=\"T_58294_level0_col1\" class=\"col_heading level0 col1\" >MP2</th>\n",
       "      <th id=\"T_58294_level0_col2\" class=\"col_heading level0 col2\" >MP3</th>\n",
       "      <th id=\"T_58294_level0_col3\" class=\"col_heading level0 col3\" >PAPT2</th>\n",
       "      <th id=\"T_58294_level0_col4\" class=\"col_heading level0 col4\" >PAPT3</th>\n",
       "      <th id=\"T_58294_level0_col5\" class=\"col_heading level0 col5\" >CCSD</th>\n",
       "      <th id=\"T_58294_level0_col6\" class=\"col_heading level0 col6\" >MP4</th>\n",
       "      <th id=\"T_58294_level0_col7\" class=\"col_heading level0 col7\" >PAPT4</th>\n",
       "      <th id=\"T_58294_level0_col8\" class=\"col_heading level0 col8\" >CCSD(T)</th>\n",
       "    </tr>\n",
       "  </thead>\n",
       "  <tbody>\n",
       "    <tr>\n",
       "      <th id=\"T_58294_level0_row0\" class=\"row_heading level0 row0\" >cc-pCVDZ</th>\n",
       "      <td id=\"T_58294_row0_col0\" class=\"data row0 col0\" >115.100379</td>\n",
       "      <td id=\"T_58294_row0_col1\" class=\"data row0 col1\" >76.538149</td>\n",
       "      <td id=\"T_58294_row0_col2\" class=\"data row0 col2\" >-34.352163</td>\n",
       "      <td id=\"T_58294_row0_col3\" class=\"data row0 col3\" >48.968055</td>\n",
       "      <td id=\"T_58294_row0_col4\" class=\"data row0 col4\" >48.412690</td>\n",
       "      <td id=\"T_58294_row0_col5\" class=\"data row0 col5\" >51.596283</td>\n",
       "      <td id=\"T_58294_row0_col6\" class=\"data row0 col6\" >85.940386</td>\n",
       "      <td id=\"T_58294_row0_col7\" class=\"data row0 col7\" >64.510810</td>\n",
       "      <td id=\"T_58294_row0_col8\" class=\"data row0 col8\" >65.916791</td>\n",
       "    </tr>\n",
       "    <tr>\n",
       "      <th id=\"T_58294_level0_row1\" class=\"row_heading level0 row1\" >cc-pCVTZ</th>\n",
       "      <td id=\"T_58294_row1_col0\" class=\"data row1 col0\" >112.330648</td>\n",
       "      <td id=\"T_58294_row1_col1\" class=\"data row1 col1\" >-44.426818</td>\n",
       "      <td id=\"T_58294_row1_col2\" class=\"data row1 col2\" >-26.223071</td>\n",
       "      <td id=\"T_58294_row1_col3\" class=\"data row1 col3\" >24.635398</td>\n",
       "      <td id=\"T_58294_row1_col4\" class=\"data row1 col4\" >29.197598</td>\n",
       "      <td id=\"T_58294_row1_col5\" class=\"data row1 col5\" >24.350267</td>\n",
       "      <td id=\"T_58294_row1_col6\" class=\"data row1 col6\" >41.332397</td>\n",
       "      <td id=\"T_58294_row1_col7\" class=\"data row1 col7\" >19.441841</td>\n",
       "      <td id=\"T_58294_row1_col8\" class=\"data row1 col8\" >21.327717</td>\n",
       "    </tr>\n",
       "    <tr>\n",
       "      <th id=\"T_58294_level0_row2\" class=\"row_heading level0 row2\" >cc-pCVQZ</th>\n",
       "      <td id=\"T_58294_row2_col0\" class=\"data row2 col0\" >113.180763</td>\n",
       "      <td id=\"T_58294_row2_col1\" class=\"data row2 col1\" >-48.754143</td>\n",
       "      <td id=\"T_58294_row2_col2\" class=\"data row2 col2\" >-37.370032</td>\n",
       "      <td id=\"T_58294_row2_col3\" class=\"data row2 col3\" >18.575804</td>\n",
       "      <td id=\"T_58294_row2_col4\" class=\"data row2 col4\" >23.542680</td>\n",
       "      <td id=\"T_58294_row2_col5\" class=\"data row2 col5\" >19.282486</td>\n",
       "      <td id=\"T_58294_row2_col6\" class=\"data row2 col6\" >26.725887</td>\n",
       "      <td id=\"T_58294_row2_col7\" class=\"data row2 col7\" >-5.960171</td>\n",
       "      <td id=\"T_58294_row2_col8\" class=\"data row2 col8\" >6.971901</td>\n",
       "    </tr>\n",
       "    <tr>\n",
       "      <th id=\"T_58294_level0_row3\" class=\"row_heading level0 row3\" >cc-pCV5Z</th>\n",
       "      <td id=\"T_58294_row3_col0\" class=\"data row3 col0\" >113.659947</td>\n",
       "      <td id=\"T_58294_row3_col1\" class=\"data row3 col1\" >-50.009164</td>\n",
       "      <td id=\"T_58294_row3_col2\" class=\"data row3 col2\" >-41.355025</td>\n",
       "      <td id=\"T_58294_row3_col3\" class=\"data row3 col3\" >-22.475486</td>\n",
       "      <td id=\"T_58294_row3_col4\" class=\"data row3 col4\" >21.642531</td>\n",
       "      <td id=\"T_58294_row3_col5\" class=\"data row3 col5\" >17.724047</td>\n",
       "      <td id=\"T_58294_row3_col6\" class=\"data row3 col6\" >20.766190</td>\n",
       "      <td id=\"T_58294_row3_col7\" class=\"data row3 col7\" >-5.072136</td>\n",
       "      <td id=\"T_58294_row3_col8\" class=\"data row3 col8\" >2.999326</td>\n",
       "    </tr>\n",
       "    <tr>\n",
       "      <th id=\"T_58294_level0_row4\" class=\"row_heading level0 row4\" >DT</th>\n",
       "      <td id=\"T_58294_row4_col0\" class=\"data row4 col0\" >112.330648</td>\n",
       "      <td id=\"T_58294_row4_col1\" class=\"data row4 col1\" >-49.478559</td>\n",
       "      <td id=\"T_58294_row4_col2\" class=\"data row4 col2\" >-41.352669</td>\n",
       "      <td id=\"T_58294_row4_col3\" class=\"data row4 col3\" >-21.804489</td>\n",
       "      <td id=\"T_58294_row4_col4\" class=\"data row4 col4\" >24.214225</td>\n",
       "      <td id=\"T_58294_row4_col5\" class=\"data row4 col5\" >19.850477</td>\n",
       "      <td id=\"T_58294_row4_col6\" class=\"data row4 col6\" >24.174609</td>\n",
       "      <td id=\"T_58294_row4_col7\" class=\"data row4 col7\" >11.947065</td>\n",
       "      <td id=\"T_58294_row4_col8\" class=\"data row4 col8\" >10.788612</td>\n",
       "    </tr>\n",
       "    <tr>\n",
       "      <th id=\"T_58294_level0_row5\" class=\"row_heading level0 row5\" >TQ</th>\n",
       "      <td id=\"T_58294_row5_col0\" class=\"data row5 col0\" >113.180763</td>\n",
       "      <td id=\"T_58294_row5_col1\" class=\"data row5 col1\" >-52.532276</td>\n",
       "      <td id=\"T_58294_row5_col2\" class=\"data row5 col2\" >-41.498754</td>\n",
       "      <td id=\"T_58294_row5_col3\" class=\"data row5 col3\" >-22.640761</td>\n",
       "      <td id=\"T_58294_row5_col4\" class=\"data row5 col4\" >-19.891997</td>\n",
       "      <td id=\"T_58294_row5_col5\" class=\"data row5 col5\" >-17.214768</td>\n",
       "      <td id=\"T_58294_row5_col6\" class=\"data row5 col6\" >20.390657</td>\n",
       "      <td id=\"T_58294_row5_col7\" class=\"data row5 col7\" >-6.881558</td>\n",
       "      <td id=\"T_58294_row5_col8\" class=\"data row5 col8\" >-3.147673</td>\n",
       "    </tr>\n",
       "    <tr>\n",
       "      <th id=\"T_58294_level0_row6\" class=\"row_heading level0 row6\" >Q5</th>\n",
       "      <td id=\"T_58294_row6_col0\" class=\"data row6 col0\" >113.659947</td>\n",
       "      <td id=\"T_58294_row6_col1\" class=\"data row6 col1\" >-51.828657</td>\n",
       "      <td id=\"T_58294_row6_col2\" class=\"data row6 col2\" >-41.439529</td>\n",
       "      <td id=\"T_58294_row6_col3\" class=\"data row6 col3\" >-22.759090</td>\n",
       "      <td id=\"T_58294_row6_col4\" class=\"data row6 col4\" >-20.037758</td>\n",
       "      <td id=\"T_58294_row6_col5\" class=\"data row6 col5\" >-17.750383</td>\n",
       "      <td id=\"T_58294_row6_col6\" class=\"data row6 col6\" >-18.711710</td>\n",
       "      <td id=\"T_58294_row6_col7\" class=\"data row6 col7\" >-4.336995</td>\n",
       "      <td id=\"T_58294_row6_col8\" class=\"data row6 col8\" >-3.490838</td>\n",
       "    </tr>\n",
       "  </tbody>\n",
       "</table>\n"
      ],
      "text/plain": [
       "<pandas.io.formats.style.Styler at 0x17860c7f0>"
      ]
     },
     "execution_count": 22,
     "metadata": {},
     "output_type": "execute_result"
    }
   ],
   "source": [
    "df_exp_reaction_maxerror=pd.DataFrame(data=lit_exp_molpro_maxerror)\n",
    "df_exp_reaction_maxerror.style.set_caption(\"Maximum error\")"
   ]
  },
  {
   "cell_type": "markdown",
   "metadata": {},
   "source": [
    "### Standard deviation"
   ]
  },
  {
   "cell_type": "code",
   "execution_count": 23,
   "metadata": {},
   "outputs": [],
   "source": [
    "lit_exp_molpro_std={}\n",
    "for method in methods:\n",
    "    lit_exp_molpro_std[method]={}\n",
    "    for basis in bases:\n",
    "        lit_exp_molpro_std[method][basis]={}\n",
    "        sum_squared_errors = 0\n",
    "        for name in reactions:\n",
    "            squared_error = (lit_exp_molpro_error[name][method][basis] - lit_exp_molpro_meanerror[method][basis]) ** 2\n",
    "            sum_squared_errors += squared_error\n",
    "        SD_squared = sum_squared_errors / (len(reactions)-1)\n",
    "        SD = np.sqrt(SD_squared)\n",
    "        lit_exp_molpro_std[method][basis] = SD"
   ]
  },
  {
   "cell_type": "code",
   "execution_count": 24,
   "metadata": {},
   "outputs": [
    {
     "data": {
      "text/html": [
       "<style type=\"text/css\">\n",
       "</style>\n",
       "<table id=\"T_2c1d1\">\n",
       "  <caption>Standard deviation of errors</caption>\n",
       "  <thead>\n",
       "    <tr>\n",
       "      <th class=\"blank level0\" >&nbsp;</th>\n",
       "      <th id=\"T_2c1d1_level0_col0\" class=\"col_heading level0 col0\" >HF</th>\n",
       "      <th id=\"T_2c1d1_level0_col1\" class=\"col_heading level0 col1\" >MP2</th>\n",
       "      <th id=\"T_2c1d1_level0_col2\" class=\"col_heading level0 col2\" >MP3</th>\n",
       "      <th id=\"T_2c1d1_level0_col3\" class=\"col_heading level0 col3\" >PAPT2</th>\n",
       "      <th id=\"T_2c1d1_level0_col4\" class=\"col_heading level0 col4\" >PAPT3</th>\n",
       "      <th id=\"T_2c1d1_level0_col5\" class=\"col_heading level0 col5\" >CCSD</th>\n",
       "      <th id=\"T_2c1d1_level0_col6\" class=\"col_heading level0 col6\" >MP4</th>\n",
       "      <th id=\"T_2c1d1_level0_col7\" class=\"col_heading level0 col7\" >PAPT4</th>\n",
       "      <th id=\"T_2c1d1_level0_col8\" class=\"col_heading level0 col8\" >CCSD(T)</th>\n",
       "    </tr>\n",
       "  </thead>\n",
       "  <tbody>\n",
       "    <tr>\n",
       "      <th id=\"T_2c1d1_level0_row0\" class=\"row_heading level0 row0\" >cc-pCVDZ</th>\n",
       "      <td id=\"T_2c1d1_row0_col0\" class=\"data row0 col0\" >39.456751</td>\n",
       "      <td id=\"T_2c1d1_row0_col1\" class=\"data row0 col1\" >31.145927</td>\n",
       "      <td id=\"T_2c1d1_row0_col2\" class=\"data row0 col2\" >18.676899</td>\n",
       "      <td id=\"T_2c1d1_row0_col3\" class=\"data row0 col3\" >23.014348</td>\n",
       "      <td id=\"T_2c1d1_row0_col4\" class=\"data row0 col4\" >23.160847</td>\n",
       "      <td id=\"T_2c1d1_row0_col5\" class=\"data row0 col5\" >22.608315</td>\n",
       "      <td id=\"T_2c1d1_row0_col6\" class=\"data row0 col6\" >30.928521</td>\n",
       "      <td id=\"T_2c1d1_row0_col7\" class=\"data row0 col7\" >26.504015</td>\n",
       "      <td id=\"T_2c1d1_row0_col8\" class=\"data row0 col8\" >25.921443</td>\n",
       "    </tr>\n",
       "    <tr>\n",
       "      <th id=\"T_2c1d1_level0_row1\" class=\"row_heading level0 row1\" >cc-pCVTZ</th>\n",
       "      <td id=\"T_2c1d1_row1_col0\" class=\"data row1 col0\" >39.034716</td>\n",
       "      <td id=\"T_2c1d1_row1_col1\" class=\"data row1 col1\" >19.528758</td>\n",
       "      <td id=\"T_2c1d1_row1_col2\" class=\"data row1 col2\" >9.119990</td>\n",
       "      <td id=\"T_2c1d1_row1_col3\" class=\"data row1 col3\" >10.514403</td>\n",
       "      <td id=\"T_2c1d1_row1_col4\" class=\"data row1 col4\" >11.225939</td>\n",
       "      <td id=\"T_2c1d1_row1_col5\" class=\"data row1 col5\" >9.027575</td>\n",
       "      <td id=\"T_2c1d1_row1_col6\" class=\"data row1 col6\" >14.497921</td>\n",
       "      <td id=\"T_2c1d1_row1_col7\" class=\"data row1 col7\" >8.457648</td>\n",
       "      <td id=\"T_2c1d1_row1_col8\" class=\"data row1 col8\" >8.067539</td>\n",
       "    </tr>\n",
       "    <tr>\n",
       "      <th id=\"T_2c1d1_level0_row2\" class=\"row_heading level0 row2\" >cc-pCVQZ</th>\n",
       "      <td id=\"T_2c1d1_row2_col0\" class=\"data row2 col0\" >40.602684</td>\n",
       "      <td id=\"T_2c1d1_row2_col1\" class=\"data row2 col1\" >18.267680</td>\n",
       "      <td id=\"T_2c1d1_row2_col2\" class=\"data row2 col2\" >10.140804</td>\n",
       "      <td id=\"T_2c1d1_row2_col3\" class=\"data row2 col3\" >9.835798</td>\n",
       "      <td id=\"T_2c1d1_row2_col4\" class=\"data row2 col4\" >10.617218</td>\n",
       "      <td id=\"T_2c1d1_row2_col5\" class=\"data row2 col5\" >8.654956</td>\n",
       "      <td id=\"T_2c1d1_row2_col6\" class=\"data row2 col6\" >10.441652</td>\n",
       "      <td id=\"T_2c1d1_row2_col7\" class=\"data row2 col7\" >3.303437</td>\n",
       "      <td id=\"T_2c1d1_row2_col8\" class=\"data row2 col8\" >2.880693</td>\n",
       "    </tr>\n",
       "    <tr>\n",
       "      <th id=\"T_2c1d1_level0_row3\" class=\"row_heading level0 row3\" >cc-pCV5Z</th>\n",
       "      <td id=\"T_2c1d1_row3_col0\" class=\"data row3 col0\" >41.238203</td>\n",
       "      <td id=\"T_2c1d1_row3_col1\" class=\"data row3 col1\" >18.168890</td>\n",
       "      <td id=\"T_2c1d1_row3_col2\" class=\"data row3 col2\" >11.048318</td>\n",
       "      <td id=\"T_2c1d1_row3_col3\" class=\"data row3 col3\" >10.112304</td>\n",
       "      <td id=\"T_2c1d1_row3_col4\" class=\"data row3 col4\" >10.884534</td>\n",
       "      <td id=\"T_2c1d1_row3_col5\" class=\"data row3 col5\" >9.204159</td>\n",
       "      <td id=\"T_2c1d1_row3_col6\" class=\"data row3 col6\" >9.145103</td>\n",
       "      <td id=\"T_2c1d1_row3_col7\" class=\"data row3 col7\" >1.833756</td>\n",
       "      <td id=\"T_2c1d1_row3_col8\" class=\"data row3 col8\" >1.508516</td>\n",
       "    </tr>\n",
       "    <tr>\n",
       "      <th id=\"T_2c1d1_level0_row4\" class=\"row_heading level0 row4\" >DT</th>\n",
       "      <td id=\"T_2c1d1_row4_col0\" class=\"data row4 col0\" >39.034716</td>\n",
       "      <td id=\"T_2c1d1_row4_col1\" class=\"data row4 col1\" >16.854376</td>\n",
       "      <td id=\"T_2c1d1_row4_col2\" class=\"data row4 col2\" >12.314934</td>\n",
       "      <td id=\"T_2c1d1_row4_col3\" class=\"data row4 col3\" >11.300724</td>\n",
       "      <td id=\"T_2c1d1_row4_col4\" class=\"data row4 col4\" >11.888249</td>\n",
       "      <td id=\"T_2c1d1_row4_col5\" class=\"data row4 col5\" >9.305779</td>\n",
       "      <td id=\"T_2c1d1_row4_col6\" class=\"data row4 col6\" >10.616360</td>\n",
       "      <td id=\"T_2c1d1_row4_col7\" class=\"data row4 col7\" >5.928093</td>\n",
       "      <td id=\"T_2c1d1_row4_col8\" class=\"data row4 col8\" >4.828084</td>\n",
       "    </tr>\n",
       "    <tr>\n",
       "      <th id=\"T_2c1d1_level0_row5\" class=\"row_heading level0 row5\" >TQ</th>\n",
       "      <td id=\"T_2c1d1_row5_col0\" class=\"data row5 col0\" >40.602684</td>\n",
       "      <td id=\"T_2c1d1_row5_col1\" class=\"data row5 col1\" >18.420419</td>\n",
       "      <td id=\"T_2c1d1_row5_col2\" class=\"data row5 col2\" >10.969529</td>\n",
       "      <td id=\"T_2c1d1_row5_col3\" class=\"data row5 col3\" >9.620094</td>\n",
       "      <td id=\"T_2c1d1_row5_col4\" class=\"data row5 col4\" >10.357727</td>\n",
       "      <td id=\"T_2c1d1_row5_col5\" class=\"data row5 col5\" >8.747805</td>\n",
       "      <td id=\"T_2c1d1_row5_col6\" class=\"data row5 col6\" >9.586242</td>\n",
       "      <td id=\"T_2c1d1_row5_col7\" class=\"data row5 col7\" >1.925383</td>\n",
       "      <td id=\"T_2c1d1_row5_col8\" class=\"data row5 col8\" >1.228557</td>\n",
       "    </tr>\n",
       "    <tr>\n",
       "      <th id=\"T_2c1d1_level0_row6\" class=\"row_heading level0 row6\" >Q5</th>\n",
       "      <td id=\"T_2c1d1_row6_col0\" class=\"data row6 col0\" >41.238203</td>\n",
       "      <td id=\"T_2c1d1_row6_col1\" class=\"data row6 col1\" >18.701941</td>\n",
       "      <td id=\"T_2c1d1_row6_col2\" class=\"data row6 col2\" >10.989039</td>\n",
       "      <td id=\"T_2c1d1_row6_col3\" class=\"data row6 col3\" >9.599705</td>\n",
       "      <td id=\"T_2c1d1_row6_col4\" class=\"data row6 col4\" >10.372099</td>\n",
       "      <td id=\"T_2c1d1_row6_col5\" class=\"data row6 col5\" >9.036057</td>\n",
       "      <td id=\"T_2c1d1_row6_col6\" class=\"data row6 col6\" >9.135722</td>\n",
       "      <td id=\"T_2c1d1_row6_col7\" class=\"data row6 col7\" >1.254658</td>\n",
       "      <td id=\"T_2c1d1_row6_col8\" class=\"data row6 col8\" >1.217626</td>\n",
       "    </tr>\n",
       "  </tbody>\n",
       "</table>\n"
      ],
      "text/plain": [
       "<pandas.io.formats.style.Styler at 0x17860c400>"
      ]
     },
     "execution_count": 24,
     "metadata": {},
     "output_type": "execute_result"
    }
   ],
   "source": [
    "df_exp_reaction_std=pd.DataFrame(data=lit_exp_molpro_std)\n",
    "df_exp_reaction_std.style.set_caption(\"Standard deviation of errors\")"
   ]
  },
  {
   "cell_type": "code",
   "execution_count": 25,
   "metadata": {},
   "outputs": [],
   "source": [
    "with open(project_name+'.tex','w') as tf:\n",
    "    tf.write('\\\\def\\\\toprule{\\\\hline\\\\hline}\\n\\\\def\\\\midrule{\\\\hline}\\n\\\\def\\\\bottomrule{\\\\hline\\\\hline}')\n",
    "    tf.write(df_exp_reaction_meanerror.style.to_latex())\n",
    "    tf.write(df_exp_reaction_std.style.to_latex())\n",
    "    tf.write(df_exp_reaction_meanabserror.style.to_latex())\n",
    "    tf.write(df_exp_reaction_maxerror.style.to_latex())"
   ]
  }
 ],
 "metadata": {
  "kernelspec": {
   "display_name": "Python [conda env:pysjef] *",
   "language": "python",
   "name": "conda-env-pysjef-py"
  },
  "language_info": {
   "codemirror_mode": {
    "name": "ipython",
    "version": 3
   },
   "file_extension": ".py",
   "mimetype": "text/x-python",
   "name": "python",
   "nbconvert_exporter": "python",
   "pygments_lexer": "ipython3",
   "version": "3.10.6"
  },
  "toc": {
   "base_numbering": 1,
   "nav_menu": {},
   "number_sections": true,
   "sideBar": true,
   "skip_h1_title": false,
   "title_cell": "Table of Contents",
   "title_sidebar": "Contents",
   "toc_cell": false,
   "toc_position": {},
   "toc_section_display": true,
   "toc_window_display": false
  },
  "varInspector": {
   "cols": {
    "lenName": 16,
    "lenType": 16,
    "lenVar": 40
   },
   "kernels_config": {
    "python": {
     "delete_cmd_postfix": "",
     "delete_cmd_prefix": "del ",
     "library": "var_list.py",
     "varRefreshCmd": "print(var_dic_list())"
    },
    "r": {
     "delete_cmd_postfix": ") ",
     "delete_cmd_prefix": "rm(",
     "library": "var_list.r",
     "varRefreshCmd": "cat(var_dic_list()) "
    }
   },
   "types_to_exclude": [
    "module",
    "function",
    "builtin_function_or_method",
    "instance",
    "_Feature"
   ],
   "window_display": false
  }
 },
 "nbformat": 4,
 "nbformat_minor": 4
}
