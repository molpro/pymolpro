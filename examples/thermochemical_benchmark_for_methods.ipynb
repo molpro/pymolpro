{
 "cells": [
  {
   "cell_type": "markdown",
   "metadata": {},
   "source": [
    "# Closed shell reactions with core correlation"
   ]
  },
  {
   "cell_type": "markdown",
   "metadata": {},
   "source": [
    "Bak et al., [doi:10.1063/1.1357225](https://doi.org/10.1063/1.1357225) and [doi:10.1063/1.481544](https://doi.org/10.1063/1.481544)"
   ]
  },
  {
   "cell_type": "code",
   "execution_count": 1,
   "metadata": {},
   "outputs": [],
   "source": [
    "import pymolpro\n",
    "import pandas as pd"
   ]
  },
  {
   "cell_type": "code",
   "execution_count": 2,
   "metadata": {},
   "outputs": [],
   "source": [
    "backend = 'local'  # If preferred, change this to one of the backends in your ~/.sjef/molpro/backends.xml that is ssh-accessible\n",
    "project_name = 'Core_Valence_reactions'\n",
    "parallel = None  # how many jobs to run at once"
   ]
  },
  {
   "cell_type": "code",
   "execution_count": 3,
   "metadata": {},
   "outputs": [],
   "source": [
    "methods = ['HF', 'MP2', 'CCSD', 'CCSD(T)']\n",
    "bases = ['cc-pCVDZ', 'cc-pCVTZ', 'cc-pCVQZ', 'cc-pCV5Z']"
   ]
  },
  {
   "cell_type": "code",
   "execution_count": 4,
   "metadata": {},
   "outputs": [],
   "source": [
    "closed_shell_methods = {'B3LYP': \"ks, b3lyp\", \"HF\": \"hf\", \"MP2\": \"mp2\", \"MP3\": \"mp3\", \"MP4\": \"mp4\", \"CCSD\": \"ccsd\",\n",
    "                        \"CCSD(T)\": \"ccsd(t)\", \"PAPT2\": \"papt;mp2\", \"PAPT3\": \"papt;mp3\", \"PAPT4\": \"papt;mp4\"}"
   ]
  },
  {
   "cell_type": "code",
   "execution_count": 5,
   "metadata": {},
   "outputs": [],
   "source": [
    "db = pymolpro.database.library(\"Bak2000_reactions\")"
   ]
  },
  {
   "cell_type": "code",
   "execution_count": 6,
   "metadata": {
    "collapsed": false
   },
   "outputs": [],
   "source": [
    "results = {}\n",
    "for method in methods:\n",
    "    results[method] = {}\n",
    "    for basis in bases:\n",
    "        results[method][basis] = pymolpro.database.run(db, method, basis, location=project_name, backend=backend,\n",
    "                                                       preamble=\"core,small\")"
   ]
  },
  {
   "cell_type": "markdown",
   "metadata": {},
   "source": [
    "## Extrapolation"
   ]
  },
  {
   "cell_type": "code",
   "execution_count": 7,
   "metadata": {},
   "outputs": [],
   "source": [
    "extrapolations = {}\n",
    "if 'cc-pCVDZ' in bases and 'cc-pCVTZ' in bases:\n",
    "    extrapolations[\"cc-pCV[23]Z\"] = {'x': 2, 'first': 'cc-pCVDZ', 'second': 'cc-pCVTZ'}\n",
    "if 'cc-pCVTZ' in bases and 'cc-pCVQZ' in bases:\n",
    "    extrapolations[\"cc-pCV[34]Z\"] = {'x': 3, 'first': 'cc-pCVTZ', 'second': 'cc-pCVQZ'}\n",
    "if 'cc-pCVQZ' in bases and 'cc-pCV5Z' in bases:\n",
    "    extrapolations[\"cc-pCV[45]Z\"] = {'x': 4, 'first': 'cc-pCVQZ', 'second': 'cc-pCV5Z'}\n",
    "\n",
    "for extr in extrapolations:\n",
    "    x = extrapolations[extr]['x']\n",
    "    xbas = extrapolations[extr]['first']\n",
    "    xpbas = extrapolations[extr]['second']\n",
    "    for method in methods:\n",
    "        results[method][extr] = pymolpro.database.basis_extrapolate(\n",
    "            [results[method][xbas], results[method][xpbas]],\n",
    "            [results['HF'][xbas], results['HF'][xpbas]],\n",
    "            [x, x + 1]\n",
    "        )\n",
    "    bases.append(extr) if extr not in bases else \"\"\n"
   ]
  },
  {
   "cell_type": "code",
   "execution_count": 8,
   "metadata": {
    "collapsed": false
   },
   "outputs": [
    {
     "data": {
      "text/html": [
       "<div>\n",
       "<style scoped>\n",
       "    .dataframe tbody tr th:only-of-type {\n",
       "        vertical-align: middle;\n",
       "    }\n",
       "\n",
       "    .dataframe tbody tr th {\n",
       "        vertical-align: top;\n",
       "    }\n",
       "\n",
       "    .dataframe thead tr th {\n",
       "        text-align: left;\n",
       "    }\n",
       "</style>\n",
       "<table border=\"1\" class=\"dataframe\">\n",
       "  <thead>\n",
       "    <tr>\n",
       "      <th></th>\n",
       "      <th>HF</th>\n",
       "      <th>MP2</th>\n",
       "      <th>CCSD</th>\n",
       "      <th>CCSD(T)</th>\n",
       "    </tr>\n",
       "    <tr>\n",
       "      <th></th>\n",
       "      <th>cc-pCV5Z</th>\n",
       "      <th>cc-pCV5Z</th>\n",
       "      <th>cc-pCV5Z</th>\n",
       "      <th>cc-pCV5Z</th>\n",
       "    </tr>\n",
       "  </thead>\n",
       "  <tbody>\n",
       "    <tr>\n",
       "      <th>mean</th>\n",
       "      <td>9.25</td>\n",
       "      <td>-10.49</td>\n",
       "      <td>-5.78</td>\n",
       "      <td>0.39</td>\n",
       "    </tr>\n",
       "    <tr>\n",
       "      <th>stdev</th>\n",
       "      <td>41.24</td>\n",
       "      <td>18.17</td>\n",
       "      <td>9.20</td>\n",
       "      <td>1.51</td>\n",
       "    </tr>\n",
       "    <tr>\n",
       "      <th>meanabs</th>\n",
       "      <td>29.06</td>\n",
       "      <td>14.46</td>\n",
       "      <td>9.37</td>\n",
       "      <td>1.30</td>\n",
       "    </tr>\n",
       "    <tr>\n",
       "      <th>maxabs</th>\n",
       "      <td>113.66</td>\n",
       "      <td>50.01</td>\n",
       "      <td>17.72</td>\n",
       "      <td>3.00</td>\n",
       "    </tr>\n",
       "  </tbody>\n",
       "</table>\n",
       "</div>"
      ],
      "text/plain": [
       "              HF      MP2     CCSD  CCSD(T)\n",
       "        cc-pCV5Z cc-pCV5Z cc-pCV5Z cc-pCV5Z\n",
       "mean        9.25   -10.49    -5.78     0.39\n",
       "stdev      41.24    18.17     9.20     1.51\n",
       "meanabs    29.06    14.46     9.37     1.30\n",
       "maxabs    113.66    50.01    17.72     3.00"
      ]
     },
     "execution_count": 8,
     "metadata": {},
     "output_type": "execute_result"
    }
   ],
   "source": [
    "tokj = 2625.49963948\n",
    "pd.set_option('display.precision', 2)\n",
    "method_errors = pymolpro.database.compare([results[method]['cc-pCV5Z'] for method in methods], db.reference_results())[\n",
    "                    'reaction statistics'] * tokj\n",
    "method_errors"
   ]
  },
  {
   "cell_type": "code",
   "execution_count": 9,
   "metadata": {
    "collapsed": false
   },
   "outputs": [
    {
     "data": {
      "text/html": [
       "<div>\n",
       "<style scoped>\n",
       "    .dataframe tbody tr th:only-of-type {\n",
       "        vertical-align: middle;\n",
       "    }\n",
       "\n",
       "    .dataframe tbody tr th {\n",
       "        vertical-align: top;\n",
       "    }\n",
       "\n",
       "    .dataframe thead tr th {\n",
       "        text-align: left;\n",
       "    }\n",
       "</style>\n",
       "<table border=\"1\" class=\"dataframe\">\n",
       "  <thead>\n",
       "    <tr>\n",
       "      <th></th>\n",
       "      <th colspan=\"7\" halign=\"left\">CCSD(T)</th>\n",
       "    </tr>\n",
       "    <tr>\n",
       "      <th></th>\n",
       "      <th>cc-pCVDZ</th>\n",
       "      <th>cc-pCVTZ</th>\n",
       "      <th>cc-pCVQZ</th>\n",
       "      <th>cc-pCV5Z</th>\n",
       "      <th>cc-pCV[23]Z</th>\n",
       "      <th>cc-pCV[34]Z</th>\n",
       "      <th>cc-pCV[45]Z</th>\n",
       "    </tr>\n",
       "  </thead>\n",
       "  <tbody>\n",
       "    <tr>\n",
       "      <th>mean</th>\n",
       "      <td>33.39</td>\n",
       "      <td>11.31</td>\n",
       "      <td>3.02</td>\n",
       "      <td>0.39</td>\n",
       "      <td>2.70</td>\n",
       "      <td>-1.13</td>\n",
       "      <td>-0.83</td>\n",
       "    </tr>\n",
       "    <tr>\n",
       "      <th>stdev</th>\n",
       "      <td>25.92</td>\n",
       "      <td>8.07</td>\n",
       "      <td>2.88</td>\n",
       "      <td>1.51</td>\n",
       "      <td>4.83</td>\n",
       "      <td>1.23</td>\n",
       "      <td>1.22</td>\n",
       "    </tr>\n",
       "    <tr>\n",
       "      <th>meanabs</th>\n",
       "      <td>36.73</td>\n",
       "      <td>12.05</td>\n",
       "      <td>3.70</td>\n",
       "      <td>1.30</td>\n",
       "      <td>4.37</td>\n",
       "      <td>1.33</td>\n",
       "      <td>1.19</td>\n",
       "    </tr>\n",
       "    <tr>\n",
       "      <th>maxabs</th>\n",
       "      <td>65.92</td>\n",
       "      <td>21.33</td>\n",
       "      <td>6.97</td>\n",
       "      <td>3.00</td>\n",
       "      <td>10.79</td>\n",
       "      <td>3.15</td>\n",
       "      <td>3.49</td>\n",
       "    </tr>\n",
       "  </tbody>\n",
       "</table>\n",
       "</div>"
      ],
      "text/plain": [
       "         CCSD(T)                                                     \\\n",
       "        cc-pCVDZ cc-pCVTZ cc-pCVQZ cc-pCV5Z cc-pCV[23]Z cc-pCV[34]Z   \n",
       "mean       33.39    11.31     3.02     0.39        2.70       -1.13   \n",
       "stdev      25.92     8.07     2.88     1.51        4.83        1.23   \n",
       "meanabs    36.73    12.05     3.70     1.30        4.37        1.33   \n",
       "maxabs     65.92    21.33     6.97     3.00       10.79        3.15   \n",
       "\n",
       "                     \n",
       "        cc-pCV[45]Z  \n",
       "mean          -0.83  \n",
       "stdev          1.22  \n",
       "meanabs        1.19  \n",
       "maxabs         3.49  "
      ]
     },
     "execution_count": 9,
     "metadata": {},
     "output_type": "execute_result"
    }
   ],
   "source": [
    "pd.set_option('display.precision', 2)\n",
    "basis_errors = pymolpro.database.compare([results['CCSD(T)'][basis] for basis in bases], db.reference_results())[\n",
    "                   'reaction statistics'] * tokj\n",
    "basis_errors"
   ]
  },
  {
   "cell_type": "code",
   "execution_count": 10,
   "metadata": {
    "collapsed": false
   },
   "outputs": [
    {
     "data": {
      "image/png": "[encoded data removed]",
      "text/plain": [
       "<Figure size 1800x600 with 5 Axes>"
      ]
     },
     "metadata": {},
     "output_type": "display_data"
    }
   ],
   "source": [
    "import matplotlib.pyplot as plt\n",
    "\n",
    "methods_pruned = [method for method in methods if method != 'HF']\n",
    "bases_pruned = ['cc-pCVTZ', 'cc-pCVQZ', 'cc-pCV5Z', 'cc-pCV[34]Z', 'cc-pCV[45]Z']\n",
    "fig, panes = plt.subplots(nrows=1, ncols=len(bases_pruned), sharey=True, figsize=(18, 6))\n",
    "\n",
    "for pane in range(len(bases_pruned)):\n",
    "    data = []\n",
    "    for method in methods_pruned:\n",
    "        data.append(\n",
    "            pymolpro.database.compare(results[method][bases_pruned[pane]],\n",
    "                                      db.reference_results())['reaction energy errors'].to_numpy()[:, 0] * tokj\n",
    "        )\n",
    "    panes[pane].violinplot(data, showmeans=True, showextrema=True, vert=True, bw_method='silverman')\n",
    "    panes[pane].set_xticks(range(1, len(methods_pruned) + 1), labels=methods_pruned, rotation=-90)\n",
    "    panes[pane].set_title(bases_pruned[pane])\n",
    "panes[0].set_ylabel('Error / kJ/mol')\n",
    "plt.savefig(project_name + \".violin.pdf\")"
   ]
  },
  {
   "cell_type": "code",
   "execution_count": 11,
   "metadata": {
    "collapsed": false
   },
   "outputs": [
    {
     "ename": "NameError",
     "evalue": "name 'df_exp_reaction_meanerror' is not defined",
     "output_type": "error",
     "traceback": [
      "\u001b[0;31m---------------------------------------------------------------------------\u001b[0m",
      "\u001b[0;31mNameError\u001b[0m                                 Traceback (most recent call last)",
      "Cell \u001b[0;32mIn[11], line 3\u001b[0m\n\u001b[1;32m      1\u001b[0m \u001b[38;5;28;01mwith\u001b[39;00m \u001b[38;5;28mopen\u001b[39m(project_name \u001b[38;5;241m+\u001b[39m \u001b[38;5;124m'\u001b[39m\u001b[38;5;124m.tex\u001b[39m\u001b[38;5;124m'\u001b[39m, \u001b[38;5;124m'\u001b[39m\u001b[38;5;124mw\u001b[39m\u001b[38;5;124m'\u001b[39m) \u001b[38;5;28;01mas\u001b[39;00m tf:\n\u001b[1;32m      2\u001b[0m     tf\u001b[38;5;241m.\u001b[39mwrite(\u001b[38;5;124m'\u001b[39m\u001b[38;5;130;01m\\\\\u001b[39;00m\u001b[38;5;124mdef\u001b[39m\u001b[38;5;130;01m\\\\\u001b[39;00m\u001b[38;5;124mtoprule\u001b[39m\u001b[38;5;124m{\u001b[39m\u001b[38;5;130;01m\\\\\u001b[39;00m\u001b[38;5;124mhline\u001b[39m\u001b[38;5;130;01m\\\\\u001b[39;00m\u001b[38;5;124mhline}\u001b[39m\u001b[38;5;130;01m\\n\u001b[39;00m\u001b[38;5;130;01m\\\\\u001b[39;00m\u001b[38;5;124mdef\u001b[39m\u001b[38;5;130;01m\\\\\u001b[39;00m\u001b[38;5;124mmidrule\u001b[39m\u001b[38;5;124m{\u001b[39m\u001b[38;5;130;01m\\\\\u001b[39;00m\u001b[38;5;124mhline}\u001b[39m\u001b[38;5;130;01m\\n\u001b[39;00m\u001b[38;5;130;01m\\\\\u001b[39;00m\u001b[38;5;124mdef\u001b[39m\u001b[38;5;130;01m\\\\\u001b[39;00m\u001b[38;5;124mbottomrule\u001b[39m\u001b[38;5;124m{\u001b[39m\u001b[38;5;130;01m\\\\\u001b[39;00m\u001b[38;5;124mhline\u001b[39m\u001b[38;5;130;01m\\\\\u001b[39;00m\u001b[38;5;124mhline}\u001b[39m\u001b[38;5;124m'\u001b[39m)\n\u001b[0;32m----> 3\u001b[0m     tf\u001b[38;5;241m.\u001b[39mwrite(\u001b[43mdf_exp_reaction_meanerror\u001b[49m\u001b[38;5;241m.\u001b[39mstyle\u001b[38;5;241m.\u001b[39mto_latex())\n\u001b[1;32m      4\u001b[0m     tf\u001b[38;5;241m.\u001b[39mwrite(df_exp_reaction_std\u001b[38;5;241m.\u001b[39mstyle\u001b[38;5;241m.\u001b[39mto_latex())\n\u001b[1;32m      5\u001b[0m     tf\u001b[38;5;241m.\u001b[39mwrite(df_exp_reaction_meanabserror\u001b[38;5;241m.\u001b[39mstyle\u001b[38;5;241m.\u001b[39mto_latex())\n",
      "\u001b[0;31mNameError\u001b[0m: name 'df_exp_reaction_meanerror' is not defined"
     ]
    }
   ],
   "source": [
    "with open(project_name + '.tex', 'w') as tf:\n",
    "    tf.write('\\\\def\\\\toprule{\\\\hline\\\\hline}\\n\\\\def\\\\midrule{\\\\hline}\\n\\\\def\\\\bottomrule{\\\\hline\\\\hline}')\n",
    "    tf.write(df_exp_reaction_meanerror.style.to_latex())\n",
    "    tf.write(df_exp_reaction_std.style.to_latex())\n",
    "    tf.write(df_exp_reaction_meanabserror.style.to_latex())\n",
    "    tf.write(df_exp_reaction_maxerror.style.to_latex())"
   ]
  },
  {
   "cell_type": "code",
   "execution_count": null,
   "metadata": {
    "collapsed": false
   },
   "outputs": [],
   "source": []
  }
 ],
 "metadata": {
  "kernelspec": {
   "display_name": "Python 3 (ipykernel)",
   "language": "python",
   "name": "python3"
  },
  "language_info": {
   "codemirror_mode": {
    "name": "ipython",
    "version": 3
   },
   "file_extension": ".py",
   "mimetype": "text/x-python",
   "name": "python",
   "nbconvert_exporter": "python",
   "pygments_lexer": "ipython3",
   "version": "3.10.6"
  },
  "toc": {
   "base_numbering": 1,
   "nav_menu": {},
   "number_sections": true,
   "sideBar": true,
   "skip_h1_title": false,
   "title_cell": "Table of Contents",
   "title_sidebar": "Contents",
   "toc_cell": false,
   "toc_position": {},
   "toc_section_display": true,
   "toc_window_display": false
  },
  "varInspector": {
   "cols": {
    "lenName": 16,
    "lenType": 16,
    "lenVar": 40
   },
   "kernels_config": {
    "python": {
     "delete_cmd_postfix": "",
     "delete_cmd_prefix": "del ",
     "library": "var_list.py",
     "varRefreshCmd": "print(var_dic_list())"
    },
    "r": {
     "delete_cmd_postfix": ") ",
     "delete_cmd_prefix": "rm(",
     "library": "var_list.r",
     "varRefreshCmd": "cat(var_dic_list()) "
    }
   },
   "types_to_exclude": [
    "module",
    "function",
    "builtin_function_or_method",
    "instance",
    "_Feature"
   ],
   "window_display": false
  }
 },
 "nbformat": 4,
 "nbformat_minor": 4
}
