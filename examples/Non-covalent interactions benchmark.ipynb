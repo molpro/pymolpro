{
 "cells": [
  {
   "cell_type": "markdown",
   "metadata": {},
   "source": [
    "# Non-covalent interactions benchmark"
   ]
  },
  {
   "cell_type": "code",
   "execution_count": 1,
   "metadata": {
    "ExecuteTime": {
     "end_time": "2023-05-01T23:12:06.663090Z",
     "start_time": "2023-05-01T23:12:06.304474Z"
    }
   },
   "outputs": [],
   "source": [
    "import pymolpro\n",
    "import pandas as pd"
   ]
  },
  {
   "cell_type": "code",
   "execution_count": 2,
   "metadata": {
    "ExecuteTime": {
     "end_time": "2023-05-01T23:12:06.665351Z",
     "start_time": "2023-05-01T23:12:06.664237Z"
    }
   },
   "outputs": [],
   "source": [
    "backend = 'local'  # If preferred, change this to one of the backends in your ~/.sjef/molpro/backends.xml that is ssh-accessible\n",
    "project_name = 'Non-covalent interactions benchmark'\n",
    "parallel = None  # how many jobs to run at once"
   ]
  },
  {
   "cell_type": "code",
   "execution_count": 3,
   "metadata": {
    "ExecuteTime": {
     "end_time": "2023-05-01T23:12:06.667708Z",
     "start_time": "2023-05-01T23:12:06.666512Z"
    }
   },
   "outputs": [],
   "source": [
    "methods = {\"HF\": \"df-hf\", \"MP2\": \"df-mp2\", \"LMP2\": \"df-lmp2\", }\n",
    "bases = ['aug-cc-pVDZ', 'aug-cc-pVTZ', 'aug-cc-pVQZ']"
   ]
  },
  {
   "cell_type": "code",
   "execution_count": 4,
   "metadata": {
    "ExecuteTime": {
     "end_time": "2023-05-01T23:12:06.671134Z",
     "start_time": "2023-05-01T23:12:06.668910Z"
    },
    "collapsed": false,
    "jupyter": {
     "outputs_hidden": false
    }
   },
   "outputs": [],
   "source": [
    "db = pymolpro.database.load(\"GMTKN55_S22\").subset('small')"
   ]
  },
  {
   "cell_type": "code",
   "execution_count": 5,
   "metadata": {
    "ExecuteTime": {
     "end_time": "2023-05-01T23:12:08.135297Z",
     "start_time": "2023-05-01T23:12:06.673321Z"
    },
    "collapsed": false,
    "jupyter": {
     "outputs_hidden": false
    }
   },
   "outputs": [],
   "source": [
    "results = {}\n",
    "for method in methods:\n",
    "    results[method] = {}\n",
    "    for basis in bases:\n",
    "        results[method][basis] = pymolpro.database.run(db, method=methods[method], basis=basis, location=project_name,\n",
    "                                                       backend=backend, parallel=parallel)"
   ]
  },
  {
   "cell_type": "code",
   "execution_count": 6,
   "metadata": {
    "ExecuteTime": {
     "end_time": "2023-05-01T23:12:08.138419Z",
     "start_time": "2023-05-01T23:12:08.136538Z"
    },
    "collapsed": false,
    "jupyter": {
     "outputs_hidden": false
    }
   },
   "outputs": [],
   "source": [
    "for method in methods:\n",
    "    for result in pymolpro.database.basis_extrapolate(results[method].values(),results['HF'].values()):\n",
    "        results[method][result.basis]=result\n",
    "    for basis in results[method]:\n",
    "        if basis not in bases: bases.append(basis)"
   ]
  },
  {
   "cell_type": "code",
   "execution_count": 7,
   "metadata": {
    "ExecuteTime": {
     "end_time": "2023-05-02T12:26:47.382660Z",
     "start_time": "2023-05-02T12:26:47.371530Z"
    },
    "collapsed": false,
    "jupyter": {
     "outputs_hidden": false
    }
   },
   "outputs": [
    {
     "data": {
      "text/html": [
       "<div>\n",
       "<style scoped>\n",
       "    .dataframe tbody tr th:only-of-type {\n",
       "        vertical-align: middle;\n",
       "    }\n",
       "\n",
       "    .dataframe tbody tr th {\n",
       "        vertical-align: top;\n",
       "    }\n",
       "\n",
       "    .dataframe thead th {\n",
       "        text-align: right;\n",
       "    }\n",
       "</style>\n",
       "<table border=\"1\" class=\"dataframe\">\n",
       "  <thead>\n",
       "    <tr style=\"text-align: right;\">\n",
       "      <th></th>\n",
       "      <th>DF-HF/aug-cc-pVQZ</th>\n",
       "      <th>DF-MP2/aug-cc-pVQZ</th>\n",
       "      <th>DF-LMP2/aug-cc-pVQZ</th>\n",
       "    </tr>\n",
       "  </thead>\n",
       "  <tbody>\n",
       "    <tr>\n",
       "      <th>MAD</th>\n",
       "      <td>6.08</td>\n",
       "      <td>0.22</td>\n",
       "      <td>0.54</td>\n",
       "    </tr>\n",
       "    <tr>\n",
       "      <th>MAXD</th>\n",
       "      <td>7.52</td>\n",
       "      <td>0.42</td>\n",
       "      <td>0.79</td>\n",
       "    </tr>\n",
       "    <tr>\n",
       "      <th>RMSD</th>\n",
       "      <td>6.30</td>\n",
       "      <td>0.28</td>\n",
       "      <td>0.58</td>\n",
       "    </tr>\n",
       "    <tr>\n",
       "      <th>MSD</th>\n",
       "      <td>-6.08</td>\n",
       "      <td>0.22</td>\n",
       "      <td>-0.54</td>\n",
       "    </tr>\n",
       "    <tr>\n",
       "      <th>STDEVD</th>\n",
       "      <td>2.03</td>\n",
       "      <td>0.21</td>\n",
       "      <td>0.26</td>\n",
       "    </tr>\n",
       "  </tbody>\n",
       "</table>\n",
       "</div>"
      ],
      "text/plain": [
       "        DF-HF/aug-cc-pVQZ  DF-MP2/aug-cc-pVQZ  DF-LMP2/aug-cc-pVQZ\n",
       "MAD                  6.08                0.22                 0.54\n",
       "MAXD                 7.52                0.42                 0.79\n",
       "RMSD                 6.30                0.28                 0.58\n",
       "MSD                 -6.08                0.22                -0.54\n",
       "STDEVD               2.03                0.21                 0.26"
      ]
     },
     "execution_count": 7,
     "metadata": {},
     "output_type": "execute_result"
    }
   ],
   "source": [
    "pd.set_option('display.precision', 2)\n",
    "method_errors = pymolpro.database.analyse([results[method]['aug-cc-pVQZ'] for method in methods], db, 'kJ/mol')[\n",
    "                    'reaction statistics']\n",
    "with open(project_name + '.method_errors.tex', 'w') as tf:\n",
    "    tf.write('\\\\ifx\\\\toprule\\\\undefined\\\\def\\\\toprule{\\\\hline\\\\hline}\\n\\\\def\\\\midrule{\\\\hline}\\n\\\\def\\\\bottomrule{\\\\hline\\\\hline}\\\\fi') # or \\usepackage{booktabs}\n",
    "    tf.write(method_errors.style.format(precision=2).to_latex(hrules=True,multicol_align='c',caption='Method errors'))\n",
    "method_errors"
   ]
  },
  {
   "cell_type": "code",
   "execution_count": 8,
   "metadata": {
    "ExecuteTime": {
     "end_time": "2023-05-02T06:43:48.652936Z",
     "start_time": "2023-05-02T06:43:48.649242Z"
    },
    "collapsed": false,
    "jupyter": {
     "outputs_hidden": false
    }
   },
   "outputs": [
    {
     "name": "stdout",
     "output_type": "stream",
     "text": [
      "results\n",
      "[{'method': ['hf', 'df-hf'], 'basis': 'aug-cc-pVQZ', 'unit': 'Hartree', 'molecule energies': {'02': -152.137348921515, '08': -80.4318272687273, '01': -112.450005978623, '01a': -56.2239391353761, '02a': -76.0660246769283, '08a': -40.2162104675589}}, {'method': ['hf', 'df-mp2'], 'basis': 'aug-cc-pVQZ', 'unit': 'Hartree', 'molecule energies': {'02': -152.711896534593, '08': -80.8555325153533, '01': -112.960568865909, '01a': -56.4777418852842, '02a': -76.3518936483437, '08a': -40.4273483053424}}, {'method': ['hf', 'df-lmp2'], 'basis': 'aug-cc-pVQZ', 'unit': 'Hartree', 'molecule energies': {'02': -152.709533151809, '08': -80.8536174728202, '01': -112.958067503889, '01a': -56.4766434227825, '02a': -76.3509422922261, '08a': -40.4264399856976}}]\n",
      "reaction energies\n",
      "   DF-HF/aug-cc-pVQZ  DF-MP2/aug-cc-pVQZ  DF-LMP2/aug-cc-pVQZ\n",
      "2           5.30e-03            8.11e-03             7.65e-03\n",
      "1           2.13e-03            5.09e-03             4.78e-03\n",
      "8          -5.94e-04            8.36e-04             7.38e-04\n",
      "reaction energy deviations\n",
      "   DF-HF/aug-cc-pVQZ  DF-MP2/aug-cc-pVQZ  DF-LMP2/aug-cc-pVQZ\n",
      "2          -2.65e-03            1.59e-04            -3.02e-04\n",
      "1          -2.87e-03            9.23e-05            -2.12e-04\n",
      "8          -1.43e-03           -3.92e-06            -1.02e-04\n",
      "reaction statistics\n",
      "        DF-HF/aug-cc-pVQZ  DF-MP2/aug-cc-pVQZ  DF-LMP2/aug-cc-pVQZ\n",
      "MAD              2.32e-03            8.50e-05             2.05e-04\n",
      "MAXD             2.87e-03            1.59e-04             3.02e-04\n",
      "RMSD             2.40e-03            1.06e-04             2.21e-04\n",
      "MSD             -2.32e-03            8.24e-05            -2.05e-04\n",
      "STDEVD           7.72e-04            8.18e-05             1.00e-04\n",
      "molecule energies\n",
      "     DF-HF/aug-cc-pVQZ  DF-MP2/aug-cc-pVQZ  DF-LMP2/aug-cc-pVQZ\n",
      "02             -152.14             -152.71              -152.71\n",
      "08              -80.43              -80.86               -80.85\n",
      "01             -112.45             -112.96              -112.96\n",
      "01a             -56.22              -56.48               -56.48\n",
      "02a             -76.07              -76.35               -76.35\n",
      "08a             -40.22              -40.43               -40.43\n",
      "molecule violin plot\n",
      "None\n",
      "reaction violin plot\n",
      "Figure(600x600)\n"
     ]
    }
   ],
   "source": [
    "for key, table in pymolpro.database.analyse([results[method]['aug-cc-pVQZ'] for method in methods], db).items():\n",
    "    print(key)\n",
    "    print(table)"
   ]
  },
  {
   "cell_type": "code",
   "execution_count": 9,
   "metadata": {
    "ExecuteTime": {
     "end_time": "2023-05-02T12:25:56.388995Z",
     "start_time": "2023-05-02T12:25:56.377711Z"
    },
    "collapsed": false,
    "jupyter": {
     "outputs_hidden": false
    }
   },
   "outputs": [
    {
     "data": {
      "text/html": [
       "<div>\n",
       "<style scoped>\n",
       "    .dataframe tbody tr th:only-of-type {\n",
       "        vertical-align: middle;\n",
       "    }\n",
       "\n",
       "    .dataframe tbody tr th {\n",
       "        vertical-align: top;\n",
       "    }\n",
       "\n",
       "    .dataframe thead th {\n",
       "        text-align: right;\n",
       "    }\n",
       "</style>\n",
       "<table border=\"1\" class=\"dataframe\">\n",
       "  <thead>\n",
       "    <tr style=\"text-align: right;\">\n",
       "      <th></th>\n",
       "      <th>DF-HF/aug-cc-pVQZ</th>\n",
       "      <th>DF-MP2/aug-cc-pVQZ</th>\n",
       "      <th>DF-LMP2/aug-cc-pVQZ</th>\n",
       "    </tr>\n",
       "  </thead>\n",
       "  <tbody>\n",
       "    <tr>\n",
       "      <th>2</th>\n",
       "      <td>-6.96</td>\n",
       "      <td>0.42</td>\n",
       "      <td>-0.79</td>\n",
       "    </tr>\n",
       "    <tr>\n",
       "      <th>1</th>\n",
       "      <td>-7.52</td>\n",
       "      <td>0.24</td>\n",
       "      <td>-0.56</td>\n",
       "    </tr>\n",
       "    <tr>\n",
       "      <th>8</th>\n",
       "      <td>-3.76</td>\n",
       "      <td>-0.01</td>\n",
       "      <td>-0.27</td>\n",
       "    </tr>\n",
       "  </tbody>\n",
       "</table>\n",
       "</div>"
      ],
      "text/plain": [
       "   DF-HF/aug-cc-pVQZ  DF-MP2/aug-cc-pVQZ  DF-LMP2/aug-cc-pVQZ\n",
       "2              -6.96                0.42                -0.79\n",
       "1              -7.52                0.24                -0.56\n",
       "8              -3.76               -0.01                -0.27"
      ]
     },
     "execution_count": 9,
     "metadata": {},
     "output_type": "execute_result"
    }
   ],
   "source": [
    "pd.set_option('display.precision', 2)\n",
    "method_errors = pymolpro.database.analyse([results[method]['aug-cc-pVQZ'] for method in methods], db, 'kJ/mol')[\n",
    "                    'reaction energy deviations']\n",
    "method_errors"
   ]
  },
  {
   "cell_type": "code",
   "execution_count": 10,
   "metadata": {
    "ExecuteTime": {
     "end_time": "2023-05-02T12:23:16.827929Z",
     "start_time": "2023-05-02T12:23:16.813556Z"
    },
    "collapsed": false,
    "jupyter": {
     "outputs_hidden": false
    }
   },
   "outputs": [
    {
     "data": {
      "text/html": [
       "<div>\n",
       "<style scoped>\n",
       "    .dataframe tbody tr th:only-of-type {\n",
       "        vertical-align: middle;\n",
       "    }\n",
       "\n",
       "    .dataframe tbody tr th {\n",
       "        vertical-align: top;\n",
       "    }\n",
       "\n",
       "    .dataframe thead th {\n",
       "        text-align: right;\n",
       "    }\n",
       "</style>\n",
       "<table border=\"1\" class=\"dataframe\">\n",
       "  <thead>\n",
       "    <tr style=\"text-align: right;\">\n",
       "      <th></th>\n",
       "      <th>DF-LMP2/aug-cc-pVDZ</th>\n",
       "      <th>DF-LMP2/aug-cc-pVTZ</th>\n",
       "      <th>DF-LMP2/aug-cc-pVQZ</th>\n",
       "      <th>DF-LMP2/aug-cc-pV[23]Z</th>\n",
       "      <th>DF-LMP2/aug-cc-pV[34]Z</th>\n",
       "    </tr>\n",
       "  </thead>\n",
       "  <tbody>\n",
       "    <tr>\n",
       "      <th>MAD</th>\n",
       "      <td>1.43</td>\n",
       "      <td>4.05</td>\n",
       "      <td>0.54</td>\n",
       "      <td>4.86</td>\n",
       "      <td>2.24</td>\n",
       "    </tr>\n",
       "    <tr>\n",
       "      <th>MAXD</th>\n",
       "      <td>2.23</td>\n",
       "      <td>10.63</td>\n",
       "      <td>0.79</td>\n",
       "      <td>13.76</td>\n",
       "      <td>6.46</td>\n",
       "    </tr>\n",
       "    <tr>\n",
       "      <th>RMSD</th>\n",
       "      <td>1.64</td>\n",
       "      <td>6.18</td>\n",
       "      <td>0.58</td>\n",
       "      <td>7.95</td>\n",
       "      <td>3.73</td>\n",
       "    </tr>\n",
       "    <tr>\n",
       "      <th>MSD</th>\n",
       "      <td>-1.21</td>\n",
       "      <td>-4.05</td>\n",
       "      <td>-0.54</td>\n",
       "      <td>-4.86</td>\n",
       "      <td>2.07</td>\n",
       "    </tr>\n",
       "    <tr>\n",
       "      <th>STDEVD</th>\n",
       "      <td>1.36</td>\n",
       "      <td>5.71</td>\n",
       "      <td>0.26</td>\n",
       "      <td>7.71</td>\n",
       "      <td>3.81</td>\n",
       "    </tr>\n",
       "  </tbody>\n",
       "</table>\n",
       "</div>"
      ],
      "text/plain": [
       "        DF-LMP2/aug-cc-pVDZ  DF-LMP2/aug-cc-pVTZ  DF-LMP2/aug-cc-pVQZ  \\\n",
       "MAD                    1.43                 4.05                 0.54   \n",
       "MAXD                   2.23                10.63                 0.79   \n",
       "RMSD                   1.64                 6.18                 0.58   \n",
       "MSD                   -1.21                -4.05                -0.54   \n",
       "STDEVD                 1.36                 5.71                 0.26   \n",
       "\n",
       "        DF-LMP2/aug-cc-pV[23]Z  DF-LMP2/aug-cc-pV[34]Z  \n",
       "MAD                       4.86                    2.24  \n",
       "MAXD                     13.76                    6.46  \n",
       "RMSD                      7.95                    3.73  \n",
       "MSD                      -4.86                    2.07  \n",
       "STDEVD                    7.71                    3.81  "
      ]
     },
     "execution_count": 10,
     "metadata": {},
     "output_type": "execute_result"
    }
   ],
   "source": [
    "pd.set_option('display.precision', 2)\n",
    "basis_errors = pymolpro.database.analyse([results['LMP2'][basis] for basis in bases], db, 'kJ/mol')[\n",
    "    'reaction statistics']\n",
    "with open(project_name + '.basis_errors.tex', 'w') as tf:\n",
    "    tf.write('\\\\ifx\\\\toprule\\\\undefined\\\\def\\\\toprule{\\\\hline\\\\hline}\\n\\\\def\\\\midrule{\\\\hline}\\n\\\\def\\\\bottomrule{\\\\hline\\\\hline}\\\\fi') # or \\usepackage{booktabs}\n",
    "    tf.write(basis_errors.style.format(precision=2).to_latex(hrules=True,multicol_align='c',caption='Basis errors'))\n",
    "basis_errors"
   ]
  },
  {
   "cell_type": "code",
   "execution_count": 11,
   "metadata": {
    "ExecuteTime": {
     "end_time": "2023-05-02T06:43:58.105675Z",
     "start_time": "2023-05-02T06:43:57.900086Z"
    },
    "collapsed": false,
    "jupyter": {
     "outputs_hidden": false
    }
   },
   "outputs": [
    {
     "data": {
      "image/png": "[encoded data removed]",
      "text/plain": [
       "<Figure size 1800x600 with 3 Axes>"
      ]
     },
     "metadata": {},
     "output_type": "display_data"
    }
   ],
   "source": [
    "import matplotlib.pyplot as plt\n",
    "\n",
    "methods_pruned = [method for method in methods if method != 'HF']\n",
    "bases_pruned = ['aug-cc-pVTZ', 'aug-cc-pVQZ', 'aug-cc-pV[34]Z']\n",
    "fig, panes = plt.subplots(nrows=1, ncols=len(bases_pruned), sharey=True, figsize=(18, 6))\n",
    "\n",
    "for pane in range(len(bases_pruned)):\n",
    "    data = []\n",
    "    for method in methods_pruned:\n",
    "        data.append(\n",
    "            pymolpro.database.analyse(results[method][bases_pruned[pane]],\n",
    "                                      db,'kJ/mol')['reaction energy deviations'].to_numpy()[:, 0]\n",
    "        )\n",
    "    panes[pane].violinplot(data, showmeans=True, showextrema=True, vert=True, bw_method='silverman')\n",
    "    panes[pane].set_xticks(range(1, len(methods_pruned) + 1), labels=methods_pruned, rotation=-90)\n",
    "    panes[pane].set_title(bases_pruned[pane])\n",
    "panes[0].set_ylabel('Error / kJ/mol')\n",
    "plt.savefig(project_name + \".violin.pdf\")"
   ]
  },
  {
   "cell_type": "code",
   "execution_count": 12,
   "metadata": {
    "ExecuteTime": {
     "end_time": "2023-05-02T07:01:12.847693Z",
     "start_time": "2023-05-02T07:01:12.843041Z"
    },
    "collapsed": false,
    "jupyter": {
     "outputs_hidden": false
    }
   },
   "outputs": [
    {
     "data": {
      "text/plain": [
       "'\\\\begin{tabular}{lrrrrr}\\n\\\\toprule\\n & DF-LMP2/aug-cc-pVDZ & DF-LMP2/aug-cc-pVTZ & DF-LMP2/aug-cc-pVQZ & DF-LMP2/aug-cc-pV[23]Z & DF-LMP2/aug-cc-pV[34]Z \\\\\\\\\\n\\\\midrule\\nMAD & 1.43 & 4.05 & 0.54 & 4.86 & 2.24 \\\\\\\\\\nMAXD & 2.23 & 10.63 & 0.79 & 13.76 & 6.46 \\\\\\\\\\nRMSD & 1.64 & 6.18 & 0.58 & 7.95 & 3.73 \\\\\\\\\\nMSD & -1.21 & -4.05 & -0.54 & -4.86 & 2.07 \\\\\\\\\\nSTDEVD & 1.36 & 5.71 & 0.26 & 7.71 & 3.81 \\\\\\\\\\n\\\\bottomrule\\n\\\\end{tabular}\\n'"
      ]
     },
     "execution_count": 12,
     "metadata": {},
     "output_type": "execute_result"
    }
   ],
   "source": [
    "basis_errors.to_latex(float_format='%.2f')"
   ]
  },
  {
   "cell_type": "code",
   "execution_count": 13,
   "metadata": {
    "ExecuteTime": {
     "end_time": "2023-05-02T07:08:32.683913Z",
     "start_time": "2023-05-02T07:08:32.681098Z"
    },
    "collapsed": false,
    "jupyter": {
     "outputs_hidden": false
    }
   },
   "outputs": [
    {
     "name": "stdout",
     "output_type": "stream",
     "text": [
      "\\begin{tabular}{lrrrrr}\n",
      "\\toprule\n",
      " & DF-LMP2/aug-cc-pVDZ & DF-LMP2/aug-cc-pVTZ & DF-LMP2/aug-cc-pVQZ & DF-LMP2/aug-cc-pV[23]Z & DF-LMP2/aug-cc-pV[34]Z \\\\\n",
      "\\midrule\n",
      "MAD & 1.435 & 4.047 & 0.539 & 4.857 & 2.239 \\\\\n",
      "MAXD & 2.228 & 10.627 & 0.793 & 13.761 & 6.464 \\\\\n",
      "RMSD & 1.642 & 6.175 & 0.580 & 7.952 & 3.734 \\\\\n",
      "MSD & -1.207 & -4.047 & -0.539 & -4.857 & 2.071 \\\\\n",
      "STDEVD & 1.364 & 5.712 & 0.262 & 7.712 & 3.805 \\\\\n",
      "\\bottomrule\n",
      "\\end{tabular}\n",
      "\n"
     ]
    }
   ],
   "source": [
    "print(basis_errors.style.format(precision=3).to_latex(hrules=True,multicol_align='c'))"
   ]
  }
 ],
 "metadata": {
  "kernelspec": {
   "display_name": "Python 3 (ipykernel)",
   "language": "python",
   "name": "python3"
  },
  "language_info": {
   "codemirror_mode": {
    "name": "ipython",
    "version": 3
   },
   "file_extension": ".py",
   "mimetype": "text/x-python",
   "name": "python",
   "nbconvert_exporter": "python",
   "pygments_lexer": "ipython3",
   "version": "3.13.7"
  },
  "toc": {
   "base_numbering": 1,
   "nav_menu": {},
   "number_sections": true,
   "sideBar": true,
   "skip_h1_title": false,
   "title_cell": "Table of Contents",
   "title_sidebar": "Contents",
   "toc_cell": false,
   "toc_position": {},
   "toc_section_display": true,
   "toc_window_display": false
  },
  "varInspector": {
   "cols": {
    "lenName": 16,
    "lenType": 16,
    "lenVar": 40
   },
   "kernels_config": {
    "python": {
     "delete_cmd_postfix": "",
     "delete_cmd_prefix": "del ",
     "library": "var_list.py",
     "varRefreshCmd": "print(var_dic_list())"
    },
    "r": {
     "delete_cmd_postfix": ") ",
     "delete_cmd_prefix": "rm(",
     "library": "var_list.r",
     "varRefreshCmd": "cat(var_dic_list()) "
    }
   },
   "types_to_exclude": [
    "module",
    "function",
    "builtin_function_or_method",
    "instance",
    "_Feature"
   ],
   "window_display": false
  }
 },
 "nbformat": 4,
 "nbformat_minor": 4
}
