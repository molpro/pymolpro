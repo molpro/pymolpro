{
 "cells": [
  {
   "cell_type": "markdown",
   "metadata": {},
   "source": [
    "# Non-covalent interactions benchmark"
   ]
  },
  {
   "cell_type": "code",
   "execution_count": 1,
   "metadata": {},
   "outputs": [],
   "source": [
    "import pymolpro\n",
    "import pandas as pd"
   ]
  },
  {
   "cell_type": "code",
   "execution_count": 2,
   "metadata": {},
   "outputs": [],
   "source": [
    "backend = 'local'  # If preferred, change this to one of the backends in your ~/.sjef/molpro/backends.xml that is ssh-accessible\n",
    "project_name = 'Non-covalent interactions benchmark'\n",
    "parallel = None  # how many jobs to run at once"
   ]
  },
  {
   "cell_type": "code",
   "execution_count": 3,
   "metadata": {},
   "outputs": [],
   "source": [
    "methods = {\"HF\": \"df-hf\", \"MP2\": \"df-mp2\", \"LMP2\": \"df-lmp2\", }\n",
    "bases = ['aug-cc-pVDZ', 'aug-cc-pVTZ', 'aug-cc-pVQZ']"
   ]
  },
  {
   "cell_type": "code",
   "execution_count": 4,
   "metadata": {
    "collapsed": false
   },
   "outputs": [],
   "source": [
    "db = pymolpro.database.library(\"GMTKN55_S22\").subset('small')"
   ]
  },
  {
   "cell_type": "code",
   "execution_count": 5,
   "metadata": {
    "collapsed": false
   },
   "outputs": [],
   "source": [
    "results = {}\n",
    "for method in methods:\n",
    "    results[method] = {}\n",
    "    for basis in bases:\n",
    "        results[method][basis] = pymolpro.database.run(db, methods[method], basis, location=project_name,\n",
    "                                                       backend=backend, parallel=parallel)"
   ]
  },
  {
   "cell_type": "code",
   "execution_count": 6,
   "metadata": {
    "collapsed": false
   },
   "outputs": [],
   "source": [
    "extrapolations = {}\n",
    "if 'aug-cc-pVDZ' in bases and 'aug-cc-pVTZ' in bases:\n",
    "    extrapolations[\"aug-cc-pV[23]Z\"] = {'x': 2, 'first': 'aug-cc-pVDZ', 'second': 'aug-cc-pVTZ'}\n",
    "if 'aug-cc-pVTZ' in bases and 'aug-cc-pVQZ' in bases:\n",
    "    extrapolations[\"aug-cc-pV[34]Z\"] = {'x': 3, 'first': 'aug-cc-pVTZ', 'second': 'aug-cc-pVQZ'}\n",
    "if 'aug-cc-pVQZ' in bases and 'aug-cc-pV5Z' in bases:\n",
    "    extrapolations[\"aug-cc-pV[45]Z\"] = {'x': 4, 'first': 'aug-cc-pVQZ', 'second': 'aug-cc-pV5Z'}\n",
    "\n",
    "for extr in extrapolations:\n",
    "    x = extrapolations[extr]['x']\n",
    "    xbas = extrapolations[extr]['first']\n",
    "    xpbas = extrapolations[extr]['second']\n",
    "    for method in methods:\n",
    "        results[method][extr] = pymolpro.database.basis_extrapolate(\n",
    "            [results[method][xbas], results[method][xpbas]],\n",
    "            [results['HF'][xbas], results['HF'][xpbas]],\n",
    "            [x, x + 1]\n",
    "        )\n",
    "    bases.append(extr) if extr not in bases else \"\"\n"
   ]
  },
  {
   "cell_type": "code",
   "execution_count": 7,
   "metadata": {
    "collapsed": false
   },
   "outputs": [
    {
     "data": {
      "text/html": [
       "<div>\n",
       "<style scoped>\n",
       "    .dataframe tbody tr th:only-of-type {\n",
       "        vertical-align: middle;\n",
       "    }\n",
       "\n",
       "    .dataframe tbody tr th {\n",
       "        vertical-align: top;\n",
       "    }\n",
       "\n",
       "    .dataframe thead tr th {\n",
       "        text-align: left;\n",
       "    }\n",
       "</style>\n",
       "<table border=\"1\" class=\"dataframe\">\n",
       "  <thead>\n",
       "    <tr>\n",
       "      <th></th>\n",
       "      <th>DF-HF</th>\n",
       "      <th>DF-MP2</th>\n",
       "      <th>DF-LMP2</th>\n",
       "    </tr>\n",
       "    <tr>\n",
       "      <th></th>\n",
       "      <th>aug-cc-pVQZ</th>\n",
       "      <th>aug-cc-pVQZ</th>\n",
       "      <th>aug-cc-pVQZ</th>\n",
       "    </tr>\n",
       "  </thead>\n",
       "  <tbody>\n",
       "    <tr>\n",
       "      <th>mean</th>\n",
       "      <td>-6.08</td>\n",
       "      <td>0.22</td>\n",
       "      <td>-0.54</td>\n",
       "    </tr>\n",
       "    <tr>\n",
       "      <th>stdev</th>\n",
       "      <td>2.03</td>\n",
       "      <td>0.21</td>\n",
       "      <td>0.26</td>\n",
       "    </tr>\n",
       "    <tr>\n",
       "      <th>meanabs</th>\n",
       "      <td>6.08</td>\n",
       "      <td>0.22</td>\n",
       "      <td>0.54</td>\n",
       "    </tr>\n",
       "    <tr>\n",
       "      <th>maxabs</th>\n",
       "      <td>7.52</td>\n",
       "      <td>0.42</td>\n",
       "      <td>0.79</td>\n",
       "    </tr>\n",
       "  </tbody>\n",
       "</table>\n",
       "</div>"
      ],
      "text/plain": [
       "              DF-HF      DF-MP2     DF-LMP2\n",
       "        aug-cc-pVQZ aug-cc-pVQZ aug-cc-pVQZ\n",
       "mean          -6.08        0.22       -0.54\n",
       "stdev          2.03        0.21        0.26\n",
       "meanabs        6.08        0.22        0.54\n",
       "maxabs         7.52        0.42        0.79"
      ]
     },
     "execution_count": 7,
     "metadata": {},
     "output_type": "execute_result"
    }
   ],
   "source": [
    "tokj = 2625.49963948\n",
    "pd.set_option('display.precision', 2)\n",
    "method_errors = pymolpro.database.analyse([results[method]['aug-cc-pVQZ'] for method in methods], db)[\n",
    "                    'reaction statistics'] * tokj\n",
    "method_errors"
   ]
  },
  {
   "cell_type": "code",
   "execution_count": 8,
   "metadata": {
    "collapsed": false
   },
   "outputs": [
    {
     "name": "stdout",
     "output_type": "stream",
     "text": [
      "reaction energies\n",
      "        DF-HF      DF-MP2     DF-LMP2\n",
      "  aug-cc-pVQZ aug-cc-pVQZ aug-cc-pVQZ\n",
      "2    5.30e-03    8.11e-03    7.65e-03\n",
      "1    2.13e-03    5.09e-03    4.78e-03\n",
      "8   -5.94e-04    8.36e-04    7.38e-04\n",
      "reaction energy errors\n",
      "        DF-HF      DF-MP2     DF-LMP2\n",
      "  aug-cc-pVQZ aug-cc-pVQZ aug-cc-pVQZ\n",
      "2   -2.65e-03    1.59e-04   -3.02e-04\n",
      "1   -2.87e-03    9.25e-05   -2.12e-04\n",
      "8   -1.43e-03   -3.85e-06   -1.02e-04\n",
      "reaction statistics\n",
      "              DF-HF      DF-MP2     DF-LMP2\n",
      "        aug-cc-pVQZ aug-cc-pVQZ aug-cc-pVQZ\n",
      "mean      -2.32e-03    8.25e-05   -2.05e-04\n",
      "stdev      7.72e-04    8.18e-05    9.99e-05\n",
      "meanabs    2.32e-03    8.51e-05    2.05e-04\n",
      "maxabs     2.87e-03    1.59e-04    3.02e-04\n",
      "molecule energies\n",
      "          DF-HF      DF-MP2     DF-LMP2\n",
      "    aug-cc-pVQZ aug-cc-pVQZ aug-cc-pVQZ\n",
      "02      -152.14     -152.71     -152.71\n",
      "08       -80.43      -80.86      -80.85\n",
      "01      -112.45     -112.96     -112.96\n",
      "01a      -56.22      -56.48      -56.48\n",
      "02a      -76.07      -76.35      -76.35\n",
      "08a      -40.22      -40.43      -40.43\n"
     ]
    }
   ],
   "source": [
    "for key, table in pymolpro.database.analyse([results[method]['aug-cc-pVQZ'] for method in methods], db).items():\n",
    "    print(key)\n",
    "    print(table)"
   ]
  },
  {
   "cell_type": "code",
   "execution_count": 9,
   "metadata": {
    "collapsed": false
   },
   "outputs": [
    {
     "data": {
      "text/html": [
       "<div>\n",
       "<style scoped>\n",
       "    .dataframe tbody tr th:only-of-type {\n",
       "        vertical-align: middle;\n",
       "    }\n",
       "\n",
       "    .dataframe tbody tr th {\n",
       "        vertical-align: top;\n",
       "    }\n",
       "\n",
       "    .dataframe thead tr th {\n",
       "        text-align: left;\n",
       "    }\n",
       "</style>\n",
       "<table border=\"1\" class=\"dataframe\">\n",
       "  <thead>\n",
       "    <tr>\n",
       "      <th></th>\n",
       "      <th>DF-HF</th>\n",
       "      <th>DF-MP2</th>\n",
       "      <th>DF-LMP2</th>\n",
       "    </tr>\n",
       "    <tr>\n",
       "      <th></th>\n",
       "      <th>aug-cc-pVQZ</th>\n",
       "      <th>aug-cc-pVQZ</th>\n",
       "      <th>aug-cc-pVQZ</th>\n",
       "    </tr>\n",
       "  </thead>\n",
       "  <tbody>\n",
       "    <tr>\n",
       "      <th>2</th>\n",
       "      <td>-6.96</td>\n",
       "      <td>0.42</td>\n",
       "      <td>-0.79</td>\n",
       "    </tr>\n",
       "    <tr>\n",
       "      <th>1</th>\n",
       "      <td>-7.52</td>\n",
       "      <td>0.24</td>\n",
       "      <td>-0.56</td>\n",
       "    </tr>\n",
       "    <tr>\n",
       "      <th>8</th>\n",
       "      <td>-3.76</td>\n",
       "      <td>-0.01</td>\n",
       "      <td>-0.27</td>\n",
       "    </tr>\n",
       "  </tbody>\n",
       "</table>\n",
       "</div>"
      ],
      "text/plain": [
       "        DF-HF      DF-MP2     DF-LMP2\n",
       "  aug-cc-pVQZ aug-cc-pVQZ aug-cc-pVQZ\n",
       "2       -6.96        0.42       -0.79\n",
       "1       -7.52        0.24       -0.56\n",
       "8       -3.76       -0.01       -0.27"
      ]
     },
     "execution_count": 9,
     "metadata": {},
     "output_type": "execute_result"
    }
   ],
   "source": [
    "tokj = 2625.49963948\n",
    "pd.set_option('display.precision', 2)\n",
    "method_errors = pymolpro.database.analyse([results[method]['aug-cc-pVQZ'] for method in methods], db)[\n",
    "                    'reaction energy errors'] * tokj\n",
    "method_errors"
   ]
  },
  {
   "cell_type": "code",
   "execution_count": 10,
   "metadata": {
    "collapsed": false
   },
   "outputs": [
    {
     "data": {
      "text/html": [
       "<div>\n",
       "<style scoped>\n",
       "    .dataframe tbody tr th:only-of-type {\n",
       "        vertical-align: middle;\n",
       "    }\n",
       "\n",
       "    .dataframe tbody tr th {\n",
       "        vertical-align: top;\n",
       "    }\n",
       "\n",
       "    .dataframe thead tr th {\n",
       "        text-align: left;\n",
       "    }\n",
       "</style>\n",
       "<table border=\"1\" class=\"dataframe\">\n",
       "  <thead>\n",
       "    <tr>\n",
       "      <th></th>\n",
       "      <th colspan=\"5\" halign=\"left\">DF-LMP2</th>\n",
       "    </tr>\n",
       "    <tr>\n",
       "      <th></th>\n",
       "      <th>aug-cc-pVDZ</th>\n",
       "      <th>aug-cc-pVTZ</th>\n",
       "      <th>aug-cc-pVQZ</th>\n",
       "      <th>aug-cc-pV[23]Z</th>\n",
       "      <th>aug-cc-pV[34]Z</th>\n",
       "    </tr>\n",
       "  </thead>\n",
       "  <tbody>\n",
       "    <tr>\n",
       "      <th>mean</th>\n",
       "      <td>-1.21</td>\n",
       "      <td>-4.05</td>\n",
       "      <td>-0.54</td>\n",
       "      <td>-4.85</td>\n",
       "      <td>2.07</td>\n",
       "    </tr>\n",
       "    <tr>\n",
       "      <th>stdev</th>\n",
       "      <td>1.36</td>\n",
       "      <td>5.71</td>\n",
       "      <td>0.26</td>\n",
       "      <td>7.71</td>\n",
       "      <td>3.80</td>\n",
       "    </tr>\n",
       "    <tr>\n",
       "      <th>meanabs</th>\n",
       "      <td>1.44</td>\n",
       "      <td>4.05</td>\n",
       "      <td>0.54</td>\n",
       "      <td>4.85</td>\n",
       "      <td>2.24</td>\n",
       "    </tr>\n",
       "    <tr>\n",
       "      <th>maxabs</th>\n",
       "      <td>2.23</td>\n",
       "      <td>10.62</td>\n",
       "      <td>0.79</td>\n",
       "      <td>13.76</td>\n",
       "      <td>6.46</td>\n",
       "    </tr>\n",
       "  </tbody>\n",
       "</table>\n",
       "</div>"
      ],
      "text/plain": [
       "            DF-LMP2                                                      \n",
       "        aug-cc-pVDZ aug-cc-pVTZ aug-cc-pVQZ aug-cc-pV[23]Z aug-cc-pV[34]Z\n",
       "mean          -1.21       -4.05       -0.54          -4.85           2.07\n",
       "stdev          1.36        5.71        0.26           7.71           3.80\n",
       "meanabs        1.44        4.05        0.54           4.85           2.24\n",
       "maxabs         2.23       10.62        0.79          13.76           6.46"
      ]
     },
     "execution_count": 10,
     "metadata": {},
     "output_type": "execute_result"
    }
   ],
   "source": [
    "pd.set_option('display.precision', 2)\n",
    "basis_errors = pymolpro.database.analyse([results['LMP2'][basis] for basis in bases], db)[\n",
    "                   'reaction statistics'] * tokj\n",
    "basis_errors"
   ]
  },
  {
   "cell_type": "code",
   "execution_count": 11,
   "metadata": {
    "collapsed": false
   },
   "outputs": [
    {
     "data": {
      "image/png": "[encoded data removed]",
      "text/plain": [
       "<Figure size 1800x600 with 3 Axes>"
      ]
     },
     "metadata": {},
     "output_type": "display_data"
    }
   ],
   "source": [
    "import matplotlib.pyplot as plt\n",
    "\n",
    "methods_pruned = [method for method in methods if method != 'HF']\n",
    "bases_pruned = ['aug-cc-pVTZ', 'aug-cc-pVQZ', 'aug-cc-pV[34]Z']\n",
    "fig, panes = plt.subplots(nrows=1, ncols=len(bases_pruned), sharey=True, figsize=(18, 6))\n",
    "\n",
    "for pane in range(len(bases_pruned)):\n",
    "    data = []\n",
    "    for method in methods_pruned:\n",
    "        data.append(\n",
    "            pymolpro.database.analyse(results[method][bases_pruned[pane]],\n",
    "                                      db)['reaction energy errors'].to_numpy()[:, 0] * tokj\n",
    "        )\n",
    "    panes[pane].violinplot(data, showmeans=True, showextrema=True, vert=True, bw_method='silverman')\n",
    "    panes[pane].set_xticks(range(1, len(methods_pruned) + 1), labels=methods_pruned, rotation=-90)\n",
    "    panes[pane].set_title(bases_pruned[pane])\n",
    "panes[0].set_ylabel('Error / kJ/mol')\n",
    "plt.savefig(project_name + \".violin.pdf\")"
   ]
  },
  {
   "cell_type": "code",
   "execution_count": 12,
   "metadata": {
    "collapsed": false
   },
   "outputs": [],
   "source": [
    "# with open(project_name + '.tex', 'w') as tf:\n",
    "#     tf.write('\\\\def\\\\toprule{\\\\hline\\\\hline}\\n\\\\def\\\\midrule{\\\\hline}\\n\\\\def\\\\bottomrule{\\\\hline\\\\hline}')\n",
    "#     tf.write(df_exp_reaction_meanerror.style.to_latex())\n",
    "#     tf.write(df_exp_reaction_std.style.to_latex())\n",
    "#     tf.write(df_exp_reaction_meanabserror.style.to_latex())\n",
    "#     tf.write(df_exp_reaction_maxerror.style.to_latex())"
   ]
  },
  {
   "cell_type": "code",
   "execution_count": 12,
   "metadata": {
    "collapsed": false
   },
   "outputs": [],
   "source": []
  }
 ],
 "metadata": {
  "kernelspec": {
   "display_name": "Python 3 (ipykernel)",
   "language": "python",
   "name": "python3"
  },
  "language_info": {
   "codemirror_mode": {
    "name": "ipython",
    "version": 3
   },
   "file_extension": ".py",
   "mimetype": "text/x-python",
   "name": "python",
   "nbconvert_exporter": "python",
   "pygments_lexer": "ipython3",
   "version": "3.10.6"
  },
  "toc": {
   "base_numbering": 1,
   "nav_menu": {},
   "number_sections": true,
   "sideBar": true,
   "skip_h1_title": false,
   "title_cell": "Table of Contents",
   "title_sidebar": "Contents",
   "toc_cell": false,
   "toc_position": {},
   "toc_section_display": true,
   "toc_window_display": false
  },
  "varInspector": {
   "cols": {
    "lenName": 16,
    "lenType": 16,
    "lenVar": 40
   },
   "kernels_config": {
    "python": {
     "delete_cmd_postfix": "",
     "delete_cmd_prefix": "del ",
     "library": "var_list.py",
     "varRefreshCmd": "print(var_dic_list())"
    },
    "r": {
     "delete_cmd_postfix": ") ",
     "delete_cmd_prefix": "rm(",
     "library": "var_list.r",
     "varRefreshCmd": "cat(var_dic_list()) "
    }
   },
   "types_to_exclude": [
    "module",
    "function",
    "builtin_function_or_method",
    "instance",
    "_Feature"
   ],
   "window_display": false
  }
 },
 "nbformat": 4,
 "nbformat_minor": 4
}
