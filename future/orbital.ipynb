{
 "cells": [
  {
   "cell_type": "markdown",
   "metadata": {
    "collapsed": false,
    "jupyter": {
     "outputs_hidden": false
    }
   },
   "source": [
    "# Generation and use of an orbital-based grid"
   ]
  },
  {
   "cell_type": "code",
   "execution_count": 3,
   "metadata": {
    "collapsed": false,
    "jupyter": {
     "outputs_hidden": false
    },
    "pycharm": {
     "name": "#%%\n"
    }
   },
   "outputs": [],
   "source": [
    "import pymolpro\n",
    "p = pymolpro.Project(\"orbital\")\n",
    "p.write_input(\"symmetry,nosym;geometry={o;h,o,r;h,o,r,h,theta};r=1 angstrom, theta=104 degree; rhf;locali,pipek,thrpip=1e-10\")\n",
    "p.run(wait=True)"
   ]
  },
  {
   "cell_type": "code",
   "execution_count": 4,
   "metadata": {
    "collapsed": false,
    "jupyter": {
     "outputs_hidden": false
    },
    "pycharm": {
     "name": "#%%\n"
    }
   },
   "outputs": [
    {
     "ename": "IndexError",
     "evalue": "list index out of range",
     "output_type": "error",
     "traceback": [
      "\u001b[31m---------------------------------------------------------------------------\u001b[39m",
      "\u001b[31mIndexError\u001b[39m                                Traceback (most recent call last)",
      "\u001b[36mCell\u001b[39m\u001b[36m \u001b[39m\u001b[32mIn[4]\u001b[39m\u001b[32m, line 1\u001b[39m\n\u001b[32m----> \u001b[39m\u001b[32m1\u001b[39m orbitals = \u001b[43mp\u001b[49m\u001b[43m.\u001b[49m\u001b[43morbitals\u001b[49m\u001b[43m(\u001b[49m\u001b[43mminocc\u001b[49m\u001b[43m=\u001b[49m\u001b[32;43m1.0\u001b[39;49m\u001b[43m)\u001b[49m\n",
      "\u001b[36mFile \u001b[39m\u001b[32m~/trees/pymolpro/pymolpro/project.py:779\u001b[39m, in \u001b[36mProject.orbitals\u001b[39m\u001b[34m(self, instance, minocc, ID, orbital_instance)\u001b[39m\n\u001b[32m    767\u001b[39m \u001b[38;5;250m\u001b[39m\u001b[33;03m\"\"\"\u001b[39;00m\n\u001b[32m    768\u001b[39m \u001b[33;03mObtain some or all of the orbitals in the job output\u001b[39;00m\n\u001b[32m    769\u001b[39m \n\u001b[32m   (...)\u001b[39m\u001b[32m    774\u001b[39m \u001b[33;03m:return: a list of Orbital objects\u001b[39;00m\n\u001b[32m    775\u001b[39m \u001b[33;03m\"\"\"\u001b[39;00m\n\u001b[32m    776\u001b[39m \u001b[38;5;66;03m# molecule = self.molecule(instance=instance)\u001b[39;00m\n\u001b[32m    777\u001b[39m \u001b[38;5;66;03m# if 'orbitals' not in molecule:\u001b[39;00m\n\u001b[32m    778\u001b[39m \u001b[38;5;66;03m#     raise Exception('No orbital set found')\u001b[39;00m\n\u001b[32m--> \u001b[39m\u001b[32m779\u001b[39m \u001b[38;5;28;01mreturn\u001b[39;00m \u001b[38;5;28;43mself\u001b[39;49m\u001b[43m.\u001b[49m\u001b[43morbitals_old\u001b[49m\u001b[43m(\u001b[49m\u001b[43minstance\u001b[49m\u001b[43m=\u001b[49m\u001b[43minstance\u001b[49m\u001b[43m,\u001b[49m\u001b[43m \u001b[49m\u001b[43mID\u001b[49m\u001b[43m=\u001b[49m\u001b[43mID\u001b[49m\u001b[43m,\u001b[49m\u001b[43m \u001b[49m\u001b[43mminocc\u001b[49m\u001b[43m=\u001b[49m\u001b[43mminocc\u001b[49m\u001b[43m,\u001b[49m\u001b[43m \u001b[49m\u001b[43morbital_instance\u001b[49m\u001b[43m=\u001b[49m\u001b[43morbital_instance\u001b[49m\u001b[43m)\u001b[49m\n",
      "\u001b[36mFile \u001b[39m\u001b[32m~/trees/pymolpro/pymolpro/project.py:837\u001b[39m, in \u001b[36mProject.orbitals_old\u001b[39m\u001b[34m(self, instance, minocc, ID, orbital_instance)\u001b[39m\n\u001b[32m    835\u001b[39m     search += \u001b[33m'\u001b[39m\u001b[33m[@ID=\u001b[39m\u001b[33m\"\u001b[39m\u001b[33m'\u001b[39m + ID + \u001b[33m'\u001b[39m\u001b[33m\"\u001b[39m\u001b[33m]\u001b[39m\u001b[33m'\u001b[39m\n\u001b[32m    836\u001b[39m \u001b[38;5;28;01mfrom\u001b[39;00m\u001b[38;5;250m \u001b[39m\u001b[34;01mpymolpro\u001b[39;00m\u001b[38;5;250m \u001b[39m\u001b[38;5;28;01mimport\u001b[39;00m Orbital\n\u001b[32m--> \u001b[39m\u001b[32m837\u001b[39m \u001b[38;5;28;01mfor\u001b[39;00m orbital \u001b[38;5;129;01min\u001b[39;00m \u001b[38;5;28mself\u001b[39m.xpath(search, \u001b[43morbitalSets\u001b[49m\u001b[43m[\u001b[49m\u001b[43morbital_instance\u001b[49m\u001b[43m]\u001b[49m):\n\u001b[32m    838\u001b[39m     \u001b[38;5;28;01mif\u001b[39;00m \u001b[38;5;28mfloat\u001b[39m(orbital.get(\u001b[33m'\u001b[39m\u001b[33moccupation\u001b[39m\u001b[33m'\u001b[39m)) >= minocc:\n\u001b[32m    839\u001b[39m         result.append(Orbital(orbital, \u001b[38;5;28mself\u001b[39m.filename()))\n",
      "\u001b[31mIndexError\u001b[39m: list index out of range"
     ]
    }
   ],
   "source": [
    "orbitals = p.orbitals(minocc=1.0)"
   ]
  },
  {
   "cell_type": "code",
   "execution_count": 46,
   "metadata": {},
   "outputs": [
    {
     "data": {
      "text/plain": [
       "{'sidecar': 'orbital_42.xml-sidecar',\n",
       " 'basis': 'ORBITAL',\n",
       " 'angular': 'cartesian',\n",
       " 'method': 'LOCALI',\n",
       " 'type': 'LOCAL(PM)',\n",
       " 'spin': 'closed',\n",
       " 'orbitals': [<pymolpro.orbital.Orbital at 0x11e0ed7f0>,\n",
       "  <pymolpro.orbital.Orbital at 0x11e0ecd70>,\n",
       "  <pymolpro.orbital.Orbital at 0x11e0ee120>,\n",
       "  <pymolpro.orbital.Orbital at 0x11e0ed1d0>]}"
      ]
     },
     "execution_count": 46,
     "metadata": {},
     "output_type": "execute_result"
    }
   ],
   "source": [
    "orbitalSet = p.molecule(1)['orbitalSets'][-1]\n",
    "orbitalSet"
   ]
  },
  {
   "cell_type": "code",
   "execution_count": 51,
   "metadata": {},
   "outputs": [
    {
     "data": {
      "text/plain": [
       "[<pymolpro.orbital.Orbital at 0x11e0ed7f0>,\n",
       " <pymolpro.orbital.Orbital at 0x11e0ecd70>,\n",
       " <pymolpro.orbital.Orbital at 0x11e0ee120>,\n",
       " <pymolpro.orbital.Orbital at 0x11e0ed1d0>]"
      ]
     },
     "execution_count": 51,
     "metadata": {},
     "output_type": "execute_result"
    }
   ],
   "source": [
    "orbitals = [o for o in orbitalSet['orbitals'] if o.occupation > 1.0]\n",
    "orbitals"
   ]
  },
  {
   "cell_type": "code",
   "execution_count": 56,
   "metadata": {},
   "outputs": [
    {
     "data": {
      "text/plain": [
       "array([-0.00272925,  0.35587275, -0.13037865,  0.        , -0.49952105,\n",
       "        0.40661028,  0.        ,  0.06371736, -0.02762987, -0.00725151,\n",
       "       -0.00115438,  0.00840589,  0.        ,  0.        , -0.01794107,\n",
       "       -0.06166798, -0.01059119,  0.        , -0.01634064,  0.01456305,\n",
       "        0.70593578, -0.25588426,  0.        ,  0.0492851 , -0.03069419])"
      ]
     },
     "execution_count": 56,
     "metadata": {},
     "output_type": "execute_result"
    }
   ],
   "source": [
    "orbitals[0].coefficients"
   ]
  },
  {
   "cell_type": "code",
   "execution_count": 58,
   "metadata": {
    "collapsed": false,
    "jupyter": {
     "outputs_hidden": false
    },
    "pycharm": {
     "name": "#%%\n"
    }
   },
   "outputs": [
    {
     "name": "stdout",
     "output_type": "stream",
     "text": [
      "coefficients [-0.00272925  0.35587275 -0.13037865  0.         -0.49952105  0.40661028\n",
      "  0.          0.06371736 -0.02762987 -0.00725151 -0.00115438  0.00840589\n",
      "  0.          0.         -0.01794107 -0.06166798 -0.01059119  0.\n",
      " -0.01634064  0.01456305  0.70593578 -0.25588426  0.          0.0492851\n",
      " -0.03069419]\n"
     ]
    },
    {
     "ename": "Exception",
     "evalue": "something is wrong: there should be just one orbital basisSet",
     "output_type": "error",
     "traceback": [
      "\u001b[31m---------------------------------------------------------------------------\u001b[39m",
      "\u001b[31mException\u001b[39m                                 Traceback (most recent call last)",
      "\u001b[36mCell\u001b[39m\u001b[36m \u001b[39m\u001b[32mIn[58]\u001b[39m\u001b[32m, line 7\u001b[39m\n\u001b[32m      5\u001b[39m \u001b[38;5;66;03m# points = orbital.grid(4)\u001b[39;00m\n\u001b[32m      6\u001b[39m points = np.array([[\u001b[32m0.0\u001b[39m,\u001b[32m0.0\u001b[39m,\u001b[32m0.0\u001b[39m]])\n\u001b[32m----> \u001b[39m\u001b[32m7\u001b[39m values = \u001b[43mp\u001b[49m\u001b[43m.\u001b[49m\u001b[43mevaluateOrbitals\u001b[49m\u001b[43m(\u001b[49m\u001b[43mpoints\u001b[49m\u001b[43m,\u001b[49m\u001b[43m \u001b[49m\u001b[43mID\u001b[49m\u001b[43m=\u001b[49m\u001b[43morbital\u001b[49m\u001b[43m.\u001b[49m\u001b[43mID\u001b[49m\u001b[43m,\u001b[49m\u001b[43m \u001b[49m\u001b[43mvalues\u001b[49m\u001b[43m=\u001b[49m\u001b[38;5;28;43;01mTrue\u001b[39;49;00m\u001b[43m)\u001b[49m \u001b[38;5;66;03m#orbit\u001b[39;00m\n\u001b[32m      8\u001b[39m \u001b[38;5;66;03m# values = p.evaluateOrbitals(points, ID=orbital.ID)['values']\u001b[39;00m\n\u001b[32m      9\u001b[39m \u001b[38;5;66;03m# values = orbital.evaluate(points, values=True)\u001b[39;00m\n\u001b[32m     10\u001b[39m \u001b[38;5;28mprint\u001b[39m(orbital.ID, orbital.centroid, orbital.second_moment_eigenvalues)\n",
      "\u001b[36mFile \u001b[39m\u001b[32m~/trees/pymolpro/pymolpro/project.py:859\u001b[39m, in \u001b[36mProject.evaluateOrbitals\u001b[39m\u001b[34m(self, points, instance, minocc, ID, values)\u001b[39m\n\u001b[32m    857\u001b[39m molecule = \u001b[38;5;28mself\u001b[39m.xpath(\u001b[33m'\u001b[39m\u001b[33m//*/molecule\u001b[39m\u001b[33m'\u001b[39m)[instance]\n\u001b[32m    858\u001b[39m \u001b[38;5;28;01mimport\u001b[39;00m\u001b[38;5;250m \u001b[39m\u001b[34;01mpymolpro\u001b[39;00m\u001b[34;01m.\u001b[39;00m\u001b[34;01mgrid\u001b[39;00m\n\u001b[32m--> \u001b[39m\u001b[32m859\u001b[39m \u001b[38;5;28;01mreturn\u001b[39;00m \u001b[43mpymolpro\u001b[49m\u001b[43m.\u001b[49m\u001b[43mgrid\u001b[49m\u001b[43m.\u001b[49m\u001b[43mevaluateOrbitals\u001b[49m\u001b[43m(\u001b[49m\u001b[43mmolecule\u001b[49m\u001b[43m,\u001b[49m\u001b[43m \u001b[49m\u001b[43mpoints\u001b[49m\u001b[43m,\u001b[49m\u001b[43m \u001b[49m\u001b[43mminocc\u001b[49m\u001b[43m=\u001b[49m\u001b[43mminocc\u001b[49m\u001b[43m,\u001b[49m\u001b[43m \u001b[49m\u001b[43mID\u001b[49m\u001b[43m=\u001b[49m\u001b[43mID\u001b[49m\u001b[43m,\u001b[49m\u001b[43m \u001b[49m\u001b[43mvalues\u001b[49m\u001b[43m=\u001b[49m\u001b[43mvalues\u001b[49m\u001b[43m,\u001b[49m\u001b[43m \u001b[49m\u001b[43mdirectory\u001b[49m\u001b[43m=\u001b[49m\u001b[38;5;28;43mself\u001b[39;49m\u001b[43m.\u001b[49m\u001b[43mfilename\u001b[49m\u001b[43m(\u001b[49m\u001b[43m)\u001b[49m\u001b[43m)\u001b[49m\n",
      "\u001b[36mFile \u001b[39m\u001b[32m~/trees/pymolpro/pymolpro/grid.py:163\u001b[39m, in \u001b[36mevaluateOrbitals\u001b[39m\u001b[34m(molecule, points, minocc, ID, values, directory)\u001b[39m\n\u001b[32m    152\u001b[39m \u001b[38;5;250m\u001b[39m\u001b[33;03m\"\"\"\u001b[39;00m\n\u001b[32m    153\u001b[39m \u001b[33;03mEvaluate the molecular orbitals on a grid\u001b[39;00m\n\u001b[32m    154\u001b[39m \n\u001b[32m   (...)\u001b[39m\u001b[32m    160\u001b[39m \u001b[33;03m:return: array of dictionaries giving the occupation and values on the grid, or if ID is specified, a single dictionary, or if values==True, a numpy array\u001b[39;00m\n\u001b[32m    161\u001b[39m \u001b[33;03m\"\"\"\u001b[39;00m\n\u001b[32m    162\u001b[39m \u001b[38;5;28;01mfrom\u001b[39;00m\u001b[38;5;250m \u001b[39m\u001b[34;01m.\u001b[39;00m\u001b[34;01morbital\u001b[39;00m\u001b[38;5;250m \u001b[39m\u001b[38;5;28;01mimport\u001b[39;00m Orbital\n\u001b[32m--> \u001b[39m\u001b[32m163\u001b[39m basisAtPoints = \u001b[43mevaluateBasis\u001b[49m\u001b[43m(\u001b[49m\u001b[43mmolecule\u001b[49m\u001b[43m,\u001b[49m\u001b[43m \u001b[49m\u001b[43mpoints\u001b[49m\u001b[43m)\u001b[49m  \u001b[38;5;66;03m# evaluate the basis set at the nuclei\u001b[39;00m\n\u001b[32m    164\u001b[39m orbitalSets = molecule.xpath(\u001b[33m'\u001b[39m\u001b[33mmolpro-output:orbitals\u001b[39m\u001b[33m'\u001b[39m, namespaces=namespaces)\n\u001b[32m    165\u001b[39m \u001b[38;5;28;01mif\u001b[39;00m \u001b[38;5;28mlen\u001b[39m(orbitalSets) != \u001b[32m1\u001b[39m:\n",
      "\u001b[36mFile \u001b[39m\u001b[32m~/trees/pymolpro/pymolpro/grid.py:51\u001b[39m, in \u001b[36mevaluateBasis\u001b[39m\u001b[34m(molecule, points)\u001b[39m\n\u001b[32m     49\u001b[39m basisSets = molecule.xpath(\u001b[33m'\u001b[39m\u001b[33mmolpro-output:basisSet[@id=\u001b[39m\u001b[33m\"\u001b[39m\u001b[33mORBITAL\u001b[39m\u001b[33m\"\u001b[39m\u001b[33m]\u001b[39m\u001b[33m'\u001b[39m, namespaces=namespaces)\n\u001b[32m     50\u001b[39m \u001b[38;5;28;01mif\u001b[39;00m \u001b[38;5;28mlen\u001b[39m(basisSets) != \u001b[32m1\u001b[39m:\n\u001b[32m---> \u001b[39m\u001b[32m51\u001b[39m     \u001b[38;5;28;01mraise\u001b[39;00m \u001b[38;5;167;01mException\u001b[39;00m(\u001b[33m'\u001b[39m\u001b[33msomething is wrong: there should be just one orbital basisSet\u001b[39m\u001b[33m'\u001b[39m)\n\u001b[32m     52\u001b[39m basisSet = basisSets[\u001b[32m0\u001b[39m]\n\u001b[32m     54\u001b[39m \u001b[38;5;66;03m# print('Basis length =',basisSet.get('length'),' angular =',basisSet.get('angular'),' type =',basisSet.get('type'),' groups =',basisSet.get('groups'))\u001b[39;00m\n\u001b[32m     55\u001b[39m \u001b[38;5;66;03m# basisGroups = basisSet.xpath('molpro-output:basisGroup', namespaces=namespaces)\u001b[39;00m\n\u001b[32m     56\u001b[39m \u001b[38;5;66;03m#    print\u001b[39;00m\n\u001b[32m   (...)\u001b[39m\u001b[32m     61\u001b[39m \n\u001b[32m     62\u001b[39m \u001b[38;5;66;03m# now walk through basis set and evaluate it at some points\u001b[39;00m\n",
      "\u001b[31mException\u001b[39m: something is wrong: there should be just one orbital basisSet"
     ]
    }
   ],
   "source": [
    "import pandas\n",
    "import numpy as np\n",
    "for orbital in orbitals:\n",
    "    print('coefficients',orbital.coefficients)\n",
    "    # points = orbital.grid(4)\n",
    "    points = np.array([[0.0,0.0,0.0]])\n",
    "    values = p.evaluateOrbitals(points, ID=orbital.ID, values=True) #orbit\n",
    "    # values = p.evaluateOrbitals(points, ID=orbital.ID)['values']\n",
    "    # values = orbital.evaluate(points, values=True)\n",
    "    print(orbital.ID, orbital.centroid, orbital.second_moment_eigenvalues)\n",
    "    print(pandas.DataFrame(points).transpose())\n",
    "    print(pandas.DataFrame(values).transpose())"
   ]
  },
  {
   "cell_type": "code",
   "execution_count": null,
   "metadata": {},
   "outputs": [],
   "source": []
  }
 ],
 "metadata": {
  "kernelspec": {
   "display_name": "Python 3 (ipykernel)",
   "language": "python",
   "name": "python3"
  },
  "language_info": {
   "codemirror_mode": {
    "name": "ipython",
    "version": 3
   },
   "file_extension": ".py",
   "mimetype": "text/x-python",
   "name": "python",
   "nbconvert_exporter": "python",
   "pygments_lexer": "ipython3",
   "version": "3.13.7"
  }
 },
 "nbformat": 4,
 "nbformat_minor": 4
}
