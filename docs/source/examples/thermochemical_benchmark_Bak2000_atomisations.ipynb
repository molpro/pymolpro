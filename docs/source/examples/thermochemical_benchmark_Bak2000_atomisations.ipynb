{
 "cells": [
  {
   "cell_type": "markdown",
   "metadata": {},
   "source": [
    "# Thermochemical benchmark: atomisation of closed shell molecules with core correlation"
   ]
  },
  {
   "cell_type": "markdown",
   "metadata": {},
   "source": [
    "Bak et al., [doi:10.1063/1.1357225](https://doi.org/10.1063/1.1357225) and [doi:10.1063/1.481544](https://doi.org/10.1063/1.481544)"
   ]
  },
  {
   "cell_type": "code",
   "execution_count": 1,
   "metadata": {
    "ExecuteTime": {
     "end_time": "2023-05-02T12:34:03.630476Z",
     "start_time": "2023-05-02T12:34:03.289048Z"
    }
   },
   "outputs": [],
   "source": [
    "import pymolpro\n",
    "import pandas as pd"
   ]
  },
  {
   "cell_type": "code",
   "execution_count": 2,
   "metadata": {
    "ExecuteTime": {
     "end_time": "2023-05-02T12:34:03.632981Z",
     "start_time": "2023-05-02T12:34:03.631561Z"
    }
   },
   "outputs": [],
   "source": [
    "backend = 'local'  # If preferred, change this to one of the backends in your ~/.sjef/molpro/backends.xml that is ssh-accessible\n",
    "project_name = 'Bak2000_atomisations'\n",
    "parallel = None  # how many jobs to run at once"
   ]
  },
  {
   "cell_type": "code",
   "execution_count": 3,
   "metadata": {
    "ExecuteTime": {
     "end_time": "2023-05-02T12:34:03.635490Z",
     "start_time": "2023-05-02T12:34:03.634025Z"
    }
   },
   "outputs": [],
   "source": [
    "methods = ['UHF', 'UMP2', 'UCCSD', 'UCCSD(T)' ]\n",
    "bases = ['cc-pCVDZ', 'cc-pCVTZ', 'cc-pCVQZ', 'cc-pCV5Z']"
   ]
  },
  {
   "cell_type": "code",
   "execution_count": 4,
   "metadata": {
    "ExecuteTime": {
     "end_time": "2023-05-02T12:34:03.638543Z",
     "start_time": "2023-05-02T12:34:03.636758Z"
    }
   },
   "outputs": [],
   "source": [
    "db = pymolpro.database.load(\"Bak2000_atomisations\")"
   ]
  },
  {
   "cell_type": "code",
   "execution_count": 5,
   "metadata": {
    "ExecuteTime": {
     "end_time": "2023-05-02T12:34:13.538617Z",
     "start_time": "2023-05-02T12:34:03.640653Z"
    },
    "collapsed": false,
    "jupyter": {
     "outputs_hidden": false
    }
   },
   "outputs": [],
   "source": [
    "results = {}\n",
    "for method in methods:\n",
    "    results[method] = {}\n",
    "    for basis in bases:\n",
    "        results[method][basis] = pymolpro.database.run(db, method=method, basis=basis, location=project_name,\n",
    "                                                       backend=backend,\n",
    "                                                       core_correlation=\"small\", parallel=parallel)"
   ]
  },
  {
   "cell_type": "code",
   "execution_count": 6,
   "metadata": {
    "ExecuteTime": {
     "end_time": "2023-05-02T12:34:13.544938Z",
     "start_time": "2023-05-02T12:34:13.537528Z"
    },
    "collapsed": false,
    "jupyter": {
     "outputs_hidden": false
    }
   },
   "outputs": [],
   "source": [
    "for method in methods:\n",
    "    for result in pymolpro.database.basis_extrapolate(results[method].values(), results['UHF'].values()):\n",
    "        results[method][result.basis] = result\n",
    "    for basis in results[method]:\n",
    "        if basis not in bases: bases.append(basis)"
   ]
  },
  {
   "cell_type": "code",
   "execution_count": 7,
   "metadata": {
    "ExecuteTime": {
     "end_time": "2023-05-02T12:35:01.803738Z",
     "start_time": "2023-05-02T12:35:01.784504Z"
    },
    "collapsed": false,
    "jupyter": {
     "outputs_hidden": false
    }
   },
   "outputs": [
    {
     "data": {
      "text/html": [
       "<div>\n",
       "<style scoped>\n",
       "    .dataframe tbody tr th:only-of-type {\n",
       "        vertical-align: middle;\n",
       "    }\n",
       "\n",
       "    .dataframe tbody tr th {\n",
       "        vertical-align: top;\n",
       "    }\n",
       "\n",
       "    .dataframe thead th {\n",
       "        text-align: right;\n",
       "    }\n",
       "</style>\n",
       "<table border=\"1\" class=\"dataframe\">\n",
       "  <thead>\n",
       "    <tr style=\"text-align: right;\">\n",
       "      <th></th>\n",
       "      <th>UHF/cc-pCV[45]Z</th>\n",
       "      <th>UMP2/cc-pCV[45]Z</th>\n",
       "      <th>UCCSD/cc-pCV[45]Z</th>\n",
       "      <th>UCCSD(T)/cc-pCV[45]Z</th>\n",
       "    </tr>\n",
       "  </thead>\n",
       "  <tbody>\n",
       "    <tr>\n",
       "      <th>MAD</th>\n",
       "      <td>405.05</td>\n",
       "      <td>35.11</td>\n",
       "      <td>28.50</td>\n",
       "      <td>0.90</td>\n",
       "    </tr>\n",
       "    <tr>\n",
       "      <th>MAXD</th>\n",
       "      <td>598.79</td>\n",
       "      <td>112.20</td>\n",
       "      <td>58.55</td>\n",
       "      <td>2.45</td>\n",
       "    </tr>\n",
       "    <tr>\n",
       "      <th>RMSD</th>\n",
       "      <td>428.32</td>\n",
       "      <td>43.60</td>\n",
       "      <td>32.62</td>\n",
       "      <td>1.09</td>\n",
       "    </tr>\n",
       "    <tr>\n",
       "      <th>MSD</th>\n",
       "      <td>-405.05</td>\n",
       "      <td>30.04</td>\n",
       "      <td>-28.48</td>\n",
       "      <td>0.08</td>\n",
       "    </tr>\n",
       "    <tr>\n",
       "      <th>STDEVD</th>\n",
       "      <td>143.84</td>\n",
       "      <td>32.64</td>\n",
       "      <td>16.43</td>\n",
       "      <td>1.12</td>\n",
       "    </tr>\n",
       "  </tbody>\n",
       "</table>\n",
       "</div>"
      ],
      "text/plain": [
       "        UHF/cc-pCV[45]Z  UMP2/cc-pCV[45]Z  UCCSD/cc-pCV[45]Z  \\\n",
       "MAD              405.05             35.11              28.50   \n",
       "MAXD             598.79            112.20              58.55   \n",
       "RMSD             428.32             43.60              32.62   \n",
       "MSD             -405.05             30.04             -28.48   \n",
       "STDEVD           143.84             32.64              16.43   \n",
       "\n",
       "        UCCSD(T)/cc-pCV[45]Z  \n",
       "MAD                     0.90  \n",
       "MAXD                    2.45  \n",
       "RMSD                    1.09  \n",
       "MSD                     0.08  \n",
       "STDEVD                  1.12  "
      ]
     },
     "execution_count": 7,
     "metadata": {},
     "output_type": "execute_result"
    }
   ],
   "source": [
    "pd.set_option('display.precision', 2)\n",
    "method_errors=pymolpro.database.analyse([results[method]['cc-pCV[45]Z'] for method in methods], db, 'kj/mol')[\n",
    "    'reaction statistics']\n",
    "with open(project_name + '.method_errors.tex', 'w') as tf:\n",
    "    tf.write('\\\\ifx\\\\toprule\\\\undefined\\\\def\\\\toprule{\\\\hline\\\\hline}\\n\\\\def\\\\midrule{\\\\hline}\\n\\\\def\\\\bottomrule{\\\\hline\\\\hline}\\\\fi') # or \\usepackage{booktabs}\n",
    "    tf.write(method_errors.style.format(precision=2).to_latex(hrules=True,multicol_align='c',caption='Method errors'))\n",
    "method_errors"
   ]
  },
  {
   "cell_type": "code",
   "execution_count": 8,
   "metadata": {
    "ExecuteTime": {
     "end_time": "2023-05-02T12:34:13.812432Z",
     "start_time": "2023-05-02T12:34:13.804384Z"
    },
    "collapsed": false,
    "jupyter": {
     "outputs_hidden": false
    }
   },
   "outputs": [
    {
     "data": {
      "text/html": [
       "<div>\n",
       "<style scoped>\n",
       "    .dataframe tbody tr th:only-of-type {\n",
       "        vertical-align: middle;\n",
       "    }\n",
       "\n",
       "    .dataframe tbody tr th {\n",
       "        vertical-align: top;\n",
       "    }\n",
       "\n",
       "    .dataframe thead th {\n",
       "        text-align: right;\n",
       "    }\n",
       "</style>\n",
       "<table border=\"1\" class=\"dataframe\">\n",
       "  <thead>\n",
       "    <tr style=\"text-align: right;\">\n",
       "      <th></th>\n",
       "      <th>UCCSD(T)/cc-pCVDZ</th>\n",
       "      <th>UCCSD(T)/cc-pCVTZ</th>\n",
       "      <th>UCCSD(T)/cc-pCVQZ</th>\n",
       "      <th>UCCSD(T)/cc-pCV5Z</th>\n",
       "      <th>UCCSD(T)/cc-pCV[23]Z</th>\n",
       "      <th>UCCSD(T)/cc-pCV[34]Z</th>\n",
       "      <th>UCCSD(T)/cc-pCV[45]Z</th>\n",
       "    </tr>\n",
       "  </thead>\n",
       "  <tbody>\n",
       "    <tr>\n",
       "      <th>MAD</th>\n",
       "      <td>103.07</td>\n",
       "      <td>34.00</td>\n",
       "      <td>13.46</td>\n",
       "      <td>6.61</td>\n",
       "      <td>14.74</td>\n",
       "      <td>1.68</td>\n",
       "      <td>0.90</td>\n",
       "    </tr>\n",
       "    <tr>\n",
       "      <th>MAXD</th>\n",
       "      <td>155.71</td>\n",
       "      <td>51.58</td>\n",
       "      <td>20.15</td>\n",
       "      <td>10.71</td>\n",
       "      <td>29.53</td>\n",
       "      <td>4.01</td>\n",
       "      <td>2.45</td>\n",
       "    </tr>\n",
       "    <tr>\n",
       "      <th>RMSD</th>\n",
       "      <td>109.18</td>\n",
       "      <td>36.45</td>\n",
       "      <td>14.52</td>\n",
       "      <td>7.25</td>\n",
       "      <td>16.76</td>\n",
       "      <td>2.10</td>\n",
       "      <td>1.09</td>\n",
       "    </tr>\n",
       "    <tr>\n",
       "      <th>MSD</th>\n",
       "      <td>-103.07</td>\n",
       "      <td>-34.00</td>\n",
       "      <td>-13.46</td>\n",
       "      <td>-6.61</td>\n",
       "      <td>-14.66</td>\n",
       "      <td>-0.23</td>\n",
       "      <td>0.08</td>\n",
       "    </tr>\n",
       "    <tr>\n",
       "      <th>STDEVD</th>\n",
       "      <td>37.19</td>\n",
       "      <td>13.58</td>\n",
       "      <td>5.63</td>\n",
       "      <td>3.08</td>\n",
       "      <td>8.39</td>\n",
       "      <td>2.15</td>\n",
       "      <td>1.12</td>\n",
       "    </tr>\n",
       "  </tbody>\n",
       "</table>\n",
       "</div>"
      ],
      "text/plain": [
       "        UCCSD(T)/cc-pCVDZ  UCCSD(T)/cc-pCVTZ  UCCSD(T)/cc-pCVQZ  \\\n",
       "MAD                103.07              34.00              13.46   \n",
       "MAXD               155.71              51.58              20.15   \n",
       "RMSD               109.18              36.45              14.52   \n",
       "MSD               -103.07             -34.00             -13.46   \n",
       "STDEVD              37.19              13.58               5.63   \n",
       "\n",
       "        UCCSD(T)/cc-pCV5Z  UCCSD(T)/cc-pCV[23]Z  UCCSD(T)/cc-pCV[34]Z  \\\n",
       "MAD                  6.61                 14.74                  1.68   \n",
       "MAXD                10.71                 29.53                  4.01   \n",
       "RMSD                 7.25                 16.76                  2.10   \n",
       "MSD                 -6.61                -14.66                 -0.23   \n",
       "STDEVD               3.08                  8.39                  2.15   \n",
       "\n",
       "        UCCSD(T)/cc-pCV[45]Z  \n",
       "MAD                     0.90  \n",
       "MAXD                    2.45  \n",
       "RMSD                    1.09  \n",
       "MSD                     0.08  \n",
       "STDEVD                  1.12  "
      ]
     },
     "execution_count": 8,
     "metadata": {},
     "output_type": "execute_result"
    }
   ],
   "source": [
    "pd.set_option('display.precision', 2)\n",
    "basis_errors=pymolpro.database.analyse([results['UCCSD(T)'][basis] for basis in bases], db, 'kj/mol')[\n",
    "    'reaction statistics']\n",
    "with open(project_name + '.basis_errors.tex', 'w') as tf:\n",
    "    tf.write('\\\\ifx\\\\toprule\\\\undefined\\\\def\\\\toprule{\\\\hline\\\\hline}\\n\\\\def\\\\midrule{\\\\hline}\\n\\\\def\\\\bottomrule{\\\\hline\\\\hline}\\\\fi') # or \\usepackage{booktabs}\n",
    "    tf.write(basis_errors.style.format(precision=2).to_latex(hrules=True,multicol_align='c',caption='Basis errors'))\n",
    "basis_errors"
   ]
  },
  {
   "cell_type": "code",
   "execution_count": 9,
   "metadata": {
    "ExecuteTime": {
     "end_time": "2023-05-02T12:34:14.194458Z",
     "start_time": "2023-05-02T12:34:13.814899Z"
    },
    "collapsed": false,
    "jupyter": {
     "outputs_hidden": false
    }
   },
   "outputs": [
    {
     "data": {
      "image/png": "[encoded data removed]",
      "text/plain": [
       "<Figure size 1800x600 with 5 Axes>"
      ]
     },
     "metadata": {},
     "output_type": "display_data"
    }
   ],
   "source": [
    "import matplotlib.pyplot as plt\n",
    "\n",
    "methods_pruned = [method for method in methods if method != 'HF']\n",
    "bases_pruned = ['cc-pCVTZ', 'cc-pCVQZ', 'cc-pCV5Z', 'cc-pCV[34]Z', 'cc-pCV[45]Z']\n",
    "fig, panes = plt.subplots(nrows=1, ncols=len(bases_pruned), sharey=True, figsize=(18, 6))\n",
    "\n",
    "for pane in range(len(bases_pruned)):\n",
    "    data = []\n",
    "    for method in methods_pruned:\n",
    "        data.append(\n",
    "            pymolpro.database.analyse(results[method][bases_pruned[pane]],\n",
    "                                      db,'kJ/mol')['reaction energy deviations'].to_numpy()[:, 0]\n",
    "        )\n",
    "    panes[pane].violinplot(data, showmeans=True, showextrema=True, vert=True, bw_method='silverman')\n",
    "    panes[pane].set_xticks(range(1, len(methods_pruned) + 1), labels=methods_pruned, rotation=-90)\n",
    "    panes[pane].set_title(bases_pruned[pane])\n",
    "panes[0].set_ylabel('Error / kJ/mol')\n",
    "plt.savefig(project_name + \".violin.pdf\")\n"
   ]
  }
 ],
 "metadata": {
  "kernelspec": {
   "display_name": "Python 3 (ipykernel)",
   "language": "python",
   "name": "python3"
  },
  "language_info": {
   "codemirror_mode": {
    "name": "ipython",
    "version": 3
   },
   "file_extension": ".py",
   "mimetype": "text/x-python",
   "name": "python",
   "nbconvert_exporter": "python",
   "pygments_lexer": "ipython3",
   "version": "3.13.7"
  },
  "toc": {
   "base_numbering": 1,
   "nav_menu": {},
   "number_sections": true,
   "sideBar": true,
   "skip_h1_title": false,
   "title_cell": "Table of Contents",
   "title_sidebar": "Contents",
   "toc_cell": false,
   "toc_position": {},
   "toc_section_display": true,
   "toc_window_display": false
  },
  "varInspector": {
   "cols": {
    "lenName": 16,
    "lenType": 16,
    "lenVar": 40
   },
   "kernels_config": {
    "python": {
     "delete_cmd_postfix": "",
     "delete_cmd_prefix": "del ",
     "library": "var_list.py",
     "varRefreshCmd": "print(var_dic_list())"
    },
    "r": {
     "delete_cmd_postfix": ") ",
     "delete_cmd_prefix": "rm(",
     "library": "var_list.r",
     "varRefreshCmd": "cat(var_dic_list()) "
    }
   },
   "types_to_exclude": [
    "module",
    "function",
    "builtin_function_or_method",
    "instance",
    "_Feature"
   ],
   "window_display": false
  }
 },
 "nbformat": 4,
 "nbformat_minor": 4
}
