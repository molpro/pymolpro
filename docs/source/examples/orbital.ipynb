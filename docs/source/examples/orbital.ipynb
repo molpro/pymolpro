{
 "cells": [
  {
   "cell_type": "code",
   "execution_count": 1,
   "outputs": [],
   "source": [
    "import pymolpro\n",
    "\n",
    "p = pymolpro.Project(\"orbital\")\n",
    "p.write_input(\"symmetry,nosym;geometry={o;h,o,r;h,o,r,h,theta};r=1 angstrom, theta=104 degree; rhf;locali,pipek,thrpip=1e-10;put,xml\")\n",
    "# p.write_input(\"symmetry,nosym;noorient;geometry={He,,0,0,10}; rhf;locali,pipek,thrpip=1e-10;put,xml\")\n",
    "p.run(wait=True)"
   ],
   "metadata": {
    "collapsed": false,
    "pycharm": {
     "name": "#%%\n"
    }
   }
  },
  {
   "cell_type": "code",
   "execution_count": 2,
   "outputs": [],
   "source": [
    "orbital_nodes = p.xpath(\"//orbitals/orbital[@occupation > 0.0]\")"
   ],
   "metadata": {
    "collapsed": false,
    "pycharm": {
     "name": "#%%\n"
    }
   }
  },
  {
   "cell_type": "code",
   "execution_count": 3,
   "outputs": [],
   "source": [
    "orbitals = [pymolpro.Orbital(node) for node in orbital_nodes]"
   ],
   "metadata": {
    "collapsed": false,
    "pycharm": {
     "name": "#%%\n"
    }
   }
  },
  {
   "cell_type": "code",
   "execution_count": 4,
   "outputs": [
    {
     "data": {
      "text/plain": "['1.00032259214714',\n '0.185397793444679E-02',\n '-0.139649284832046E-02',\n '0.554816773026979E-16',\n '0.327326113200703E-16',\n '0.23964654192511E-02',\n '0.136305479998509E-15',\n '-0.1022126608487E-15',\n '-0.172213059366656E-02',\n '-0.344957569220321E-04',\n '0.416083540249119E-04',\n '-0.711259710287984E-05',\n '0.241561191807949E-17',\n '0.535537187327892E-17',\n '-0.321150708264842E-16',\n '-0.343538066419894E-04',\n '0.449302879759006E-03',\n '0.576169538931214E-17',\n '0.43572166543381E-03',\n '0.393934591602476E-03',\n '-0.343538066423275E-04',\n '0.449302879759327E-03',\n '0.836144445248822E-17',\n '-0.435721665433944E-03',\n '0.393934591602575E-03']"
     },
     "execution_count": 4,
     "metadata": {},
     "output_type": "execute_result"
    }
   ],
   "source": [
    "orbital_nodes[0].text.split()"
   ],
   "metadata": {
    "collapsed": false,
    "pycharm": {
     "name": "#%%\n"
    }
   }
  },
  {
   "cell_type": "code",
   "execution_count": 5,
   "outputs": [
    {
     "name": "stdout",
     "output_type": "stream",
     "text": [
      "2.1 norm 0.9126367315238804 centroid [6.655397413420749e-13, -0.041797003994210866, -0.09973756787883] [-2.37765401154474e-13, -0.783171789429112, 0.524537657987887] XX 0.029378992629325633 ZZ 0.027307410644066672\n"
     ]
    }
   ],
   "source": [
    "for orbital in orbitals[1:2]:\n",
    "    points, weights = orbital.grid(18, 'Gauss-Hermite', True, scale=0.7)\n",
    "    # print(points)\n",
    "    # print(weights)\n",
    "    values = p.evaluateOrbitals(points, ID='1.1')['values']\n",
    "    norm = 0\n",
    "    centroid = [0, 0, 0]\n",
    "    smzz = 0\n",
    "    smxx = 0\n",
    "    for i in range(len(weights)):\n",
    "        norm += pow(values[i], 2) * weights[i]\n",
    "        smxx += pow(values[i], 2) * weights[i] * pow(points[i][0], 2)\n",
    "        smzz += pow(values[i], 2) * weights[i] * pow(points[i][2], 2)\n",
    "        for j in range(3):\n",
    "            centroid[j] += pow(values[i], 2) * weights[i] * points[i][j]\n",
    "    print(orbital.ID,\"norm\",norm,\"centroid\",centroid,orbital.centroid,\"XX\",smxx,\"ZZ\",smzz)"
   ],
   "metadata": {
    "collapsed": false,
    "pycharm": {
     "name": "#%%\n"
    }
   }
  },
  {
   "cell_type": "code",
   "execution_count": 6,
   "outputs": [
    {
     "ename": "SyntaxError",
     "evalue": "invalid syntax (3764833741.py, line 1)",
     "output_type": "error",
     "traceback": [
      "\u001B[0;36m  Cell \u001B[0;32mIn [6], line 1\u001B[0;36m\u001B[0m\n\u001B[0;31m    x    centroid\u001B[0m\n\u001B[0m         ^\u001B[0m\n\u001B[0;31mSyntaxError\u001B[0m\u001B[0;31m:\u001B[0m invalid syntax\n"
     ]
    }
   ],
   "source": [
    "x    centroid"
   ],
   "metadata": {
    "collapsed": false,
    "pycharm": {
     "name": "#%%\n"
    }
   }
  },
  {
   "cell_type": "code",
   "execution_count": null,
   "outputs": [],
   "source": [
    "[smxx, smzz]"
   ],
   "metadata": {
    "collapsed": false,
    "pycharm": {
     "name": "#%%\n"
    }
   }
  },
  {
   "cell_type": "markdown",
   "source": [],
   "metadata": {
    "collapsed": false,
    "pycharm": {
     "name": "#%% md\n"
    }
   }
  },
  {
   "cell_type": "code",
   "execution_count": null,
   "outputs": [],
   "source": [
    "orbitals[0].local_second_moments"
   ],
   "metadata": {
    "collapsed": false,
    "pycharm": {
     "name": "#%%\n"
    }
   }
  },
  {
   "cell_type": "code",
   "execution_count": null,
   "outputs": [],
   "source": [
    "orbitals[0].centroid"
   ],
   "metadata": {
    "collapsed": false,
    "pycharm": {
     "name": "#%%\n"
    }
   }
  },
  {
   "cell_type": "code",
   "execution_count": null,
   "outputs": [],
   "source": [
    "import numpy as np\n",
    "\n",
    "np.matmul(orbitals[1].second_moment_eigenvectors, orbitals[1].second_moment_eigenvectors.transpose())"
   ],
   "metadata": {
    "collapsed": false,
    "pycharm": {
     "name": "#%%\n"
    }
   }
  },
  {
   "cell_type": "code",
   "execution_count": null,
   "outputs": [],
   "source": [
    "for orbital in orbitals:\n",
    "    print(orbital.ID, orbital.centroid, orbital.second_moment_eigenvalues)"
   ],
   "metadata": {
    "collapsed": false,
    "pycharm": {
     "name": "#%%\n"
    }
   }
  },
  {
   "cell_type": "code",
   "execution_count": null,
   "outputs": [],
   "source": [
    "print(p.out)"
   ],
   "metadata": {
    "collapsed": false,
    "pycharm": {
     "name": "#%%\n"
    }
   }
  },
  {
   "cell_type": "code",
   "execution_count": null,
   "outputs": [],
   "source": [
    "len(points)"
   ],
   "metadata": {
    "collapsed": false,
    "pycharm": {
     "name": "#%%\n"
    }
   }
  },
  {
   "cell_type": "code",
   "execution_count": null,
   "outputs": [],
   "source": [
    "len(points[0])"
   ],
   "metadata": {
    "collapsed": false,
    "pycharm": {
     "name": "#%%\n"
    }
   }
  },
  {
   "cell_type": "code",
   "execution_count": null,
   "outputs": [],
   "source": [
    "print(p.out)\n"
   ],
   "metadata": {
    "collapsed": false,
    "pycharm": {
     "name": "#%%\n"
    }
   }
  },
  {
   "cell_type": "code",
   "execution_count": null,
   "outputs": [],
   "source": [
    "print(p.xml)\n"
   ],
   "metadata": {
    "collapsed": false,
    "pycharm": {
     "name": "#%%\n"
    }
   }
  },
  {
   "cell_type": "code",
   "execution_count": null,
   "outputs": [],
   "source": [
    "points = orbitals[0].grid(3)\n"
   ],
   "metadata": {
    "collapsed": false,
    "pycharm": {
     "name": "#%%\n"
    }
   }
  },
  {
   "cell_type": "code",
   "execution_count": null,
   "outputs": [],
   "source": [
    "points"
   ],
   "metadata": {
    "collapsed": false,
    "pycharm": {
     "name": "#%%\n"
    }
   }
  },
  {
   "cell_type": "code",
   "execution_count": null,
   "outputs": [],
   "source": [],
   "metadata": {
    "collapsed": false,
    "pycharm": {
     "name": "#%%\n"
    }
   }
  }
 ],
 "metadata": {
  "kernelspec": {
   "display_name": "Python 3",
   "language": "python",
   "name": "python3"
  },
  "language_info": {
   "codemirror_mode": {
    "name": "ipython",
    "version": 2
   },
   "file_extension": ".py",
   "mimetype": "text/x-python",
   "name": "python",
   "nbconvert_exporter": "python",
   "pygments_lexer": "ipython2",
   "version": "2.7.6"
  }
 },
 "nbformat": 4,
 "nbformat_minor": 0
}