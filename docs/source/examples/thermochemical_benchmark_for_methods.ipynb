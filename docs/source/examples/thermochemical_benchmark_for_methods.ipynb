{
 "cells": [
  {
   "cell_type": "markdown",
   "metadata": {},
   "source": [
    "# Closed shell reactions with core correlation"
   ]
  },
  {
   "cell_type": "markdown",
   "metadata": {},
   "source": [
    "Bak et al., [doi:10.1063/1.1357225](https://doi.org/10.1063/1.1357225) and [doi:10.1063/1.481544](https://doi.org/10.1063/1.481544)"
   ]
  },
  {
   "cell_type": "code",
   "execution_count": 1,
   "metadata": {},
   "outputs": [],
   "source": [
    "import pymolpro\n",
    "import pandas as pd"
   ]
  },
  {
   "cell_type": "code",
   "execution_count": 2,
   "metadata": {},
   "outputs": [],
   "source": [
    "backend = 'local' # If preferred, change this to one of the backends in your ~/.sjef/molpro/backends.xml that is ssh-accessible\n",
    "project_name = 'Core_Valence_reactions'\n",
    "# parallel = 7 # how many jobs to run at once"
   ]
  },
  {
   "cell_type": "code",
   "execution_count": 3,
   "metadata": {},
   "outputs": [],
   "source": [
    "methods = ['HF','MP2', 'CCSD', 'CCSD(T)']\n",
    "bases = ['cc-pCVDZ','cc-pCVTZ','cc-pCVQZ', 'cc-pCV5Z']"
   ]
  },
  {
   "cell_type": "code",
   "execution_count": 4,
   "metadata": {},
   "outputs": [],
   "source": [
    "closed_shell_methods={'B3LYP' : \"ks, b3lyp\", \"HF\" : \"hf\", \"MP2\":\"mp2\",\"MP3\":\"mp3\",\"MP4\":\"mp4\",\"CCSD\":\"ccsd\",\"CCSD(T)\":\"ccsd(t)\", \"PAPT2\":\"papt;mp2\", \"PAPT3\":\"papt;mp3\", \"PAPT4\":\"papt;mp4\"}"
   ]
  },
  {
   "cell_type": "code",
   "execution_count": 5,
   "metadata": {},
   "outputs": [],
   "source": [
    "db=pymolpro.database.library(\"Bak2000_reactions\")"
   ]
  },
  {
   "cell_type": "code",
   "execution_count": 6,
   "outputs": [],
   "source": [
    "results={}\n",
    "for method in methods:\n",
    "    results[method]={}\n",
    "    for basis in bases:\n",
    "        results[method][basis] = pymolpro.database.run(db,method,basis,location=project_name,backend=backend,preamble=\"core,small\")"
   ],
   "metadata": {
    "collapsed": false
   }
  },
  {
   "cell_type": "markdown",
   "metadata": {},
   "source": [
    "## Extrapolation"
   ]
  },
  {
   "cell_type": "code",
   "execution_count": 7,
   "metadata": {},
   "outputs": [],
   "source": [
    "extrapolations={}\n",
    "if 'cc-pCVDZ' in bases and 'cc-pCVTZ' in bases:\n",
    "    extrapolations[\"DT\"]={'x':2, 'first':'cc-pCVDZ', 'second':'cc-pCVTZ'}\n",
    "if 'cc-pCVTZ' in bases and 'cc-pCVQZ' in bases:\n",
    "    extrapolations[\"TQ\"]={'x':3, 'first':'cc-pCVTZ', 'second':'cc-pCVQZ'}\n",
    "if 'cc-pCVQZ' in bases and 'cc-pCV5Z' in bases:\n",
    "    extrapolations[\"Q5\"]={'x':4, 'first':'cc-pCVQZ', 'second':'cc-pCV5Z'}\n",
    "\n",
    "for extr in extrapolations:\n",
    "    x=extrapolations[extr]['x']\n",
    "    xbas=extrapolations[extr]['first']\n",
    "    xpbas=extrapolations[extr]['second']\n",
    "    for method in methods:\n",
    "        results[method][extr]=pymolpro.database.basis_extrapolate(\n",
    "            [results[method][xbas],results[method][xpbas]],\n",
    "            [results['HF'][xbas],results['HF'][xpbas]],\n",
    "            [x,x+1]\n",
    "        )\n",
    "    bases.append(extr) if extr not in bases else \"\"\n"
   ]
  },
  {
   "cell_type": "code",
   "execution_count": 8,
   "outputs": [
    {
     "data": {
      "text/plain": "              HF      MP2     CCSD  CCSD(T)\n        cc-pCV5Z cc-pCV5Z cc-pCV5Z cc-pCV5Z\nmean        9.25   -10.49    -5.78     0.39\nstdev      41.24    18.17     9.20     1.51\nmeanabs    29.06    14.46     9.37     1.30\nmaxabs    113.66    50.01    17.72     3.00",
      "text/html": "<div>\n<style scoped>\n    .dataframe tbody tr th:only-of-type {\n        vertical-align: middle;\n    }\n\n    .dataframe tbody tr th {\n        vertical-align: top;\n    }\n\n    .dataframe thead tr th {\n        text-align: left;\n    }\n</style>\n<table border=\"1\" class=\"dataframe\">\n  <thead>\n    <tr>\n      <th></th>\n      <th>HF</th>\n      <th>MP2</th>\n      <th>CCSD</th>\n      <th>CCSD(T)</th>\n    </tr>\n    <tr>\n      <th></th>\n      <th>cc-pCV5Z</th>\n      <th>cc-pCV5Z</th>\n      <th>cc-pCV5Z</th>\n      <th>cc-pCV5Z</th>\n    </tr>\n  </thead>\n  <tbody>\n    <tr>\n      <th>mean</th>\n      <td>9.25</td>\n      <td>-10.49</td>\n      <td>-5.78</td>\n      <td>0.39</td>\n    </tr>\n    <tr>\n      <th>stdev</th>\n      <td>41.24</td>\n      <td>18.17</td>\n      <td>9.20</td>\n      <td>1.51</td>\n    </tr>\n    <tr>\n      <th>meanabs</th>\n      <td>29.06</td>\n      <td>14.46</td>\n      <td>9.37</td>\n      <td>1.30</td>\n    </tr>\n    <tr>\n      <th>maxabs</th>\n      <td>113.66</td>\n      <td>50.01</td>\n      <td>17.72</td>\n      <td>3.00</td>\n    </tr>\n  </tbody>\n</table>\n</div>"
     },
     "execution_count": 8,
     "metadata": {},
     "output_type": "execute_result"
    }
   ],
   "source": [
    "pd.set_option('display.precision', 2)\n",
    "pymolpro.database.compare([results[method]['cc-pCV5Z'] for method in methods],db.reference_results())['reaction statistics']*2625.499"
   ],
   "metadata": {
    "collapsed": false
   }
  },
  {
   "cell_type": "code",
   "execution_count": 9,
   "outputs": [
    {
     "data": {
      "text/plain": "         CCSD(T)                                                     \\\n        cc-pCVDZ cc-pCVTZ cc-pCVQZ cc-pCV5Z cc-pCV[23]Z cc-pCV[34]Z   \nmean       33.39    11.31     3.02     0.39        2.70       -1.13   \nstdev      25.92     8.07     2.88     1.51        4.83        1.23   \nmeanabs    36.73    12.05     3.70     1.30        4.37        1.33   \nmaxabs     65.92    21.33     6.97     3.00       10.79        3.15   \n\n                     \n        cc-pCV[45]Z  \nmean          -0.83  \nstdev          1.22  \nmeanabs        1.19  \nmaxabs         3.49  ",
      "text/html": "<div>\n<style scoped>\n    .dataframe tbody tr th:only-of-type {\n        vertical-align: middle;\n    }\n\n    .dataframe tbody tr th {\n        vertical-align: top;\n    }\n\n    .dataframe thead tr th {\n        text-align: left;\n    }\n</style>\n<table border=\"1\" class=\"dataframe\">\n  <thead>\n    <tr>\n      <th></th>\n      <th colspan=\"7\" halign=\"left\">CCSD(T)</th>\n    </tr>\n    <tr>\n      <th></th>\n      <th>cc-pCVDZ</th>\n      <th>cc-pCVTZ</th>\n      <th>cc-pCVQZ</th>\n      <th>cc-pCV5Z</th>\n      <th>cc-pCV[23]Z</th>\n      <th>cc-pCV[34]Z</th>\n      <th>cc-pCV[45]Z</th>\n    </tr>\n  </thead>\n  <tbody>\n    <tr>\n      <th>mean</th>\n      <td>33.39</td>\n      <td>11.31</td>\n      <td>3.02</td>\n      <td>0.39</td>\n      <td>2.70</td>\n      <td>-1.13</td>\n      <td>-0.83</td>\n    </tr>\n    <tr>\n      <th>stdev</th>\n      <td>25.92</td>\n      <td>8.07</td>\n      <td>2.88</td>\n      <td>1.51</td>\n      <td>4.83</td>\n      <td>1.23</td>\n      <td>1.22</td>\n    </tr>\n    <tr>\n      <th>meanabs</th>\n      <td>36.73</td>\n      <td>12.05</td>\n      <td>3.70</td>\n      <td>1.30</td>\n      <td>4.37</td>\n      <td>1.33</td>\n      <td>1.19</td>\n    </tr>\n    <tr>\n      <th>maxabs</th>\n      <td>65.92</td>\n      <td>21.33</td>\n      <td>6.97</td>\n      <td>3.00</td>\n      <td>10.79</td>\n      <td>3.15</td>\n      <td>3.49</td>\n    </tr>\n  </tbody>\n</table>\n</div>"
     },
     "execution_count": 9,
     "metadata": {},
     "output_type": "execute_result"
    }
   ],
   "source": [
    "pd.set_option('display.precision', 2)\n",
    "pymolpro.database.compare([results['CCSD(T)'][basis] for basis in bases],db.reference_results())['reaction statistics']*2625.499"
   ],
   "metadata": {
    "collapsed": false
   }
  },
  {
   "cell_type": "code",
   "execution_count": 10,
   "outputs": [
    {
     "ename": "NameError",
     "evalue": "name 'error_with_respect_to_experimental_enthalpy' is not defined",
     "output_type": "error",
     "traceback": [
      "\u001B[0;31m---------------------------------------------------------------------------\u001B[0m",
      "\u001B[0;31mNameError\u001B[0m                                 Traceback (most recent call last)",
      "Cell \u001B[0;32mIn[10], line 9\u001B[0m\n\u001B[1;32m      7\u001B[0m data\u001B[38;5;241m=\u001B[39m[]\n\u001B[1;32m      8\u001B[0m \u001B[38;5;28;01mfor\u001B[39;00m method \u001B[38;5;129;01min\u001B[39;00m methods_pruned:\n\u001B[0;32m----> 9\u001B[0m     data\u001B[38;5;241m.\u001B[39mappend(\u001B[38;5;28mlist\u001B[39m(\u001B[43merror_with_respect_to_experimental_enthalpy\u001B[49m[bases_pruned[pane]][method]\u001B[38;5;241m.\u001B[39mvalues()))\n\u001B[1;32m     10\u001B[0m panes[pane]\u001B[38;5;241m.\u001B[39mviolinplot(data,showmeans\u001B[38;5;241m=\u001B[39m\u001B[38;5;28;01mTrue\u001B[39;00m,showextrema\u001B[38;5;241m=\u001B[39m\u001B[38;5;28;01mTrue\u001B[39;00m,vert\u001B[38;5;241m=\u001B[39m\u001B[38;5;28;01mTrue\u001B[39;00m, bw_method\u001B[38;5;241m=\u001B[39m\u001B[38;5;124m'\u001B[39m\u001B[38;5;124msilverman\u001B[39m\u001B[38;5;124m'\u001B[39m)\n\u001B[1;32m     11\u001B[0m panes[pane]\u001B[38;5;241m.\u001B[39mset_xticks(\u001B[38;5;28mrange\u001B[39m(\u001B[38;5;241m1\u001B[39m,\u001B[38;5;28mlen\u001B[39m(methods_pruned)\u001B[38;5;241m+\u001B[39m\u001B[38;5;241m1\u001B[39m),labels\u001B[38;5;241m=\u001B[39mmethods_pruned, rotation\u001B[38;5;241m=\u001B[39m\u001B[38;5;241m-\u001B[39m\u001B[38;5;241m90\u001B[39m)\n",
      "\u001B[0;31mNameError\u001B[0m: name 'error_with_respect_to_experimental_enthalpy' is not defined"
     ]
    },
    {
     "data": {
      "text/plain": "<Figure size 1800x600 with 3 Axes>",
      "image/png": "[encoded data removed]"
     },
     "metadata": {},
     "output_type": "display_data"
    }
   ],
   "source": [
    "import matplotlib.pyplot as plt\n",
    "methods_pruned = [method for method in methods if method != 'HF']\n",
    "bases_pruned = ['cc-pCV5Z','TQ','Q5']\n",
    "fig, panes = plt.subplots(nrows=1, ncols=len(bases_pruned), sharey=True, figsize=(18,6))\n",
    "\n",
    "for pane in range(len(bases_pruned)):\n",
    "    data=[]\n",
    "    for method in methods_pruned:\n",
    "        data.append(list(error_with_respect_to_experimental_enthalpy[bases_pruned[pane]][method].values()))\n",
    "    panes[pane].violinplot(data,showmeans=True,showextrema=True,vert=True, bw_method='silverman')\n",
    "    panes[pane].set_xticks(range(1,len(methods_pruned)+1),labels=methods_pruned, rotation=-90)\n",
    "    panes[pane].set_title(bases_pruned[pane])\n",
    "panes[0].set_ylabel('Error / kJ/mol')\n",
    "plt.savefig(project_name+\".violin.pdf\")"
   ],
   "metadata": {
    "collapsed": false
   }
  },
  {
   "cell_type": "markdown",
   "metadata": {},
   "source": [
    "## Calculated enthalpy changes"
   ]
  },
  {
   "cell_type": "code",
   "execution_count": null,
   "metadata": {},
   "outputs": [],
   "source": [
    "reactions={}\n",
    "reactions[\"1\"] = {\"CO\" : -1, \"H2\" : -1, \"CH2O\" : +1}\n",
    "reactions[\"2\"] = {\"N2\" : -1, \"H2\" : -3, \"NH3\" : +2}\n",
    "reactions[\"3\"] = {\"C2H2\" : -1, \"H2\" : -1, \"C2H4\" : +1}\n",
    "reactions[\"4\"] = {\"CO2\" : -1, \"H2\" : -4, \"CH4\" : +1, \"H2O\" : +2}\n",
    "reactions[\"5\"] = {\"CH2O\" : -1, \"H2\" : -2, \"CH4\" : +1, \"H2O\" : +1}\n",
    "reactions[\"6\"] = {\"CO\" : -1, \"H2\" : -3, \"CH4\" : +1, \"H2O\" : +1}\n",
    "reactions[\"7\"] = {\"HCN\" : -1, \"H2\" : -3, \"CH4\" : +1, \"NH3\" : +1}\n",
    "reactions[\"8\"] = {\"H2O2\" : -1, \"H2\" : -1, \"H2O\" : +2}\n",
    "reactions[\"9\"] = {\"HNO\" : -1, \"H2\" : -2, \"H2O\" : +1, \"NH3\" : +1}\n",
    "reactions[\"10\"] = {\"C2H2\" : -1, \"H2\" : -3, \"CH4\" : +2}\n",
    "reactions[\"11\"] = {\"CH2\" : -1, \"H2\" : -1, \"CH4\" : +1}\n",
    "reactions[\"12\"] = {\"F2\" : -1, \"H2\" : -1, \"HF\" : +2}\n",
    "reactions[\"13\"] = {\"CH2\" : -2, \"C2H4\" : +1}"
   ]
  },
  {
   "cell_type": "code",
   "execution_count": null,
   "metadata": {},
   "outputs": [],
   "source": [
    "Molpro_enthalpy={}\n",
    "for method in methods:\n",
    "    Molpro_enthalpy[method]={}\n",
    "    for basis in bases:\n",
    "        Molpro_enthalpy[method][basis]={}\n",
    "        for name in reactions:\n",
    "            reaction_enthalpy_au = 0\n",
    "            for molecule in reactions[name]:\n",
    "                reaction_enthalpy_au += energies[method][basis][molecule] * reactions[name][molecule]\n",
    "            reaction_enthalpy_kjmol = reaction_enthalpy_au * 2625.49963948\n",
    "            Molpro_enthalpy[method][basis][name] =+ reaction_enthalpy_kjmol\n",
    "            "
   ]
  },
  {
   "cell_type": "markdown",
   "metadata": {},
   "source": [
    "## Reference experimental and calculated reaction enthalpy changes "
   ]
  },
  {
   "cell_type": "code",
   "execution_count": null,
   "metadata": {},
   "outputs": [],
   "source": [
    "Exp_enthalpy={}\n",
    "for name in reactions:\n",
    "    reaction_enthalpy_kjmol = 0\n",
    "    for molecule in reactions[name]:\n",
    "        reaction_enthalpy_kjmol -= molecules[molecule][\"De_exp\"] * reactions[name][molecule]\n",
    "    Exp_enthalpy[name] =+ reaction_enthalpy_kjmol"
   ]
  },
  {
   "cell_type": "code",
   "execution_count": null,
   "metadata": {},
   "outputs": [],
   "source": [
    "Calc_enthalpy={}\n",
    "for name in reactions:\n",
    "    reaction_enthalpy_kjmol = 0\n",
    "    for molecule in reactions[name]:\n",
    "        reaction_enthalpy_kjmol -= molecules[molecule][\"De_calc\"] * reactions[name][molecule]\n",
    "    Calc_enthalpy[name] =+ reaction_enthalpy_kjmol"
   ]
  },
  {
   "cell_type": "markdown",
   "metadata": {},
   "source": [
    "## Statistical analysis of calculated enthalpy changes"
   ]
  },
  {
   "cell_type": "code",
   "execution_count": null,
   "metadata": {},
   "outputs": [],
   "source": [
    "def collect_errors(reference_data):\n",
    "    e={}\n",
    "    for basis in bases:\n",
    "        e[basis]={}\n",
    "        for method in methods:\n",
    "            e[basis][method]={}\n",
    "            for reaction in reactions:\n",
    "                e[basis][method][reaction] = Molpro_enthalpy[method][basis][reaction] - reference_data[reaction]\n",
    "    return e\n",
    "error_with_respect_to_experimental_enthalpy=collect_errors(Exp_enthalpy)\n",
    "error_with_respect_to_calculated_enthalpy=collect_errors(Calc_enthalpy)"
   ]
  },
  {
   "cell_type": "code",
   "execution_count": null,
   "metadata": {},
   "outputs": [],
   "source": [
    "methods_pruned = methods[1:]\n",
    "bases_pruned = ['cc-pCV5Z','TQ','Q5']\n",
    "fig, panes = plt.subplots(nrows=1, ncols=len(bases_pruned), sharey=True, figsize=(18,6))\n",
    "\n",
    "for pane in range(len(bases_pruned)):\n",
    "    data=[]\n",
    "    for method in methods_pruned:\n",
    "        data.append(list(error_with_respect_to_experimental_enthalpy[bases_pruned[pane]][method].values()))\n",
    "    panes[pane].violinplot(data,showmeans=True,showextrema=True,vert=True, bw_method='silverman')\n",
    "    panes[pane].set_xticks(range(1,len(methods_pruned)+1),labels=methods_pruned, rotation=-90)\n",
    "    panes[pane].set_title(bases_pruned[pane])\n",
    "panes[0].set_ylabel('Error / kJ/mol')\n",
    "plt.savefig(project_name+\".violin.pdf\")"
   ]
  },
  {
   "cell_type": "markdown",
   "metadata": {},
   "source": [
    "### Mean error"
   ]
  },
  {
   "cell_type": "code",
   "execution_count": null,
   "metadata": {},
   "outputs": [],
   "source": [
    "def error(method, basis, name):\n",
    "    return Molpro_enthalpy[method][basis][name]-Exp_enthalpy[name]\n",
    "\n",
    "lit_exp_molpro_error={}\n",
    "for name in reactions:\n",
    "    lit_exp_molpro_error[name]={}\n",
    "    for method in methods:\n",
    "        lit_exp_molpro_error[name][method]={}\n",
    "        for basis in bases:\n",
    "            lit_exp_molpro_error[name][method][basis]={}\n",
    "            test_enthalpy = Molpro_enthalpy[method][basis][name]\n",
    "            comparison_enthalpy = Exp_enthalpy[name]\n",
    "            error = test_enthalpy - comparison_enthalpy\n",
    "            lit_exp_molpro_error[name][method][basis] =+ error\n",
    "\n",
    "lit_exp_molpro_meanerror={}\n",
    "for method in methods:\n",
    "    lit_exp_molpro_meanerror[method]={}\n",
    "    for basis in bases:\n",
    "        lit_exp_molpro_meanerror[method][basis]={}\n",
    "        error_sum = 0\n",
    "        for name in reactions:\n",
    "            error_sum += lit_exp_molpro_error[name][method][basis]\n",
    "        mean_error = error_sum / len(reactions)\n",
    "        lit_exp_molpro_meanerror[method][basis] =+ mean_error"
   ]
  },
  {
   "cell_type": "code",
   "execution_count": null,
   "metadata": {},
   "outputs": [],
   "source": [
    "df_exp_reaction_meanerror=pd.DataFrame(data=lit_exp_molpro_meanerror)\n",
    "df_exp_reaction_meanerror.style.set_caption(\"Mean error\")"
   ]
  },
  {
   "cell_type": "markdown",
   "metadata": {},
   "source": [
    "### Mean absolute error"
   ]
  },
  {
   "cell_type": "code",
   "execution_count": null,
   "metadata": {},
   "outputs": [],
   "source": [
    "lit_exp_molpro_abserror={}\n",
    "for name in reactions:\n",
    "    lit_exp_molpro_abserror[name]={}\n",
    "    for method in methods:\n",
    "        lit_exp_molpro_abserror[name][method]={}\n",
    "        for basis in bases:\n",
    "            lit_exp_molpro_abserror[name][method][basis]={}\n",
    "            test_enthalpy = Molpro_enthalpy[method][basis][name]\n",
    "            comparison_enthalpy = Exp_enthalpy[name]\n",
    "            error = abs(test_enthalpy - comparison_enthalpy)\n",
    "            lit_exp_molpro_abserror[name][method][basis] =+ error\n",
    "\n",
    "\n",
    "lit_exp_molpro_meanabserror={}\n",
    "for method in methods:\n",
    "    lit_exp_molpro_meanabserror[method]={}\n",
    "    for basis in bases:\n",
    "        lit_exp_molpro_meanabserror[method][basis]={}\n",
    "        error_sum = 0\n",
    "        for name in reactions:\n",
    "            error_sum += lit_exp_molpro_abserror[name][method][basis]\n",
    "        mean_error = error_sum / len(reactions)\n",
    "        lit_exp_molpro_meanabserror[method][basis] =+ mean_error"
   ]
  },
  {
   "cell_type": "code",
   "execution_count": null,
   "metadata": {},
   "outputs": [],
   "source": [
    "df_exp_reaction_meanabserror=pd.DataFrame(data=lit_exp_molpro_meanabserror)\n",
    "df_exp_reaction_meanabserror.style.set_caption(\"Mean absolute error\")"
   ]
  },
  {
   "cell_type": "markdown",
   "metadata": {},
   "source": [
    "### Maximum error"
   ]
  },
  {
   "cell_type": "code",
   "execution_count": null,
   "metadata": {},
   "outputs": [],
   "source": [
    "lit_exp_molpro_maxerror={}\n",
    "for method in methods:\n",
    "    lit_exp_molpro_maxerror[method]={}\n",
    "    for basis in bases:\n",
    "        lit_exp_molpro_maxerror[method][basis]={}\n",
    "        max_error = 0\n",
    "        for name in reactions:\n",
    "            if abs(lit_exp_molpro_error[name][method][basis]) > abs(max_error):\n",
    "                max_error = lit_exp_molpro_error[name][method][basis]\n",
    "        lit_exp_molpro_maxerror[method][basis] =+ max_error"
   ]
  },
  {
   "cell_type": "code",
   "execution_count": null,
   "metadata": {},
   "outputs": [],
   "source": [
    "df_exp_reaction_maxerror=pd.DataFrame(data=lit_exp_molpro_maxerror)\n",
    "df_exp_reaction_maxerror.style.set_caption(\"Maximum error\")"
   ]
  },
  {
   "cell_type": "markdown",
   "metadata": {},
   "source": [
    "### Standard deviation"
   ]
  },
  {
   "cell_type": "code",
   "execution_count": null,
   "metadata": {},
   "outputs": [],
   "source": [
    "lit_exp_molpro_std={}\n",
    "for method in methods:\n",
    "    lit_exp_molpro_std[method]={}\n",
    "    for basis in bases:\n",
    "        lit_exp_molpro_std[method][basis]={}\n",
    "        sum_squared_errors = 0\n",
    "        for name in reactions:\n",
    "            squared_error = (lit_exp_molpro_error[name][method][basis] - lit_exp_molpro_meanerror[method][basis]) ** 2\n",
    "            sum_squared_errors += squared_error\n",
    "        SD_squared = sum_squared_errors / (len(reactions)-1)\n",
    "        SD = np.sqrt(SD_squared)\n",
    "        lit_exp_molpro_std[method][basis] = SD"
   ]
  },
  {
   "cell_type": "code",
   "execution_count": null,
   "metadata": {},
   "outputs": [],
   "source": [
    "df_exp_reaction_std=pd.DataFrame(data=lit_exp_molpro_std)\n",
    "df_exp_reaction_std.style.set_caption(\"Standard deviation of errors\")"
   ]
  },
  {
   "cell_type": "code",
   "execution_count": null,
   "metadata": {},
   "outputs": [],
   "source": [
    "with open(project_name+'.tex','w') as tf:\n",
    "    tf.write('\\\\def\\\\toprule{\\\\hline\\\\hline}\\n\\\\def\\\\midrule{\\\\hline}\\n\\\\def\\\\bottomrule{\\\\hline\\\\hline}')\n",
    "    tf.write(df_exp_reaction_meanerror.style.to_latex())\n",
    "    tf.write(df_exp_reaction_std.style.to_latex())\n",
    "    tf.write(df_exp_reaction_meanabserror.style.to_latex())\n",
    "    tf.write(df_exp_reaction_maxerror.style.to_latex())"
   ]
  },
  {
   "cell_type": "code",
   "execution_count": null,
   "outputs": [],
   "source": [],
   "metadata": {
    "collapsed": false
   }
  }
 ],
 "metadata": {
  "kernelspec": {
   "name": "python3",
   "language": "python",
   "display_name": "Python 3 (ipykernel)"
  },
  "language_info": {
   "codemirror_mode": {
    "name": "ipython",
    "version": 3
   },
   "file_extension": ".py",
   "mimetype": "text/x-python",
   "name": "python",
   "nbconvert_exporter": "python",
   "pygments_lexer": "ipython3",
   "version": "3.10.6"
  },
  "toc": {
   "base_numbering": 1,
   "nav_menu": {},
   "number_sections": true,
   "sideBar": true,
   "skip_h1_title": false,
   "title_cell": "Table of Contents",
   "title_sidebar": "Contents",
   "toc_cell": false,
   "toc_position": {},
   "toc_section_display": true,
   "toc_window_display": false
  },
  "varInspector": {
   "cols": {
    "lenName": 16,
    "lenType": 16,
    "lenVar": 40
   },
   "kernels_config": {
    "python": {
     "delete_cmd_postfix": "",
     "delete_cmd_prefix": "del ",
     "library": "var_list.py",
     "varRefreshCmd": "print(var_dic_list())"
    },
    "r": {
     "delete_cmd_postfix": ") ",
     "delete_cmd_prefix": "rm(",
     "library": "var_list.r",
     "varRefreshCmd": "cat(var_dic_list()) "
    }
   },
   "types_to_exclude": [
    "module",
    "function",
    "builtin_function_or_method",
    "instance",
    "_Feature"
   ],
   "window_display": false
  }
 },
 "nbformat": 4,
 "nbformat_minor": 4
}
