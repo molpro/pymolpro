{
 "cells": [
  {
   "cell_type": "markdown",
   "source": [
    "# Monitor progress of geometry optimisation"
   ],
   "metadata": {
    "collapsed": false
   }
  },
  {
   "cell_type": "code",
   "execution_count": 2,
   "metadata": {
    "collapsed": true
   },
   "outputs": [],
   "source": [
    "import pymolpro\n",
    "import matplotlib.pyplot as plt"
   ]
  },
  {
   "cell_type": "code",
   "execution_count": 21,
   "outputs": [],
   "source": [
    "import matplotlib.pyplot as plt\n",
    "\n",
    "acrolein=pymolpro.Project(\"acrolein\")\n",
    "acrolein.import_file(\"acrolein.xyz\")\n",
    "method=\"basis,cc-pVQZ;df-hf;df-mp2\"\n",
    "acrolein.write_input(f\"\"\"\n",
    "geometry=acrolein.xyz\n",
    "{method}\n",
    "optg\n",
    "put,xyz,opt.xyz\n",
    "\"\"\" )\n",
    "acrolein.run(force=True)"
   ],
   "metadata": {
    "collapsed": false,
    "pycharm": {
     "name": "#%%\n"
    }
   }
  },
  {
   "cell_type": "code",
   "execution_count": 22,
   "outputs": [
    {
     "ename": "XMLSyntaxError",
     "evalue": "Premature end of data in tag jobstep line 26, line 57, column 1 (<string>, line 57)",
     "output_type": "error",
     "traceback": [
      "Traceback \u001B[0;36m(most recent call last)\u001B[0m:\n",
      "\u001B[0m  File \u001B[1;32m/opt/homebrew/Caskroom/miniforge/base/envs/pymolpro-build/lib/python3.10/site-packages/IPython/core/interactiveshell.py:3378\u001B[0m in \u001B[1;35mrun_code\u001B[0m\n    exec(code_obj, self.user_global_ns, self.user_ns)\u001B[0m\n",
      "\u001B[0m  Cell \u001B[1;32mIn [22], line 3\u001B[0m\n    energies = acrolein.energies(preamble='//jobstep[@command=\"OPTG\"]//',method=\"MP2\")\u001B[0m\n",
      "\u001B[0m  File \u001B[1;32m~/trees/pymolpro/pymolpro/project.py:138\u001B[0m in \u001B[1;35menergies\u001B[0m\n    return self.properties('[@name=\"Energy\" or @name=\"total energy\"]', *args, **kwargs)\u001B[0m\n",
      "\u001B[0m  File \u001B[1;32m~/trees/pymolpro/pymolpro/project.py:121\u001B[0m in \u001B[1;35mproperties\u001B[0m\n    dictarray = [element_to_dict(node) for node in self.xpath(preamble + query)]\u001B[0m\n",
      "\u001B[0m  File \u001B[1;32m~/trees/sjef/pysjef/pysjef/project.py:96\u001B[0m in \u001B[1;35mxpath\u001B[0m\n    element = etree.parse(StringIO(self.xml), etree.XMLParser()).getroot()\u001B[0m\n",
      "\u001B[0m  File \u001B[1;32msrc/lxml/etree.pyx:3538\u001B[0m in \u001B[1;35mlxml.etree.parse\u001B[0m\n",
      "\u001B[0m  File \u001B[1;32msrc/lxml/parser.pxi:1893\u001B[0m in \u001B[1;35mlxml.etree._parseDocument\u001B[0m\n",
      "\u001B[0m  File \u001B[1;32msrc/lxml/parser.pxi:1913\u001B[0m in \u001B[1;35mlxml.etree._parseMemoryDocument\u001B[0m\n",
      "\u001B[0m  File \u001B[1;32msrc/lxml/parser.pxi:1793\u001B[0m in \u001B[1;35mlxml.etree._parseDoc\u001B[0m\n",
      "\u001B[0m  File \u001B[1;32msrc/lxml/parser.pxi:1082\u001B[0m in \u001B[1;35mlxml.etree._BaseParser._parseUnicodeDoc\u001B[0m\n",
      "\u001B[0m  File \u001B[1;32msrc/lxml/parser.pxi:615\u001B[0m in \u001B[1;35mlxml.etree._ParserContext._handleParseResultDoc\u001B[0m\n",
      "\u001B[0m  File \u001B[1;32msrc/lxml/parser.pxi:725\u001B[0m in \u001B[1;35mlxml.etree._handleParseResult\u001B[0m\n",
      "\u001B[0;36m  File \u001B[0;32msrc/lxml/parser.pxi:654\u001B[0;36m in \u001B[0;35mlxml.etree._raiseParseError\u001B[0;36m\n",
      "\u001B[0;36m  File \u001B[0;32m<string>:57\u001B[0;36m\u001B[0m\n\u001B[0;31mXMLSyntaxError\u001B[0m\u001B[0;31m:\u001B[0m Premature end of data in tag jobstep line 26, line 57, column 1\n"
     ]
    }
   ],
   "source": [
    "oldenergies=[]\n",
    "while True:\n",
    "    energies = acrolein.energies(preamble='//jobstep[@command=\"OPTG\"]//',method=\"MP2\")\n",
    "    if energies != oldenergies:\n",
    "        plt.plot(energies)\n",
    "        plt.xticks(range(len(energies)),[]);\n",
    "    if acrolein.status == 'completed' or acrolein.status == 'killed': break"
   ],
   "metadata": {
    "collapsed": false,
    "pycharm": {
     "name": "#%%\n"
    }
   }
  },
  {
   "cell_type": "code",
   "execution_count": 27,
   "outputs": [
    {
     "name": "stdout",
     "output_type": "stream",
     "text": [
      "<?xml version=\"1.0\"?>\n",
      "<molpro xmlns=\"http://www.molpro.net/schema/molpro-output\"\n",
      "  xmlns:xsd=\"http://www.w3.org/1999/XMLSchema\"\n",
      "  xmlns:cml=\"http://www.xml-cml.org/schema\"\n",
      "  xmlns:stm=\"http://www.xml-cml.org/schema\"\n",
      "  xmlns:xhtml=\"http://www.w3.org/1999/xhtml\">\n",
      " <job>\n",
      "  <stm:metadataList>\n",
      "   <stm:metadata name=\"dc:date\" content=\"2022-11-24T12:04:59+00:00\"/>\n",
      "   <stm:metadata name=\"dc:creator\" content=\"peterk\"/>\n",
      "   <stm:metadata name=\"cmlm:insilico\" content=\"Molpro\"/>\n",
      "  </stm:metadataList>\n",
      "  <platform pid=\"97849\">\n",
      "   <version major=\"2022\" minor=\"3\" SHA=\"037d71a8fcef44d454924c6e8a6f9a4fbf01cb74\"\n",
      "     integer_bits=\"64\" parallelism=\"serial\">\n",
      "    2022.3\n",
      "    <date year=\"2022\" month=\"11\" day=\"24\" hour=\"12\" minute=\"4\" second=\"59\">\n",
      "     2022-11-24T12:04:59\n",
      "    </date>\n",
      "   </version>\n",
      "   <licence id=\"peterk\"/>\n",
      "   <parallel processes=\"1\" nodes=\"1\" all_processes=\"1\" openmp=\"1\"/>\n",
      "   <dimensions natom=\"400\" nvalence=\"500\" nvalence_pno=\"1000\" nbasis=\"12000\" nstate=\"100\"\n",
      "     nsymm=\"16\" nrec=\"512\" nprim=\"2\" ncol=\"100\"/>\n",
      "  </platform>\n",
      "  <jobstep command=\"DF-HF-SCF\" commandset=\"SCFPRO\">\n",
      "   <cml:molecule>\n",
      "    <cml:symmetry pointGroup=\"C1\">\n",
      "    </cml:symmetry>\n",
      "    <cml:atomArray>\n",
      "     <cml:atom id=\"a1\" elementType=\"C\" x3=\"1.022197\" y3=\"-0.714829\" z3=\"1.11538\"/>\n",
      "     <cml:atom id=\"a2\" elementType=\"H\" x3=\"0.968744\" y3=\"-1.011154\" z3=\"2.156812\"/>\n",
      "     <cml:atom id=\"a3\" elementType=\"C\" x3=\"0.690864\" y3=\"-1.501554\" z3=\"0.30566E-01\"/>\n",
      "     <cml:atom id=\"a4\" elementType=\"H\" x3=\"0.242716\" y3=\"-2.487369\" z3=\"0.7611E-01\"/>\n",
      "     <cml:atom id=\"a5\" elementType=\"C\" x3=\"0.898152\" y3=\"-0.765527\" z3=\"-1.154479\"/>\n",
      "     <cml:atom id=\"a6\" elementType=\"H\" x3=\"0.658308\" y3=\"-1.114151\" z3=\"-2.152532\"/>\n",
      "     <cml:atom id=\"a7\" elementType=\"C\" x3=\"1.300376\" y3=\"0.543566\" z3=\"-0.824798\"/>\n",
      "     <cml:atom id=\"a8\" elementType=\"H\" x3=\"1.767914\" y3=\"1.203164\" z3=\"-1.551249\"/>\n",
      "     <cml:atom id=\"a9\" elementType=\"C\" x3=\"1.776608\" y3=\"0.485945\" z3=\"0.618971\"/>\n",
      "     <cml:atom id=\"a10\" elementType=\"H\" x3=\"1.645262\" y3=\"1.401061\" z3=\"1.200231\"/>\n",
      "     <cml:atom id=\"a11\" elementType=\"H\" x3=\"2.854197\" y3=\"0.24866\" z3=\"0.615996\"/>\n",
      "    </cml:atomArray>\n",
      "    <cml:bondArray>\n",
      "     <cml:bond atomRefs2=\"a1 a2\"/>\n",
      "     <cml:bond atomRefs2=\"a1 a3\"/>\n",
      "     <cml:bond atomRefs2=\"a3 a4\"/>\n",
      "     <cml:bond atomRefs2=\"a3 a5\"/>\n",
      "     <cml:bond atomRefs2=\"a5 a6\"/>\n",
      "     <cml:bond atomRefs2=\"a5 a7\"/>\n",
      "     <cml:bond atomRefs2=\"a7 a8\"/>\n",
      "     <cml:bond atomRefs2=\"a1 a9\"/>\n",
      "     <cml:bond atomRefs2=\"a7 a9\"/>\n",
      "     <cml:bond atomRefs2=\"a9 a10\"/>\n",
      "     <cml:bond atomRefs2=\"a9 a11\"/>\n",
      "    </cml:bondArray>\n",
      "   </cml:molecule>\n",
      "   <property name=\"Energy\" method=\"RHF\" principal=\"true\" stateSymmetry=\"1\" stateNumber=\"1\"\n",
      "     value=\"-192.840995914067\"/>\n",
      "   <property name=\"One-electron energy\" method=\"RHF\" value=\"-568.580177107287\"/>\n",
      "   <property name=\"Two-electron energy\" method=\"RHF\" value=\"219.511937684815\"/>\n",
      "   <property name=\"Kinetic energy\" method=\"RHF\" value=\"192.487398524708\"/>\n",
      "   <property name=\"Nuclear energy\" method=\"RHF\" value=\"156.227243508404\"/>\n",
      "   <property name=\"Virial quotient\" method=\"RHF\" value=\"-1.00183698980853\"/>\n",
      "   <property name=\"Dipole moment\" method=\"RHF\" principal=\"true\" stateSymmetry=\"1\"\n",
      "     stateNumber=\"1\"\n",
      "     value=\"0.228348119289194 -0.793354892056506E-01 0.926587501606946E-01\"/>\n",
      "   <time start=\"12:04:59\" end=\"12:05:17\" cpu=\"17.31\" system=\"1.45\" real=\"18.05\"/>\n",
      "   <storage units=\"megabyte\" memory=\"244.14\" sf=\"0.0\" df=\"126.54\" eaf=\"0.0\"/>\n",
      "   <summary overall_method=\"DF-HF/cc-pVQZ\"/>\n",
      "  </jobstep>\n",
      "  <jobstep command=\"DF-MP2\" commandset=\"CCSD\">\n",
      "   <property name=\"total energy\" method=\"SCS-MP2\" stateSymmetry=\"1\" stateNumber=\"1\"\n",
      "     value=\"-193.702310451265\"/>\n",
      "   <property name=\"energy\" method=\"Reference\" stateSymmetry=\"1\" stateNumber=\"1\"\n",
      "     value=\"-192.840995914068\"/>\n",
      "   <property name=\"singlet pair energy\" method=\"MP2\" stateSymmetry=\"1\" stateNumber=\"1\"\n",
      "     value=\"-0.559975555550362\"/>\n",
      "   <property name=\"triplet pair energy\" method=\"MP2\" stateSymmetry=\"1\" stateNumber=\"1\"\n",
      "     value=\"-0.304302649075995\"/>\n",
      "   <property name=\"correlation energy\" method=\"MP2\" stateSymmetry=\"1\" stateNumber=\"1\"\n",
      "     value=\"-0.864278204626357\"/>\n",
      "   <property name=\"total energy\" method=\"MP2\" principal=\"true\" stateSymmetry=\"1\"\n",
      "     stateNumber=\"1\" value=\"-193.705274118695\"/>\n",
      "\n"
     ]
    }
   ],
   "source": [
    "print(acrolein.xml)"
   ],
   "metadata": {
    "collapsed": false,
    "pycharm": {
     "name": "#%%\n"
    }
   }
  },
  {
   "cell_type": "code",
   "execution_count": null,
   "outputs": [],
   "source": [],
   "metadata": {
    "collapsed": false,
    "pycharm": {
     "name": "#%%\n"
    }
   }
  }
 ],
 "metadata": {
  "kernelspec": {
   "display_name": "Python 3",
   "language": "python",
   "name": "python3"
  },
  "language_info": {
   "codemirror_mode": {
    "name": "ipython",
    "version": 2
   },
   "file_extension": ".py",
   "mimetype": "text/x-python",
   "name": "python",
   "nbconvert_exporter": "python",
   "pygments_lexer": "ipython2",
   "version": "2.7.6"
  }
 },
 "nbformat": 4,
 "nbformat_minor": 0
}